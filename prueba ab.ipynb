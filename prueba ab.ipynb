{
 "cells": [
  {
   "cell_type": "markdown",
   "metadata": {},
   "source": [
    "# Proyecto Final"
   ]
  },
  {
   "cell_type": "markdown",
   "metadata": {},
   "source": [
    "# Pruebas A/B"
   ]
  },
  {
   "cell_type": "markdown",
   "metadata": {},
   "source": [
    "Estamos recibiendo una tarea analítica de una tienda en línea internacional. \n",
    "\n",
    "Un equipo antes de ti, realizó una prueba A/B pero no consiguieron completarla, abandonando la prueba antes de su analisis.\n",
    "Este equipo solo nos dejaron las especificaciones técnicas y los resultados de las pruebas.\n",
    "\n",
    "Nuestra tarea es ayudar a la empresa a entender los resultados obtenidos por el equipo anterior y  decirles si se han observados cambios en las compras de los clientes con los cambios estudiados, esperando como resultado al menos un 10% de aumento en las ventas.\n"
   ]
  },
  {
   "cell_type": "markdown",
   "metadata": {},
   "source": [
    "# Descripción técnica"
   ]
  },
  {
   "cell_type": "markdown",
   "metadata": {},
   "source": [
    "- Nombre de la prueba: `recommender_system_test`\n",
    "\n",
    "- Grupos: А (control), B (nuevo embudo de pago)\n",
    "\n",
    "- Launch date: 2020-12-07\n",
    "\n",
    "- Fecha en la que dejaron de aceptar nuevos usuarios: 2020-12-21\n",
    "\n",
    "- Fecha de finalización: 2021-01-01\n",
    "\n",
    "- Audiencia: 15% de los nuevos usuarios de la región de la UE\n",
    "\n",
    "- Propósito de la prueba: probar cambios relacionados con la introducción de un sistema de recomendaciones mejorado\n",
    "\n",
    "- Resultado esperado: dentro de los 14 días posteriores a la inscripción, los usuarios mostrarán una mejor conversión en vistas de la página del producto (el evento `product_page`), instancias de agregar artículos al carrito de compras (`product_card`) y compras (`purchase`). En cada etapa del embudo `product_page → product_card → purchase`, habrá al menos un 10% de aumento.\n",
    "\n",
    "- Número previsto de participantes de la prueba: 6 000"
   ]
  },
  {
   "cell_type": "markdown",
   "metadata": {},
   "source": [
    "# Descripción de los datos"
   ]
  },
  {
   "cell_type": "markdown",
   "metadata": {},
   "source": [
    "**De que trata cada data:**\n",
    "\n",
    "ab_project_marketing_events_us.csv — el calendario de eventos de marketing para 2020\n",
    "\n",
    "final_ab_new_users_upd_us.csv — todos los usuarios que se registraron en la tienda en línea desde el 7 hasta el 21 de diciembre de 2020\n",
    "\n",
    "final_ab_events_upd_us.csv — todos los eventos de los nuevos usuarios en el período comprendido entre el 7 de diciembre de 2020 y el 1 de enero de 2021\n",
    "\n",
    "final_ab_participants_upd_us.csv — tabla con los datos de los participantes de la prueba\n",
    "\n",
    "\n",
    "**Estructura ab_project__marketing_events_us.csv:**\n",
    "\n",
    "name — el nombre del evento de marketing\n",
    "\n",
    "regions — regiones donde se llevará a cabo la campaña publicitaria\n",
    "\n",
    "start_dt — fecha de inicio de la campaña\n",
    "\n",
    "finish_dt — fecha de finalización de la campaña\n",
    "\n",
    "\n",
    "**Estructura final_ab_new_users_upd_us.csv:**\n",
    "\n",
    "user_id\n",
    "\n",
    "first_date — fecha de inscripción\n",
    "\n",
    "region\n",
    "\n",
    "device — dispositivo utilizado para la inscripción\n",
    "\n",
    "\n",
    "**Estructura final_ab_events_upd_us.csv:**\n",
    "\n",
    "user_id\n",
    "\n",
    "event_dt — fecha y hora del evento\n",
    "\n",
    "event_name — nombre del tipo de evento\n",
    "\n",
    "details — datos adicionales sobre el evento (por ejemplo, el pedido total en USD para los eventos purchase)\n",
    "\n",
    "\n",
    "**Estructura final_ab_participants_upd_us.csv:**\n",
    "\n",
    "user_id\n",
    "\n",
    "ab_test — nombre de la prueba\n",
    "\n",
    "group — el grupo de prueba al que pertenecía el usuario"
   ]
  },
  {
   "cell_type": "markdown",
   "metadata": {},
   "source": [
    "# Objetivos del estudio A/B"
   ]
  },
  {
   "cell_type": "markdown",
   "metadata": {},
   "source": [
    "Como a hemos mencionado anteriormente nuestra tarea es ayudar a la empresa a entender los resultados obtenidos por el equipo anterior y  decirles si se han logrado alcanzar el 10% de aumento en las etapas que nos llevan a tener ventas de los usuarios esperado con los cambios en la página web."
   ]
  },
  {
   "cell_type": "markdown",
   "metadata": {},
   "source": [
    "# Descarga de los datos"
   ]
  },
  {
   "cell_type": "code",
   "execution_count": 59,
   "metadata": {},
   "outputs": [],
   "source": [
    "#cargar las librerias necesarias\n",
    "import pandas as pd\n",
    "import numpy as np\n",
    "import seaborn as sns\n",
    "from matplotlib import pyplot as plt\n",
    "import datetime as dt\n",
    "import scipy.stats as stats\n",
    "from scipy import stats as st"
   ]
  },
  {
   "cell_type": "code",
   "execution_count": 2,
   "metadata": {},
   "outputs": [],
   "source": [
    "#cargar los archivos\n",
    "calendario= pd.read_csv(\"/datasets/ab_project_marketing_events_us.csv\")\n",
    "new_users= pd.read_csv(\"/datasets/final_ab_new_users_upd_us.csv\")\n",
    "users_events= pd.read_csv(\"/datasets/final_ab_events_upd_us.csv\")\n",
    "prueba= pd.read_csv(\"/datasets/final_ab_participants_upd_us.csv\")"
   ]
  },
  {
   "cell_type": "markdown",
   "metadata": {},
   "source": [
    "# Preparación y limpieza de todos los datas"
   ]
  },
  {
   "cell_type": "markdown",
   "metadata": {},
   "source": [
    "### Data calendario"
   ]
  },
  {
   "cell_type": "code",
   "execution_count": 3,
   "metadata": {},
   "outputs": [
    {
     "name": "stdout",
     "output_type": "stream",
     "text": [
      "<class 'pandas.core.frame.DataFrame'>\n",
      "RangeIndex: 14 entries, 0 to 13\n",
      "Data columns (total 4 columns):\n",
      " #   Column     Non-Null Count  Dtype \n",
      "---  ------     --------------  ----- \n",
      " 0   name       14 non-null     object\n",
      " 1   regions    14 non-null     object\n",
      " 2   start_dt   14 non-null     object\n",
      " 3   finish_dt  14 non-null     object\n",
      "dtypes: object(4)\n",
      "memory usage: 576.0+ bytes\n"
     ]
    }
   ],
   "source": [
    "#manda a llamar info para conocer el tipo de datos que tenemos \n",
    "calendario.info()"
   ]
  },
  {
   "cell_type": "code",
   "execution_count": 4,
   "metadata": {},
   "outputs": [
    {
     "data": {
      "text/html": [
       "<div>\n",
       "<style scoped>\n",
       "    .dataframe tbody tr th:only-of-type {\n",
       "        vertical-align: middle;\n",
       "    }\n",
       "\n",
       "    .dataframe tbody tr th {\n",
       "        vertical-align: top;\n",
       "    }\n",
       "\n",
       "    .dataframe thead th {\n",
       "        text-align: right;\n",
       "    }\n",
       "</style>\n",
       "<table border=\"1\" class=\"dataframe\">\n",
       "  <thead>\n",
       "    <tr style=\"text-align: right;\">\n",
       "      <th></th>\n",
       "      <th>name</th>\n",
       "      <th>regions</th>\n",
       "      <th>start_dt</th>\n",
       "      <th>finish_dt</th>\n",
       "    </tr>\n",
       "  </thead>\n",
       "  <tbody>\n",
       "    <tr>\n",
       "      <th>0</th>\n",
       "      <td>Christmas&amp;New Year Promo</td>\n",
       "      <td>EU, N.America</td>\n",
       "      <td>2020-12-25</td>\n",
       "      <td>2021-01-03</td>\n",
       "    </tr>\n",
       "    <tr>\n",
       "      <th>1</th>\n",
       "      <td>St. Valentine's Day Giveaway</td>\n",
       "      <td>EU, CIS, APAC, N.America</td>\n",
       "      <td>2020-02-14</td>\n",
       "      <td>2020-02-16</td>\n",
       "    </tr>\n",
       "    <tr>\n",
       "      <th>2</th>\n",
       "      <td>St. Patric's Day Promo</td>\n",
       "      <td>EU, N.America</td>\n",
       "      <td>2020-03-17</td>\n",
       "      <td>2020-03-19</td>\n",
       "    </tr>\n",
       "    <tr>\n",
       "      <th>3</th>\n",
       "      <td>Easter Promo</td>\n",
       "      <td>EU, CIS, APAC, N.America</td>\n",
       "      <td>2020-04-12</td>\n",
       "      <td>2020-04-19</td>\n",
       "    </tr>\n",
       "    <tr>\n",
       "      <th>4</th>\n",
       "      <td>4th of July Promo</td>\n",
       "      <td>N.America</td>\n",
       "      <td>2020-07-04</td>\n",
       "      <td>2020-07-11</td>\n",
       "    </tr>\n",
       "    <tr>\n",
       "      <th>5</th>\n",
       "      <td>Black Friday Ads Campaign</td>\n",
       "      <td>EU, CIS, APAC, N.America</td>\n",
       "      <td>2020-11-26</td>\n",
       "      <td>2020-12-01</td>\n",
       "    </tr>\n",
       "    <tr>\n",
       "      <th>6</th>\n",
       "      <td>Chinese New Year Promo</td>\n",
       "      <td>APAC</td>\n",
       "      <td>2020-01-25</td>\n",
       "      <td>2020-02-07</td>\n",
       "    </tr>\n",
       "    <tr>\n",
       "      <th>7</th>\n",
       "      <td>Labor day (May 1st) Ads Campaign</td>\n",
       "      <td>EU, CIS, APAC</td>\n",
       "      <td>2020-05-01</td>\n",
       "      <td>2020-05-03</td>\n",
       "    </tr>\n",
       "    <tr>\n",
       "      <th>8</th>\n",
       "      <td>International Women's Day Promo</td>\n",
       "      <td>EU, CIS, APAC</td>\n",
       "      <td>2020-03-08</td>\n",
       "      <td>2020-03-10</td>\n",
       "    </tr>\n",
       "    <tr>\n",
       "      <th>9</th>\n",
       "      <td>Victory Day CIS (May 9th) Event</td>\n",
       "      <td>CIS</td>\n",
       "      <td>2020-05-09</td>\n",
       "      <td>2020-05-11</td>\n",
       "    </tr>\n",
       "    <tr>\n",
       "      <th>10</th>\n",
       "      <td>CIS New Year Gift Lottery</td>\n",
       "      <td>CIS</td>\n",
       "      <td>2020-12-30</td>\n",
       "      <td>2021-01-07</td>\n",
       "    </tr>\n",
       "    <tr>\n",
       "      <th>11</th>\n",
       "      <td>Dragon Boat Festival Giveaway</td>\n",
       "      <td>APAC</td>\n",
       "      <td>2020-06-25</td>\n",
       "      <td>2020-07-01</td>\n",
       "    </tr>\n",
       "    <tr>\n",
       "      <th>12</th>\n",
       "      <td>Single's Day Gift Promo</td>\n",
       "      <td>APAC</td>\n",
       "      <td>2020-11-11</td>\n",
       "      <td>2020-11-12</td>\n",
       "    </tr>\n",
       "    <tr>\n",
       "      <th>13</th>\n",
       "      <td>Chinese Moon Festival</td>\n",
       "      <td>APAC</td>\n",
       "      <td>2020-10-01</td>\n",
       "      <td>2020-10-07</td>\n",
       "    </tr>\n",
       "  </tbody>\n",
       "</table>\n",
       "</div>"
      ],
      "text/plain": [
       "                                name                   regions    start_dt  \\\n",
       "0           Christmas&New Year Promo             EU, N.America  2020-12-25   \n",
       "1       St. Valentine's Day Giveaway  EU, CIS, APAC, N.America  2020-02-14   \n",
       "2             St. Patric's Day Promo             EU, N.America  2020-03-17   \n",
       "3                       Easter Promo  EU, CIS, APAC, N.America  2020-04-12   \n",
       "4                  4th of July Promo                 N.America  2020-07-04   \n",
       "5          Black Friday Ads Campaign  EU, CIS, APAC, N.America  2020-11-26   \n",
       "6             Chinese New Year Promo                      APAC  2020-01-25   \n",
       "7   Labor day (May 1st) Ads Campaign             EU, CIS, APAC  2020-05-01   \n",
       "8    International Women's Day Promo             EU, CIS, APAC  2020-03-08   \n",
       "9    Victory Day CIS (May 9th) Event                       CIS  2020-05-09   \n",
       "10         CIS New Year Gift Lottery                       CIS  2020-12-30   \n",
       "11     Dragon Boat Festival Giveaway                      APAC  2020-06-25   \n",
       "12           Single's Day Gift Promo                      APAC  2020-11-11   \n",
       "13             Chinese Moon Festival                      APAC  2020-10-01   \n",
       "\n",
       "     finish_dt  \n",
       "0   2021-01-03  \n",
       "1   2020-02-16  \n",
       "2   2020-03-19  \n",
       "3   2020-04-19  \n",
       "4   2020-07-11  \n",
       "5   2020-12-01  \n",
       "6   2020-02-07  \n",
       "7   2020-05-03  \n",
       "8   2020-03-10  \n",
       "9   2020-05-11  \n",
       "10  2021-01-07  \n",
       "11  2020-07-01  \n",
       "12  2020-11-12  \n",
       "13  2020-10-07  "
      ]
     },
     "execution_count": 4,
     "metadata": {},
     "output_type": "execute_result"
    }
   ],
   "source": [
    "#visualia todo el data al ser corto\n",
    "calendario"
   ]
  },
  {
   "cell_type": "code",
   "execution_count": 5,
   "metadata": {},
   "outputs": [
    {
     "name": "stdout",
     "output_type": "stream",
     "text": [
      "name         0\n",
      "regions      0\n",
      "start_dt     0\n",
      "finish_dt    0\n",
      "dtype: int64\n"
     ]
    }
   ],
   "source": [
    "#buscar valores ausentes\n",
    "print(calendario.isna().sum())"
   ]
  },
  {
   "cell_type": "code",
   "execution_count": 6,
   "metadata": {},
   "outputs": [
    {
     "name": "stdout",
     "output_type": "stream",
     "text": [
      "0\n"
     ]
    }
   ],
   "source": [
    "#buscar filas duplicadas\n",
    "print(calendario.duplicated().sum())"
   ]
  },
  {
   "cell_type": "code",
   "execution_count": 7,
   "metadata": {},
   "outputs": [],
   "source": [
    "#cambio de tipo de dato para convertir a tipo fecha en columna start_dt\n",
    "calendario[\"start_dt\"]=pd.to_datetime(calendario[\"start_dt\"] , format=\"%Y-%m-%d\")"
   ]
  },
  {
   "cell_type": "code",
   "execution_count": 8,
   "metadata": {},
   "outputs": [],
   "source": [
    "#cambio de tipo de dato para convertir a tipo fecha en columna start_dt\n",
    "calendario[\"finish_dt\"]=pd.to_datetime(calendario[\"finish_dt\"] , format=\"%Y-%m-%d\")"
   ]
  },
  {
   "cell_type": "code",
   "execution_count": 9,
   "metadata": {},
   "outputs": [
    {
     "name": "stdout",
     "output_type": "stream",
     "text": [
      "<class 'pandas.core.frame.DataFrame'>\n",
      "RangeIndex: 14 entries, 0 to 13\n",
      "Data columns (total 4 columns):\n",
      " #   Column     Non-Null Count  Dtype         \n",
      "---  ------     --------------  -----         \n",
      " 0   name       14 non-null     object        \n",
      " 1   regions    14 non-null     object        \n",
      " 2   start_dt   14 non-null     datetime64[ns]\n",
      " 3   finish_dt  14 non-null     datetime64[ns]\n",
      "dtypes: datetime64[ns](2), object(2)\n",
      "memory usage: 576.0+ bytes\n"
     ]
    }
   ],
   "source": [
    "#info para corroborar el cambio de tipo de dato a datetime\n",
    "calendario.info()"
   ]
  },
  {
   "cell_type": "markdown",
   "metadata": {},
   "source": [
    "Podemos observar que en este data solo se tuvo que modificar el tipo de dato en las columnas de fechas. Este data no contaba con valores ausentes o duplicados a trabajar.\n",
    "Este data ya esta listo para su uso."
   ]
  },
  {
   "cell_type": "markdown",
   "metadata": {},
   "source": [
    "### Data new_users"
   ]
  },
  {
   "cell_type": "code",
   "execution_count": 10,
   "metadata": {},
   "outputs": [
    {
     "name": "stdout",
     "output_type": "stream",
     "text": [
      "<class 'pandas.core.frame.DataFrame'>\n",
      "RangeIndex: 58703 entries, 0 to 58702\n",
      "Data columns (total 4 columns):\n",
      " #   Column      Non-Null Count  Dtype \n",
      "---  ------      --------------  ----- \n",
      " 0   user_id     58703 non-null  object\n",
      " 1   first_date  58703 non-null  object\n",
      " 2   region      58703 non-null  object\n",
      " 3   device      58703 non-null  object\n",
      "dtypes: object(4)\n",
      "memory usage: 1.8+ MB\n"
     ]
    }
   ],
   "source": [
    "#manda a llamar info para conocer el tipo de datos que tenemos \n",
    "new_users.info()"
   ]
  },
  {
   "cell_type": "code",
   "execution_count": 11,
   "metadata": {},
   "outputs": [
    {
     "data": {
      "text/html": [
       "<div>\n",
       "<style scoped>\n",
       "    .dataframe tbody tr th:only-of-type {\n",
       "        vertical-align: middle;\n",
       "    }\n",
       "\n",
       "    .dataframe tbody tr th {\n",
       "        vertical-align: top;\n",
       "    }\n",
       "\n",
       "    .dataframe thead th {\n",
       "        text-align: right;\n",
       "    }\n",
       "</style>\n",
       "<table border=\"1\" class=\"dataframe\">\n",
       "  <thead>\n",
       "    <tr style=\"text-align: right;\">\n",
       "      <th></th>\n",
       "      <th>user_id</th>\n",
       "      <th>first_date</th>\n",
       "      <th>region</th>\n",
       "      <th>device</th>\n",
       "    </tr>\n",
       "  </thead>\n",
       "  <tbody>\n",
       "    <tr>\n",
       "      <th>0</th>\n",
       "      <td>D72A72121175D8BE</td>\n",
       "      <td>2020-12-07</td>\n",
       "      <td>EU</td>\n",
       "      <td>PC</td>\n",
       "    </tr>\n",
       "    <tr>\n",
       "      <th>1</th>\n",
       "      <td>F1C668619DFE6E65</td>\n",
       "      <td>2020-12-07</td>\n",
       "      <td>N.America</td>\n",
       "      <td>Android</td>\n",
       "    </tr>\n",
       "    <tr>\n",
       "      <th>2</th>\n",
       "      <td>2E1BF1D4C37EA01F</td>\n",
       "      <td>2020-12-07</td>\n",
       "      <td>EU</td>\n",
       "      <td>PC</td>\n",
       "    </tr>\n",
       "    <tr>\n",
       "      <th>3</th>\n",
       "      <td>50734A22C0C63768</td>\n",
       "      <td>2020-12-07</td>\n",
       "      <td>EU</td>\n",
       "      <td>iPhone</td>\n",
       "    </tr>\n",
       "    <tr>\n",
       "      <th>4</th>\n",
       "      <td>E1BDDCE0DAFA2679</td>\n",
       "      <td>2020-12-07</td>\n",
       "      <td>N.America</td>\n",
       "      <td>iPhone</td>\n",
       "    </tr>\n",
       "  </tbody>\n",
       "</table>\n",
       "</div>"
      ],
      "text/plain": [
       "            user_id  first_date     region   device\n",
       "0  D72A72121175D8BE  2020-12-07         EU       PC\n",
       "1  F1C668619DFE6E65  2020-12-07  N.America  Android\n",
       "2  2E1BF1D4C37EA01F  2020-12-07         EU       PC\n",
       "3  50734A22C0C63768  2020-12-07         EU   iPhone\n",
       "4  E1BDDCE0DAFA2679  2020-12-07  N.America   iPhone"
      ]
     },
     "execution_count": 11,
     "metadata": {},
     "output_type": "execute_result"
    }
   ],
   "source": [
    "#visualizan las primeras filas del data\n",
    "new_users.head()"
   ]
  },
  {
   "cell_type": "code",
   "execution_count": 12,
   "metadata": {},
   "outputs": [
    {
     "name": "stdout",
     "output_type": "stream",
     "text": [
      "user_id       0\n",
      "first_date    0\n",
      "region        0\n",
      "device        0\n",
      "dtype: int64\n"
     ]
    }
   ],
   "source": [
    "#buscar valores ausentes\n",
    "print(new_users.isna().sum())"
   ]
  },
  {
   "cell_type": "code",
   "execution_count": 13,
   "metadata": {},
   "outputs": [
    {
     "name": "stdout",
     "output_type": "stream",
     "text": [
      "0\n"
     ]
    }
   ],
   "source": [
    "#buscar filas duplicadas\n",
    "print(new_users.duplicated().sum())"
   ]
  },
  {
   "cell_type": "code",
   "execution_count": 14,
   "metadata": {},
   "outputs": [],
   "source": [
    "#cambio de tipo de dato para convertir a tipo fecha en columna start_dt\n",
    "new_users[\"first_date\"]=pd.to_datetime(new_users[\"first_date\"] , format=\"%Y-%m-%d\")"
   ]
  },
  {
   "cell_type": "code",
   "execution_count": 15,
   "metadata": {},
   "outputs": [
    {
     "name": "stdout",
     "output_type": "stream",
     "text": [
      "<class 'pandas.core.frame.DataFrame'>\n",
      "RangeIndex: 58703 entries, 0 to 58702\n",
      "Data columns (total 4 columns):\n",
      " #   Column      Non-Null Count  Dtype         \n",
      "---  ------      --------------  -----         \n",
      " 0   user_id     58703 non-null  object        \n",
      " 1   first_date  58703 non-null  datetime64[ns]\n",
      " 2   region      58703 non-null  object        \n",
      " 3   device      58703 non-null  object        \n",
      "dtypes: datetime64[ns](1), object(3)\n",
      "memory usage: 1.8+ MB\n"
     ]
    }
   ],
   "source": [
    "#info para corroborar el cambio de tipo de dato a datetime\n",
    "new_users.info()"
   ]
  },
  {
   "cell_type": "markdown",
   "metadata": {},
   "source": [
    "Podemos observar que en este data solo se tuvo que modificar el tipo de dato en la columna de fechas. Este data no contaba con valores ausentes o duplicados a trabajar.\n",
    "Este data ya esta listo para su uso."
   ]
  },
  {
   "cell_type": "markdown",
   "metadata": {},
   "source": [
    "### Data users_events"
   ]
  },
  {
   "cell_type": "code",
   "execution_count": 16,
   "metadata": {},
   "outputs": [
    {
     "name": "stdout",
     "output_type": "stream",
     "text": [
      "<class 'pandas.core.frame.DataFrame'>\n",
      "RangeIndex: 423761 entries, 0 to 423760\n",
      "Data columns (total 4 columns):\n",
      " #   Column      Non-Null Count   Dtype  \n",
      "---  ------      --------------   -----  \n",
      " 0   user_id     423761 non-null  object \n",
      " 1   event_dt    423761 non-null  object \n",
      " 2   event_name  423761 non-null  object \n",
      " 3   details     60314 non-null   float64\n",
      "dtypes: float64(1), object(3)\n",
      "memory usage: 12.9+ MB\n"
     ]
    }
   ],
   "source": [
    "#manda a llamar info para conocer el tipo de datos que tenemos \n",
    "users_events.info()"
   ]
  },
  {
   "cell_type": "code",
   "execution_count": 17,
   "metadata": {},
   "outputs": [
    {
     "data": {
      "text/html": [
       "<div>\n",
       "<style scoped>\n",
       "    .dataframe tbody tr th:only-of-type {\n",
       "        vertical-align: middle;\n",
       "    }\n",
       "\n",
       "    .dataframe tbody tr th {\n",
       "        vertical-align: top;\n",
       "    }\n",
       "\n",
       "    .dataframe thead th {\n",
       "        text-align: right;\n",
       "    }\n",
       "</style>\n",
       "<table border=\"1\" class=\"dataframe\">\n",
       "  <thead>\n",
       "    <tr style=\"text-align: right;\">\n",
       "      <th></th>\n",
       "      <th>user_id</th>\n",
       "      <th>event_dt</th>\n",
       "      <th>event_name</th>\n",
       "      <th>details</th>\n",
       "    </tr>\n",
       "  </thead>\n",
       "  <tbody>\n",
       "    <tr>\n",
       "      <th>0</th>\n",
       "      <td>E1BDDCE0DAFA2679</td>\n",
       "      <td>2020-12-07 20:22:03</td>\n",
       "      <td>purchase</td>\n",
       "      <td>99.99</td>\n",
       "    </tr>\n",
       "    <tr>\n",
       "      <th>1</th>\n",
       "      <td>7B6452F081F49504</td>\n",
       "      <td>2020-12-07 09:22:53</td>\n",
       "      <td>purchase</td>\n",
       "      <td>9.99</td>\n",
       "    </tr>\n",
       "    <tr>\n",
       "      <th>2</th>\n",
       "      <td>9CD9F34546DF254C</td>\n",
       "      <td>2020-12-07 12:59:29</td>\n",
       "      <td>purchase</td>\n",
       "      <td>4.99</td>\n",
       "    </tr>\n",
       "    <tr>\n",
       "      <th>3</th>\n",
       "      <td>96F27A054B191457</td>\n",
       "      <td>2020-12-07 04:02:40</td>\n",
       "      <td>purchase</td>\n",
       "      <td>4.99</td>\n",
       "    </tr>\n",
       "    <tr>\n",
       "      <th>4</th>\n",
       "      <td>1FD7660FDF94CA1F</td>\n",
       "      <td>2020-12-07 10:15:09</td>\n",
       "      <td>purchase</td>\n",
       "      <td>4.99</td>\n",
       "    </tr>\n",
       "  </tbody>\n",
       "</table>\n",
       "</div>"
      ],
      "text/plain": [
       "            user_id             event_dt event_name  details\n",
       "0  E1BDDCE0DAFA2679  2020-12-07 20:22:03   purchase    99.99\n",
       "1  7B6452F081F49504  2020-12-07 09:22:53   purchase     9.99\n",
       "2  9CD9F34546DF254C  2020-12-07 12:59:29   purchase     4.99\n",
       "3  96F27A054B191457  2020-12-07 04:02:40   purchase     4.99\n",
       "4  1FD7660FDF94CA1F  2020-12-07 10:15:09   purchase     4.99"
      ]
     },
     "execution_count": 17,
     "metadata": {},
     "output_type": "execute_result"
    }
   ],
   "source": [
    "#visualizan las primeras filas del data \n",
    "users_events.head()"
   ]
  },
  {
   "cell_type": "code",
   "execution_count": 18,
   "metadata": {},
   "outputs": [
    {
     "data": {
      "text/html": [
       "<div>\n",
       "<style scoped>\n",
       "    .dataframe tbody tr th:only-of-type {\n",
       "        vertical-align: middle;\n",
       "    }\n",
       "\n",
       "    .dataframe tbody tr th {\n",
       "        vertical-align: top;\n",
       "    }\n",
       "\n",
       "    .dataframe thead th {\n",
       "        text-align: right;\n",
       "    }\n",
       "</style>\n",
       "<table border=\"1\" class=\"dataframe\">\n",
       "  <thead>\n",
       "    <tr style=\"text-align: right;\">\n",
       "      <th></th>\n",
       "      <th>user_id</th>\n",
       "      <th>event_dt</th>\n",
       "      <th>event_name</th>\n",
       "      <th>details</th>\n",
       "    </tr>\n",
       "  </thead>\n",
       "  <tbody>\n",
       "    <tr>\n",
       "      <th>0</th>\n",
       "      <td>E1BDDCE0DAFA2679</td>\n",
       "      <td>2020-12-07 20:22:03</td>\n",
       "      <td>purchase</td>\n",
       "      <td>99.99</td>\n",
       "    </tr>\n",
       "    <tr>\n",
       "      <th>1</th>\n",
       "      <td>7B6452F081F49504</td>\n",
       "      <td>2020-12-07 09:22:53</td>\n",
       "      <td>purchase</td>\n",
       "      <td>9.99</td>\n",
       "    </tr>\n",
       "    <tr>\n",
       "      <th>2</th>\n",
       "      <td>9CD9F34546DF254C</td>\n",
       "      <td>2020-12-07 12:59:29</td>\n",
       "      <td>purchase</td>\n",
       "      <td>4.99</td>\n",
       "    </tr>\n",
       "    <tr>\n",
       "      <th>3</th>\n",
       "      <td>96F27A054B191457</td>\n",
       "      <td>2020-12-07 04:02:40</td>\n",
       "      <td>purchase</td>\n",
       "      <td>4.99</td>\n",
       "    </tr>\n",
       "    <tr>\n",
       "      <th>4</th>\n",
       "      <td>1FD7660FDF94CA1F</td>\n",
       "      <td>2020-12-07 10:15:09</td>\n",
       "      <td>purchase</td>\n",
       "      <td>4.99</td>\n",
       "    </tr>\n",
       "    <tr>\n",
       "      <th>...</th>\n",
       "      <td>...</td>\n",
       "      <td>...</td>\n",
       "      <td>...</td>\n",
       "      <td>...</td>\n",
       "    </tr>\n",
       "    <tr>\n",
       "      <th>423756</th>\n",
       "      <td>245E85F65C358E08</td>\n",
       "      <td>2020-12-30 19:35:55</td>\n",
       "      <td>login</td>\n",
       "      <td>NaN</td>\n",
       "    </tr>\n",
       "    <tr>\n",
       "      <th>423757</th>\n",
       "      <td>9385A108F5A0A7A7</td>\n",
       "      <td>2020-12-30 10:54:15</td>\n",
       "      <td>login</td>\n",
       "      <td>NaN</td>\n",
       "    </tr>\n",
       "    <tr>\n",
       "      <th>423758</th>\n",
       "      <td>DB650B7559AC6EAC</td>\n",
       "      <td>2020-12-30 10:59:09</td>\n",
       "      <td>login</td>\n",
       "      <td>NaN</td>\n",
       "    </tr>\n",
       "    <tr>\n",
       "      <th>423759</th>\n",
       "      <td>F80C9BDDEA02E53C</td>\n",
       "      <td>2020-12-30 09:53:39</td>\n",
       "      <td>login</td>\n",
       "      <td>NaN</td>\n",
       "    </tr>\n",
       "    <tr>\n",
       "      <th>423760</th>\n",
       "      <td>7AEC61159B672CC5</td>\n",
       "      <td>2020-12-30 11:36:13</td>\n",
       "      <td>login</td>\n",
       "      <td>NaN</td>\n",
       "    </tr>\n",
       "  </tbody>\n",
       "</table>\n",
       "<p>423761 rows × 4 columns</p>\n",
       "</div>"
      ],
      "text/plain": [
       "                 user_id             event_dt event_name  details\n",
       "0       E1BDDCE0DAFA2679  2020-12-07 20:22:03   purchase    99.99\n",
       "1       7B6452F081F49504  2020-12-07 09:22:53   purchase     9.99\n",
       "2       9CD9F34546DF254C  2020-12-07 12:59:29   purchase     4.99\n",
       "3       96F27A054B191457  2020-12-07 04:02:40   purchase     4.99\n",
       "4       1FD7660FDF94CA1F  2020-12-07 10:15:09   purchase     4.99\n",
       "...                  ...                  ...        ...      ...\n",
       "423756  245E85F65C358E08  2020-12-30 19:35:55      login      NaN\n",
       "423757  9385A108F5A0A7A7  2020-12-30 10:54:15      login      NaN\n",
       "423758  DB650B7559AC6EAC  2020-12-30 10:59:09      login      NaN\n",
       "423759  F80C9BDDEA02E53C  2020-12-30 09:53:39      login      NaN\n",
       "423760  7AEC61159B672CC5  2020-12-30 11:36:13      login      NaN\n",
       "\n",
       "[423761 rows x 4 columns]"
      ]
     },
     "execution_count": 18,
     "metadata": {},
     "output_type": "execute_result"
    }
   ],
   "source": [
    "users_events"
   ]
  },
  {
   "cell_type": "code",
   "execution_count": 19,
   "metadata": {},
   "outputs": [
    {
     "name": "stdout",
     "output_type": "stream",
     "text": [
      "user_id            0\n",
      "event_dt           0\n",
      "event_name         0\n",
      "details       363447\n",
      "dtype: int64\n"
     ]
    }
   ],
   "source": [
    "#buscar valores ausentes\n",
    "print(users_events.isna().sum())"
   ]
  },
  {
   "cell_type": "code",
   "execution_count": 20,
   "metadata": {},
   "outputs": [
    {
     "name": "stdout",
     "output_type": "stream",
     "text": [
      "0\n"
     ]
    }
   ],
   "source": [
    "#buscar filas duplicadas\n",
    "print(users_events.duplicated().sum())"
   ]
  },
  {
   "cell_type": "code",
   "execution_count": 21,
   "metadata": {},
   "outputs": [],
   "source": [
    "#cambio de tipo de dato para convertir a tipo fecha en columna start_dt\n",
    "users_events[\"event_dt\"]=pd.to_datetime(users_events[\"event_dt\"] , format=\"%Y-%m-%d\")"
   ]
  },
  {
   "cell_type": "code",
   "execution_count": 22,
   "metadata": {},
   "outputs": [
    {
     "name": "stdout",
     "output_type": "stream",
     "text": [
      "<class 'pandas.core.frame.DataFrame'>\n",
      "RangeIndex: 423761 entries, 0 to 423760\n",
      "Data columns (total 4 columns):\n",
      " #   Column      Non-Null Count   Dtype         \n",
      "---  ------      --------------   -----         \n",
      " 0   user_id     423761 non-null  object        \n",
      " 1   event_dt    423761 non-null  datetime64[ns]\n",
      " 2   event_name  423761 non-null  object        \n",
      " 3   details     60314 non-null   float64       \n",
      "dtypes: datetime64[ns](1), float64(1), object(2)\n",
      "memory usage: 12.9+ MB\n"
     ]
    }
   ],
   "source": [
    "#info para corroborar el cambio de tipo de dato a datetime\n",
    "users_events.info()"
   ]
  },
  {
   "cell_type": "markdown",
   "metadata": {},
   "source": [
    "Podemos observar que en este data contiene muchos valores ausentes en la columna deyails, estose debe a que solo la etapa details registra un monto de pago, las demás etapas no tienen monto, s por eso que contamos con un total de 86% ausente estos datos, por este motivo no se pueden sustituirse, a que sería inventar ingresos no existentes para la compaia.\n",
    "\n",
    "Ademas se modifico el tipo de dato en la columna de fechas. \n"
   ]
  },
  {
   "cell_type": "markdown",
   "metadata": {},
   "source": [
    "### Data prueba"
   ]
  },
  {
   "cell_type": "code",
   "execution_count": 23,
   "metadata": {},
   "outputs": [
    {
     "name": "stdout",
     "output_type": "stream",
     "text": [
      "<class 'pandas.core.frame.DataFrame'>\n",
      "RangeIndex: 14525 entries, 0 to 14524\n",
      "Data columns (total 3 columns):\n",
      " #   Column   Non-Null Count  Dtype \n",
      "---  ------   --------------  ----- \n",
      " 0   user_id  14525 non-null  object\n",
      " 1   group    14525 non-null  object\n",
      " 2   ab_test  14525 non-null  object\n",
      "dtypes: object(3)\n",
      "memory usage: 340.6+ KB\n"
     ]
    }
   ],
   "source": [
    "#manda a llamar info para conocer el tipo de datos que tenemos \n",
    "prueba.info()"
   ]
  },
  {
   "cell_type": "code",
   "execution_count": 24,
   "metadata": {},
   "outputs": [
    {
     "data": {
      "text/html": [
       "<div>\n",
       "<style scoped>\n",
       "    .dataframe tbody tr th:only-of-type {\n",
       "        vertical-align: middle;\n",
       "    }\n",
       "\n",
       "    .dataframe tbody tr th {\n",
       "        vertical-align: top;\n",
       "    }\n",
       "\n",
       "    .dataframe thead th {\n",
       "        text-align: right;\n",
       "    }\n",
       "</style>\n",
       "<table border=\"1\" class=\"dataframe\">\n",
       "  <thead>\n",
       "    <tr style=\"text-align: right;\">\n",
       "      <th></th>\n",
       "      <th>user_id</th>\n",
       "      <th>group</th>\n",
       "      <th>ab_test</th>\n",
       "    </tr>\n",
       "  </thead>\n",
       "  <tbody>\n",
       "    <tr>\n",
       "      <th>0</th>\n",
       "      <td>D1ABA3E2887B6A73</td>\n",
       "      <td>A</td>\n",
       "      <td>recommender_system_test</td>\n",
       "    </tr>\n",
       "    <tr>\n",
       "      <th>1</th>\n",
       "      <td>A7A3664BD6242119</td>\n",
       "      <td>A</td>\n",
       "      <td>recommender_system_test</td>\n",
       "    </tr>\n",
       "    <tr>\n",
       "      <th>2</th>\n",
       "      <td>DABC14FDDFADD29E</td>\n",
       "      <td>A</td>\n",
       "      <td>recommender_system_test</td>\n",
       "    </tr>\n",
       "    <tr>\n",
       "      <th>3</th>\n",
       "      <td>04988C5DF189632E</td>\n",
       "      <td>A</td>\n",
       "      <td>recommender_system_test</td>\n",
       "    </tr>\n",
       "    <tr>\n",
       "      <th>4</th>\n",
       "      <td>4FF2998A348C484F</td>\n",
       "      <td>A</td>\n",
       "      <td>recommender_system_test</td>\n",
       "    </tr>\n",
       "  </tbody>\n",
       "</table>\n",
       "</div>"
      ],
      "text/plain": [
       "            user_id group                  ab_test\n",
       "0  D1ABA3E2887B6A73     A  recommender_system_test\n",
       "1  A7A3664BD6242119     A  recommender_system_test\n",
       "2  DABC14FDDFADD29E     A  recommender_system_test\n",
       "3  04988C5DF189632E     A  recommender_system_test\n",
       "4  4FF2998A348C484F     A  recommender_system_test"
      ]
     },
     "execution_count": 24,
     "metadata": {},
     "output_type": "execute_result"
    }
   ],
   "source": [
    "#visualia todo el data al ser corto\n",
    "prueba.head()"
   ]
  },
  {
   "cell_type": "code",
   "execution_count": 25,
   "metadata": {},
   "outputs": [
    {
     "name": "stdout",
     "output_type": "stream",
     "text": [
      "user_id    0\n",
      "group      0\n",
      "ab_test    0\n",
      "dtype: int64\n"
     ]
    }
   ],
   "source": [
    "#buscar valores ausentes\n",
    "print(prueba.isna().sum())"
   ]
  },
  {
   "cell_type": "code",
   "execution_count": 26,
   "metadata": {},
   "outputs": [
    {
     "name": "stdout",
     "output_type": "stream",
     "text": [
      "0\n"
     ]
    }
   ],
   "source": [
    "#buscar filas duplicadas\n",
    "print(prueba.duplicated().sum())"
   ]
  },
  {
   "cell_type": "markdown",
   "metadata": {},
   "source": [
    "Este data no contaba con valores ausentes o duplicados a trabajar. Este data ya esta listo para su uso."
   ]
  },
  {
   "cell_type": "markdown",
   "metadata": {},
   "source": [
    "# Análisis exploratorio de datos "
   ]
  },
  {
   "cell_type": "markdown",
   "metadata": {},
   "source": [
    "   - ¿El número de eventos por usuario está distribuido equitativamente entre las muestras?\n",
    "    - ¿Hay usuarios que están presentes en ambas muestras?\n",
    "    - ¿Cómo se distribuye el número de eventos entre los días?\n",
    "    - ¿Hay alguna peculiaridad en los datos que hay que tener en cuenta antes de iniciar la prueba A/B?"
   ]
  },
  {
   "cell_type": "code",
   "execution_count": 27,
   "metadata": {},
   "outputs": [
    {
     "data": {
      "text/html": [
       "<div>\n",
       "<style scoped>\n",
       "    .dataframe tbody tr th:only-of-type {\n",
       "        vertical-align: middle;\n",
       "    }\n",
       "\n",
       "    .dataframe tbody tr th {\n",
       "        vertical-align: top;\n",
       "    }\n",
       "\n",
       "    .dataframe thead th {\n",
       "        text-align: right;\n",
       "    }\n",
       "</style>\n",
       "<table border=\"1\" class=\"dataframe\">\n",
       "  <thead>\n",
       "    <tr style=\"text-align: right;\">\n",
       "      <th></th>\n",
       "      <th>user_id</th>\n",
       "    </tr>\n",
       "    <tr>\n",
       "      <th>event_name</th>\n",
       "      <th></th>\n",
       "    </tr>\n",
       "  </thead>\n",
       "  <tbody>\n",
       "    <tr>\n",
       "      <th>login</th>\n",
       "      <td>58696</td>\n",
       "    </tr>\n",
       "    <tr>\n",
       "      <th>product_page</th>\n",
       "      <td>38929</td>\n",
       "    </tr>\n",
       "    <tr>\n",
       "      <th>purchase</th>\n",
       "      <td>19568</td>\n",
       "    </tr>\n",
       "    <tr>\n",
       "      <th>product_cart</th>\n",
       "      <td>19284</td>\n",
       "    </tr>\n",
       "  </tbody>\n",
       "</table>\n",
       "</div>"
      ],
      "text/plain": [
       "              user_id\n",
       "event_name           \n",
       "login           58696\n",
       "product_page    38929\n",
       "purchase        19568\n",
       "product_cart    19284"
      ]
     },
     "execution_count": 27,
     "metadata": {},
     "output_type": "execute_result"
    }
   ],
   "source": [
    "#Crear un embudo para la conversion de los usuarios en diferentes etapas.\n",
    "users_count = users_events.groupby('event_name').agg({'user_id': 'nunique'}) #numero de usuarios unicos por evento\n",
    "users_count= users_count.sort_values(by = 'user_id', ascending=False) #ordenar en orden descendente\n",
    "users_count"
   ]
  },
  {
   "cell_type": "code",
   "execution_count": 28,
   "metadata": {},
   "outputs": [
    {
     "data": {
      "image/png": "[encoded data removed]",
      "text/plain": [
       "<Figure size 640x480 with 1 Axes>"
      ]
     },
     "metadata": {},
     "output_type": "display_data"
    }
   ],
   "source": [
    "#graficar embudo por eventos sin orden sugerido\n",
    "users_count.plot(y=\"user_id\", kind= \"bar\", xlabel= \"Eventos\",\n",
    "                   ylabel=\"Cantidad de usuarios\",\n",
    "                   title=\"Embudo por eventos en los clientes\", \n",
    "                   color=\"hotpink\")\n",
    "plt.show()"
   ]
  },
  {
   "cell_type": "code",
   "execution_count": 29,
   "metadata": {},
   "outputs": [
    {
     "name": "stdout",
     "output_type": "stream",
     "text": [
      "event_name                     login        product_cart        product_page  \\\n",
      "user_id                                                                        \n",
      "0001710F4DDB1D1B 2020-12-14 20:20:40 2020-12-14 20:20:42 2020-12-14 20:20:41   \n",
      "000199F1887AE5E6 2020-12-14 09:56:09 2020-12-14 09:56:11 2020-12-14 09:56:09   \n",
      "0002499E372175C7 2020-12-22 03:49:52                 NaT 2020-12-22 03:49:55   \n",
      "0002CE61FF2C4011 2020-12-07 04:37:36 2020-12-07 04:37:37 2020-12-07 04:37:42   \n",
      "000456437D0EFFE1 2020-12-15 11:25:03                 NaT 2020-12-15 11:25:04   \n",
      "\n",
      "event_name                  purchase  \n",
      "user_id                               \n",
      "0001710F4DDB1D1B                 NaT  \n",
      "000199F1887AE5E6 2020-12-14 09:56:09  \n",
      "0002499E372175C7 2020-12-22 03:49:52  \n",
      "0002CE61FF2C4011                 NaT  \n",
      "000456437D0EFFE1                 NaT  \n"
     ]
    }
   ],
   "source": [
    "#crea una cohorte con la 1er fecha de cada acción de los usuarios\n",
    "users = users_events.pivot_table(\n",
    "    index='user_id', \n",
    "    columns='event_name', \n",
    "    values='event_dt',\n",
    "    aggfunc='min')\n",
    "print(users.head())"
   ]
  },
  {
   "cell_type": "code",
   "execution_count": 30,
   "metadata": {},
   "outputs": [
    {
     "name": "stdout",
     "output_type": "stream",
     "text": [
      "Visitantes: 58696\n",
      "Vio productos: 22119\n",
      "Carrito de pago: 1347\n",
      "Pagado: 6\n"
     ]
    }
   ],
   "source": [
    "#se usa el orden sugerido por la empresa para cerar el embudo correcto\n",
    "step_1 = ~users['login'].isna()\n",
    "step_2 = step_1 & (users['product_page'] > users['login'])\n",
    "step_3 = step_2 & (users['product_cart'] > users['product_page'])\n",
    "step_4 = step_3 & (users['purchase'] > users['product_cart'])\n",
    "\n",
    "n_pageview = users[step_1].shape[0]\n",
    "n_offers = users[step_2].shape[0]\n",
    "n_checkout = users[step_3].shape[0]\n",
    "n_payment = users[step_4].shape[0]\n",
    "\n",
    "print('Visitantes:', n_pageview)\n",
    "print('Vio productos:', n_offers)\n",
    "print('Carrito de pago:', n_checkout)\n",
    "print('Pagado:', n_payment)"
   ]
  },
  {
   "cell_type": "markdown",
   "metadata": {},
   "source": [
    "Podemos observar que con el orden sugerido qu nos da la tienda existe una gran diferencia que el primer umbudo creado, esto nos sugiere que no todos los clientes toman la misma ruta para realiar sus compras, lo que debe ser considera por la empresa ya que busca un aumento del 10% en todas las etapas pero eso no condicona en todas las ocasiones que la compra se lleve a cabo como ellos espran."
   ]
  },
  {
   "cell_type": "code",
   "execution_count": 31,
   "metadata": {},
   "outputs": [
    {
     "data": {
      "text/html": [
       "<div>\n",
       "<style scoped>\n",
       "    .dataframe tbody tr th:only-of-type {\n",
       "        vertical-align: middle;\n",
       "    }\n",
       "\n",
       "    .dataframe tbody tr th {\n",
       "        vertical-align: top;\n",
       "    }\n",
       "\n",
       "    .dataframe thead th {\n",
       "        text-align: right;\n",
       "    }\n",
       "</style>\n",
       "<table border=\"1\" class=\"dataframe\">\n",
       "  <thead>\n",
       "    <tr style=\"text-align: right;\">\n",
       "      <th></th>\n",
       "      <th>event_name</th>\n",
       "      <th>user_id</th>\n",
       "    </tr>\n",
       "  </thead>\n",
       "  <tbody>\n",
       "    <tr>\n",
       "      <th>0</th>\n",
       "      <td>login</td>\n",
       "      <td>58696</td>\n",
       "    </tr>\n",
       "    <tr>\n",
       "      <th>1</th>\n",
       "      <td>product_page</td>\n",
       "      <td>38929</td>\n",
       "    </tr>\n",
       "    <tr>\n",
       "      <th>2</th>\n",
       "      <td>purchase</td>\n",
       "      <td>19568</td>\n",
       "    </tr>\n",
       "    <tr>\n",
       "      <th>3</th>\n",
       "      <td>product_cart</td>\n",
       "      <td>19284</td>\n",
       "    </tr>\n",
       "  </tbody>\n",
       "</table>\n",
       "</div>"
      ],
      "text/plain": [
       "     event_name  user_id\n",
       "0         login    58696\n",
       "1  product_page    38929\n",
       "2      purchase    19568\n",
       "3  product_cart    19284"
      ]
     },
     "execution_count": 31,
     "metadata": {},
     "output_type": "execute_result"
    }
   ],
   "source": [
    "#Utiliza el embudo de eventos para encontrar la proporción de usuarios que pasan de una etapa a la siguiente. \n",
    "\n",
    "#visualiza data a usar y se resetea el indice para su uso\n",
    "users_count= users_count.sort_values(by=\"user_id\", ascending=False).reset_index()\n",
    "users_count"
   ]
  },
  {
   "cell_type": "code",
   "execution_count": 32,
   "metadata": {},
   "outputs": [
    {
     "data": {
      "text/html": [
       "<div>\n",
       "<style scoped>\n",
       "    .dataframe tbody tr th:only-of-type {\n",
       "        vertical-align: middle;\n",
       "    }\n",
       "\n",
       "    .dataframe tbody tr th {\n",
       "        vertical-align: top;\n",
       "    }\n",
       "\n",
       "    .dataframe thead th {\n",
       "        text-align: right;\n",
       "    }\n",
       "</style>\n",
       "<table border=\"1\" class=\"dataframe\">\n",
       "  <thead>\n",
       "    <tr style=\"text-align: right;\">\n",
       "      <th></th>\n",
       "      <th>event_name</th>\n",
       "      <th>user_id</th>\n",
       "      <th>valor_anterior</th>\n",
       "    </tr>\n",
       "  </thead>\n",
       "  <tbody>\n",
       "    <tr>\n",
       "      <th>0</th>\n",
       "      <td>login</td>\n",
       "      <td>58696</td>\n",
       "      <td>NaN</td>\n",
       "    </tr>\n",
       "    <tr>\n",
       "      <th>1</th>\n",
       "      <td>product_page</td>\n",
       "      <td>38929</td>\n",
       "      <td>58696.0</td>\n",
       "    </tr>\n",
       "    <tr>\n",
       "      <th>2</th>\n",
       "      <td>purchase</td>\n",
       "      <td>19568</td>\n",
       "      <td>38929.0</td>\n",
       "    </tr>\n",
       "    <tr>\n",
       "      <th>3</th>\n",
       "      <td>product_cart</td>\n",
       "      <td>19284</td>\n",
       "      <td>19568.0</td>\n",
       "    </tr>\n",
       "  </tbody>\n",
       "</table>\n",
       "</div>"
      ],
      "text/plain": [
       "     event_name  user_id  valor_anterior\n",
       "0         login    58696             NaN\n",
       "1  product_page    38929         58696.0\n",
       "2      purchase    19568         38929.0\n",
       "3  product_cart    19284         19568.0"
      ]
     },
     "execution_count": 32,
     "metadata": {},
     "output_type": "execute_result"
    }
   ],
   "source": [
    "#se crea una columna con los valores anteriores para sacar el porcentaje usando shift\n",
    "users_count[\"valor_anterior\"]=users_count[\"user_id\"].shift(1)\n",
    "users_count"
   ]
  },
  {
   "cell_type": "code",
   "execution_count": 33,
   "metadata": {},
   "outputs": [
    {
     "data": {
      "text/html": [
       "<div>\n",
       "<style scoped>\n",
       "    .dataframe tbody tr th:only-of-type {\n",
       "        vertical-align: middle;\n",
       "    }\n",
       "\n",
       "    .dataframe tbody tr th {\n",
       "        vertical-align: top;\n",
       "    }\n",
       "\n",
       "    .dataframe thead th {\n",
       "        text-align: right;\n",
       "    }\n",
       "</style>\n",
       "<table border=\"1\" class=\"dataframe\">\n",
       "  <thead>\n",
       "    <tr style=\"text-align: right;\">\n",
       "      <th></th>\n",
       "      <th>event_name</th>\n",
       "      <th>user_id</th>\n",
       "      <th>valor_anterior</th>\n",
       "      <th>conversion_entre_etapas</th>\n",
       "    </tr>\n",
       "  </thead>\n",
       "  <tbody>\n",
       "    <tr>\n",
       "      <th>0</th>\n",
       "      <td>login</td>\n",
       "      <td>58696</td>\n",
       "      <td>NaN</td>\n",
       "      <td>NaN</td>\n",
       "    </tr>\n",
       "    <tr>\n",
       "      <th>1</th>\n",
       "      <td>product_page</td>\n",
       "      <td>38929</td>\n",
       "      <td>58696.0</td>\n",
       "      <td>66.323088</td>\n",
       "    </tr>\n",
       "    <tr>\n",
       "      <th>2</th>\n",
       "      <td>purchase</td>\n",
       "      <td>19568</td>\n",
       "      <td>38929.0</td>\n",
       "      <td>50.265869</td>\n",
       "    </tr>\n",
       "    <tr>\n",
       "      <th>3</th>\n",
       "      <td>product_cart</td>\n",
       "      <td>19284</td>\n",
       "      <td>19568.0</td>\n",
       "      <td>98.548651</td>\n",
       "    </tr>\n",
       "  </tbody>\n",
       "</table>\n",
       "</div>"
      ],
      "text/plain": [
       "     event_name  user_id  valor_anterior  conversion_entre_etapas\n",
       "0         login    58696             NaN                      NaN\n",
       "1  product_page    38929         58696.0                66.323088\n",
       "2      purchase    19568         38929.0                50.265869\n",
       "3  product_cart    19284         19568.0                98.548651"
      ]
     },
     "execution_count": 33,
     "metadata": {},
     "output_type": "execute_result"
    }
   ],
   "source": [
    "#crea la formula para calcular el % de conversion entre etapas\n",
    "users_count[\"conversion_entre_etapas\"] = (users_count[\"user_id\"]* 100) /users_count[\"valor_anterior\"]\n",
    "\n",
    "users_count"
   ]
  },
  {
   "cell_type": "markdown",
   "metadata": {},
   "source": [
    "**Valor Nan en el primer dato corresponden al 100% de nuestros usuarios**"
   ]
  },
  {
   "cell_type": "code",
   "execution_count": 34,
   "metadata": {},
   "outputs": [
    {
     "data": {
      "text/html": [
       "<div>\n",
       "<style scoped>\n",
       "    .dataframe tbody tr th:only-of-type {\n",
       "        vertical-align: middle;\n",
       "    }\n",
       "\n",
       "    .dataframe tbody tr th {\n",
       "        vertical-align: top;\n",
       "    }\n",
       "\n",
       "    .dataframe thead th {\n",
       "        text-align: right;\n",
       "    }\n",
       "</style>\n",
       "<table border=\"1\" class=\"dataframe\">\n",
       "  <thead>\n",
       "    <tr style=\"text-align: right;\">\n",
       "      <th></th>\n",
       "      <th>event_name</th>\n",
       "      <th>user_id</th>\n",
       "      <th>valor_anterior</th>\n",
       "      <th>conversion_entre_etapas</th>\n",
       "      <th>conversion_total</th>\n",
       "    </tr>\n",
       "  </thead>\n",
       "  <tbody>\n",
       "    <tr>\n",
       "      <th>0</th>\n",
       "      <td>login</td>\n",
       "      <td>58696</td>\n",
       "      <td>NaN</td>\n",
       "      <td>NaN</td>\n",
       "      <td>100.000000</td>\n",
       "    </tr>\n",
       "    <tr>\n",
       "      <th>1</th>\n",
       "      <td>product_page</td>\n",
       "      <td>38929</td>\n",
       "      <td>58696.0</td>\n",
       "      <td>66.323088</td>\n",
       "      <td>66.323088</td>\n",
       "    </tr>\n",
       "    <tr>\n",
       "      <th>2</th>\n",
       "      <td>purchase</td>\n",
       "      <td>19568</td>\n",
       "      <td>38929.0</td>\n",
       "      <td>50.265869</td>\n",
       "      <td>33.337877</td>\n",
       "    </tr>\n",
       "    <tr>\n",
       "      <th>3</th>\n",
       "      <td>product_cart</td>\n",
       "      <td>19284</td>\n",
       "      <td>19568.0</td>\n",
       "      <td>98.548651</td>\n",
       "      <td>32.854028</td>\n",
       "    </tr>\n",
       "  </tbody>\n",
       "</table>\n",
       "</div>"
      ],
      "text/plain": [
       "     event_name  user_id  valor_anterior  conversion_entre_etapas  \\\n",
       "0         login    58696             NaN                      NaN   \n",
       "1  product_page    38929         58696.0                66.323088   \n",
       "2      purchase    19568         38929.0                50.265869   \n",
       "3  product_cart    19284         19568.0                98.548651   \n",
       "\n",
       "   conversion_total  \n",
       "0        100.000000  \n",
       "1         66.323088  \n",
       "2         33.337877  \n",
       "3         32.854028  "
      ]
     },
     "execution_count": 34,
     "metadata": {},
     "output_type": "execute_result"
    }
   ],
   "source": [
    "#Calcular que porcentaje de usuarios hace todo el viaje desde su primer evento hasta el último\n",
    "#sacar conversion total\n",
    "users_count[\"conversion_total\"] = (users_count[\"user_id\"]* 100) /58696\n",
    "\n",
    "users_count"
   ]
  },
  {
   "cell_type": "markdown",
   "metadata": {},
   "source": [
    "Nuestro embudo nos muestra como solo el 32.85% de los usuarios que ingresan al sitio de inicio, logran finalizar en la visualiación del producto dentro del carrito de compra.\n",
    "\n",
    "En esta ocasión no buscamos una ruta con una secuencia exacta para las etapas que debería seguir el usuario, por lo que el resultado mostrado es el que usaremos.\n",
    "\n",
    "El porcentaje creado en la tabla nos indica las etapas donde más se pierden los usuarios, lo que nos indica que es de la etapa de product_page a purchase donde menor retensión de clientes existe.\n",
    "\n",
    "Del 100% de usuarios únicos que ingresaron 58696 solo el 32.85% logra llegar a la útima etapa, y demostrando de nuevo esta columan el dato pasado sobre la etapa donde más pérdidas tenemos como emprsa de los clientes."
   ]
  },
  {
   "cell_type": "code",
   "execution_count": 35,
   "metadata": {},
   "outputs": [
    {
     "data": {
      "text/html": [
       "<div>\n",
       "<style scoped>\n",
       "    .dataframe tbody tr th:only-of-type {\n",
       "        vertical-align: middle;\n",
       "    }\n",
       "\n",
       "    .dataframe tbody tr th {\n",
       "        vertical-align: top;\n",
       "    }\n",
       "\n",
       "    .dataframe thead th {\n",
       "        text-align: right;\n",
       "    }\n",
       "</style>\n",
       "<table border=\"1\" class=\"dataframe\">\n",
       "  <thead>\n",
       "    <tr style=\"text-align: right;\">\n",
       "      <th></th>\n",
       "      <th>group</th>\n",
       "      <th>user_id</th>\n",
       "    </tr>\n",
       "  </thead>\n",
       "  <tbody>\n",
       "    <tr>\n",
       "      <th>0</th>\n",
       "      <td>A</td>\n",
       "      <td>7874</td>\n",
       "    </tr>\n",
       "    <tr>\n",
       "      <th>1</th>\n",
       "      <td>B</td>\n",
       "      <td>6205</td>\n",
       "    </tr>\n",
       "  </tbody>\n",
       "</table>\n",
       "</div>"
      ],
      "text/plain": [
       "  group  user_id\n",
       "0     A     7874\n",
       "1     B     6205"
      ]
     },
     "execution_count": 35,
     "metadata": {},
     "output_type": "execute_result"
    }
   ],
   "source": [
    "#agrupa por evento, se cuenta el número de usuarios únicos por grupo\n",
    "group_count=prueba.groupby(\"group\").agg({\"user_id\":\"nunique\"}).reset_index()\n",
    "group_count"
   ]
  },
  {
   "cell_type": "markdown",
   "metadata": {},
   "source": [
    "**¿El número de eventos por usuario está distribuido equitativamente entre las muestras?**\n",
    "\n",
    "El grupo A /grupo control) cuenta con el 54.209% del registro de los usuarios, mientras que el grupo B (grupo con nuevo metodo de pago) cuenta con el 45.79%"
   ]
  },
  {
   "cell_type": "code",
   "execution_count": 36,
   "metadata": {},
   "outputs": [
    {
     "data": {
      "text/html": [
       "<div>\n",
       "<style scoped>\n",
       "    .dataframe tbody tr th:only-of-type {\n",
       "        vertical-align: middle;\n",
       "    }\n",
       "\n",
       "    .dataframe tbody tr th {\n",
       "        vertical-align: top;\n",
       "    }\n",
       "\n",
       "    .dataframe thead th {\n",
       "        text-align: right;\n",
       "    }\n",
       "</style>\n",
       "<table border=\"1\" class=\"dataframe\">\n",
       "  <thead>\n",
       "    <tr style=\"text-align: right;\">\n",
       "      <th></th>\n",
       "      <th>user_id</th>\n",
       "      <th>event_dt</th>\n",
       "      <th>event_name</th>\n",
       "      <th>details</th>\n",
       "      <th>group</th>\n",
       "      <th>ab_test</th>\n",
       "    </tr>\n",
       "  </thead>\n",
       "  <tbody>\n",
       "    <tr>\n",
       "      <th>0</th>\n",
       "      <td>E1BDDCE0DAFA2679</td>\n",
       "      <td>2020-12-07 20:22:03</td>\n",
       "      <td>purchase</td>\n",
       "      <td>99.99</td>\n",
       "      <td>NaN</td>\n",
       "      <td>NaN</td>\n",
       "    </tr>\n",
       "    <tr>\n",
       "      <th>1</th>\n",
       "      <td>7B6452F081F49504</td>\n",
       "      <td>2020-12-07 09:22:53</td>\n",
       "      <td>purchase</td>\n",
       "      <td>9.99</td>\n",
       "      <td>NaN</td>\n",
       "      <td>NaN</td>\n",
       "    </tr>\n",
       "    <tr>\n",
       "      <th>2</th>\n",
       "      <td>9CD9F34546DF254C</td>\n",
       "      <td>2020-12-07 12:59:29</td>\n",
       "      <td>purchase</td>\n",
       "      <td>4.99</td>\n",
       "      <td>NaN</td>\n",
       "      <td>NaN</td>\n",
       "    </tr>\n",
       "    <tr>\n",
       "      <th>3</th>\n",
       "      <td>96F27A054B191457</td>\n",
       "      <td>2020-12-07 04:02:40</td>\n",
       "      <td>purchase</td>\n",
       "      <td>4.99</td>\n",
       "      <td>B</td>\n",
       "      <td>interface_eu_test</td>\n",
       "    </tr>\n",
       "    <tr>\n",
       "      <th>4</th>\n",
       "      <td>1FD7660FDF94CA1F</td>\n",
       "      <td>2020-12-07 10:15:09</td>\n",
       "      <td>purchase</td>\n",
       "      <td>4.99</td>\n",
       "      <td>NaN</td>\n",
       "      <td>NaN</td>\n",
       "    </tr>\n",
       "    <tr>\n",
       "      <th>...</th>\n",
       "      <td>...</td>\n",
       "      <td>...</td>\n",
       "      <td>...</td>\n",
       "      <td>...</td>\n",
       "      <td>...</td>\n",
       "      <td>...</td>\n",
       "    </tr>\n",
       "    <tr>\n",
       "      <th>429471</th>\n",
       "      <td>245E85F65C358E08</td>\n",
       "      <td>2020-12-30 19:35:55</td>\n",
       "      <td>login</td>\n",
       "      <td>NaN</td>\n",
       "      <td>NaN</td>\n",
       "      <td>NaN</td>\n",
       "    </tr>\n",
       "    <tr>\n",
       "      <th>429472</th>\n",
       "      <td>9385A108F5A0A7A7</td>\n",
       "      <td>2020-12-30 10:54:15</td>\n",
       "      <td>login</td>\n",
       "      <td>NaN</td>\n",
       "      <td>NaN</td>\n",
       "      <td>NaN</td>\n",
       "    </tr>\n",
       "    <tr>\n",
       "      <th>429473</th>\n",
       "      <td>DB650B7559AC6EAC</td>\n",
       "      <td>2020-12-30 10:59:09</td>\n",
       "      <td>login</td>\n",
       "      <td>NaN</td>\n",
       "      <td>NaN</td>\n",
       "      <td>NaN</td>\n",
       "    </tr>\n",
       "    <tr>\n",
       "      <th>429474</th>\n",
       "      <td>F80C9BDDEA02E53C</td>\n",
       "      <td>2020-12-30 09:53:39</td>\n",
       "      <td>login</td>\n",
       "      <td>NaN</td>\n",
       "      <td>A</td>\n",
       "      <td>interface_eu_test</td>\n",
       "    </tr>\n",
       "    <tr>\n",
       "      <th>429475</th>\n",
       "      <td>7AEC61159B672CC5</td>\n",
       "      <td>2020-12-30 11:36:13</td>\n",
       "      <td>login</td>\n",
       "      <td>NaN</td>\n",
       "      <td>NaN</td>\n",
       "      <td>NaN</td>\n",
       "    </tr>\n",
       "  </tbody>\n",
       "</table>\n",
       "<p>429476 rows × 6 columns</p>\n",
       "</div>"
      ],
      "text/plain": [
       "                 user_id            event_dt event_name  details group  \\\n",
       "0       E1BDDCE0DAFA2679 2020-12-07 20:22:03   purchase    99.99   NaN   \n",
       "1       7B6452F081F49504 2020-12-07 09:22:53   purchase     9.99   NaN   \n",
       "2       9CD9F34546DF254C 2020-12-07 12:59:29   purchase     4.99   NaN   \n",
       "3       96F27A054B191457 2020-12-07 04:02:40   purchase     4.99     B   \n",
       "4       1FD7660FDF94CA1F 2020-12-07 10:15:09   purchase     4.99   NaN   \n",
       "...                  ...                 ...        ...      ...   ...   \n",
       "429471  245E85F65C358E08 2020-12-30 19:35:55      login      NaN   NaN   \n",
       "429472  9385A108F5A0A7A7 2020-12-30 10:54:15      login      NaN   NaN   \n",
       "429473  DB650B7559AC6EAC 2020-12-30 10:59:09      login      NaN   NaN   \n",
       "429474  F80C9BDDEA02E53C 2020-12-30 09:53:39      login      NaN     A   \n",
       "429475  7AEC61159B672CC5 2020-12-30 11:36:13      login      NaN   NaN   \n",
       "\n",
       "                  ab_test  \n",
       "0                     NaN  \n",
       "1                     NaN  \n",
       "2                     NaN  \n",
       "3       interface_eu_test  \n",
       "4                     NaN  \n",
       "...                   ...  \n",
       "429471                NaN  \n",
       "429472                NaN  \n",
       "429473                NaN  \n",
       "429474  interface_eu_test  \n",
       "429475                NaN  \n",
       "\n",
       "[429476 rows x 6 columns]"
      ]
     },
     "execution_count": 36,
     "metadata": {},
     "output_type": "execute_result"
    }
   ],
   "source": [
    "#unir las tablas con datos de usuarios y grupo al que pertenece\n",
    "datamerge=users_events.merge(prueba, on=\"user_id\", how=\"left\")\n",
    "datamerge"
   ]
  },
  {
   "cell_type": "code",
   "execution_count": 37,
   "metadata": {},
   "outputs": [
    {
     "name": "stdout",
     "output_type": "stream",
     "text": [
      "['2F46396B6766CFDB' 'CF03E97B314C5632' '2828E6688DC580C4'\n",
      " '0EA9AB1C2A159C77' 'C286A270CFB9925D' '68373F4331DDD2E6'\n",
      " '748DD5E33B6F98C3' 'B582D211C1BE1FFD' '8FC9D1BB3017BE66'\n",
      " '8FF91E21E27A330D' '27802765D2458B2B' '4A55475E078F40DC'\n",
      " 'EAFB9027A27D510C' '8C69C35FB5E142F8' '94464DF2E5398E26'\n",
      " '48CFE37563932DC2' 'A8C57C0D4118F4D7' '4409E20FCD07CD14'\n",
      " '8094961C0D414366' 'D1DFCE26FF3C713F' 'AE49EDDFB9DABE03'\n",
      " '24FB1A84E1C30291' 'D9BAC4C97F9C107F' 'C74B6E95352ADE79'\n",
      " 'EF6DBFA129654B41' '9F0571C70D4BD33B' '8F5D7DE5A7B06249'\n",
      " '123C3AC236BE84F0' 'A7EE379599B38AE0' 'A6E6ECF8E4924633'\n",
      " 'A2212CF79158D340' 'FB158B12F907E8FB' '17DD74F263374528'\n",
      " 'C165E8C0C5DE19FF' '3FC3BE7BAA35F33F' 'C5AE17CBD0B33628'\n",
      " 'D82DD23742E57665' '88EEB8C6C37A0521' '9F32866BD479E689'\n",
      " '30DEB75B33B92DC8' '495E506B3D29645B' '84AAB026310D49C4'\n",
      " '3279592816F7F6D2' 'EB215155BA578253' '3E286601D309601C'\n",
      " '2F28A3B279E5494A' '37E78FED858E7061' '10F028FB8193F8C1'\n",
      " '49C45D71BDCE2F69' 'A731AAAEA9F5C533' '1AD9F88DA92AC4E5'\n",
      " '2A12B7DB3C6E84D6' '98D45D3A9D7E3911' '59390C0379937AB0'\n",
      " '2B8243043C2CD72F' '0DB417842D3B79A2' '84DC74ED5E60BA6A'\n",
      " '2C662D285ED4136C' 'DD9FB2652AE4ACBA' 'BA9906DF9975512E'\n",
      " 'C389958204955C98' 'C33D8C1C81C7AA23' '739656E0D7B50B30'\n",
      " '0BA00E790AA510C1' 'D3A4F3513CC0AA2F' '0980BF24051C806A'\n",
      " '0C2E77C6A381704A' 'BD31CABB6D5C6561' '0082295A41A867B5'\n",
      " '0A0141A363E2E051' 'E7F4B5EBC0495D72' 'B997F98ED3AA6104'\n",
      " '507ADD5337970C14' '7AFFAFC4121EB5B2' '0EE3092A08562765'\n",
      " '08589AA89496453B' '133F64DC5E24F047' '275A5125510426EB'\n",
      " '7A4A6B4CC6FDB0FF' '1796009027406E06' '4DAD6F609E7D7328'\n",
      " 'C1E43A9B1D675927' 'CFDED9167B27A57F' '81AA83FBC31B6C0B'\n",
      " '934134714E66295F' 'A791C2D62B213C96' '66821339106C8891'\n",
      " '124B6B7F19141CCC' '8E2FDE8953DB6A48' 'F5B4B562971760C6'\n",
      " 'C0DDE3AA2A89024F' '5A26996E38367C70' '73CE2DE1253D58B4'\n",
      " 'DA4D24731C8CCEB8' '8B6B98D9A40E0A42' '56F9D84470F97FF0'\n",
      " '2DC0C9E9D89D2352' '5D72D0AEF96C50FD' '71D1FF7218FB3F1E'\n",
      " 'A352755099619F01' 'FAA7192A42F9F8DA' 'ED61DF6AA1B81F5B'\n",
      " '2F52D15FF20EE730' 'A800CDEA85871EEF' 'E68002AA33773AD5'\n",
      " 'C7CE76E3DBDC7533' '65A30CEC01FAB999' '224F9E7FA339E6A9'\n",
      " 'FE2AF0E94DBD470E' '97AD409895906A32' 'DA7D4CF1CBBADE49'\n",
      " '75013CAAF42E90A9' 'D649423E43336656' 'C57E6C4AFF4FF31A'\n",
      " '64CD9350DEEE01B6' 'C26D3BB63817A267' 'AAE1914BDB419328'\n",
      " '1675B921AC721DBE' '4C3B9B6D59E98D59' '5A47441C0AC5FAEE'\n",
      " 'DE078758B0515023' 'F195464E8F2E0267' '9A5549A4A85FCF06'\n",
      " 'E02247CEF572ACCA' '3B62EE83708770A5' 'D9C92EC5F9478381'\n",
      " '676A58D41A3E0A47' '1E8855206E49EFF8' '23E633E92EDCD195'\n",
      " 'F9B39A46A299971D' 'BAAEE6D68FB90D22' '44EB15AD423DC31C'\n",
      " '38189578561F38CB' 'EABF946459C4DA3A' 'FEA0C585A53E7027'\n",
      " 'D0562837FBB58AC5' 'C6C4C814B7B202E7' '649CE5D5A38BFA8B'\n",
      " '573EF5CB449265BE' 'CBDE46A45FD5E6A4' 'C5AD06762E628169'\n",
      " 'C26CED3FB9AFF742' 'C1FFA9A2B049B203' '29DF5A79ECFED897'\n",
      " '3981FFA649C17699' '4FE90CB247C78EC5' '94BE60EF959D177D'\n",
      " '7CBA351852B6F25C' 'EE25BC8FA059151D' '213C96A57E70B18F'\n",
      " 'B6E4E414699EFC1F' '6786C23A54D59DD4' '4B34A5BD1D1AEF0D'\n",
      " 'A4F18DF9C484EDC0' '697F116B31D05FCF' 'E391353FC3A4056D'\n",
      " '02313B9E82255F47' '115ABCFDBDDB5950' 'A4312FFD172A4998'\n",
      " '79DF9D6EDC7A58CE' 'DF72BA6A526F714F' '4BDA6084191118DF'\n",
      " 'A0028F574B5E5DC6' '1382E5D05428EBCD' 'AC7F4C4BDAD56C17'\n",
      " '0ADFFFE9C0D60092' '3DEA2F9B3EDA8B91' 'FFF28D02B1EACBE1'\n",
      " '9918D1C354A1383A' '2AE10F8C21B66E8E' '6A2064F288EF094F'\n",
      " 'FE8F9858BBE502D9' '9431D6C9475CFD3A' 'D9128C07E09FF452'\n",
      " '13AA9B89A2885F8E' '0CC466ED84E0756D' '6B0B075EA63618BE'\n",
      " '4764F95CF4989E46' 'AB94ADBD1345E896' '0BC7C730D40D19D3'\n",
      " 'FEC0BCA6C323872F' '6DFDC639B8B85EF7' '00E68F103C66C1F7'\n",
      " '5424E9D321EC3567' '341E8DBCD6C8B223' 'CE27C7943C1BB6ED'\n",
      " 'CCE74CB0FBDD3533' 'DF7F485FA44A60AF' '3F6CAEC76651E5AC'\n",
      " '412F5C9F04EE8F69' 'BBE0583F0240AABB' '783A96FF14C40478'\n",
      " '9429C337BF221E89' 'FC3F3E4DA7C85F88' 'C176364EF5C025EA'\n",
      " '803230F1D8216380' '430C998549E88DAE' '505555B3CCA490C8'\n",
      " '6B72CFAE1935C789' '2170CB76798D36EE' 'A4D5B31067614B05'\n",
      " '32E13C1C0F6AC96E' 'EF058AAD0A56A298' 'C4F3A9D7BB596E6E'\n",
      " 'D1FA009C9B514DD7' 'B150C94FFD64D8B0' '61D3434CE0D95AB7'\n",
      " 'DAD6760631314417' 'ABFF0B9BAD11BB5D' 'BE0FDC8CC0D5455D'\n",
      " '526BA4A669CC6CC2' 'C86F0150DA3B10F2' 'C2E79843ED511E13'\n",
      " 'F85FD73AAF991283' 'F97D8746923ABA37' 'ECC76B90EB71C492'\n",
      " 'A9E0A8057A5F07D1' '9A8CD4B32D7511F1' 'DD4352CDCF8C3D57'\n",
      " 'B06B45B7C3E5E721' '502902B3C32C72FF' '067D05BD30F04F2E'\n",
      " 'CBA33B9DE421A616' '894A2506B3A50D03' '88FB1EDF3E249223'\n",
      " 'CC705D51C74418AD' '886E52074D084B18' 'F69BC50D9CC2A47B'\n",
      " '9E68AB5C5C7FEFF4' '5B1F39B5D751B669' '70CE04E185154AD7'\n",
      " 'CDED0FACF20CA716' 'C93F18A3865E93D6' '3D89F6FEA1926F70'\n",
      " '6610064A4B2303D1' 'F13CC3EF6739F4C0' 'E0272BC86CC88DC7'\n",
      " '993BDE69A0DE0391' 'CD650095FD201699' 'A3D5BA3E276CD84C'\n",
      " 'DECA5C05A77980A1' '544EE0E8D5E36FDA' '329E3207708990E1'\n",
      " '52667DF0F366C919' '65678C4C3E6AF563' '8EB3AE898305A358'\n",
      " '59D9BD2A3172D3F4' '52EC082510DA513B' '23F10CDFF7372B06'\n",
      " '2D6A6472D7F46812' 'B854154628803E46' '8F1195B887A60121'\n",
      " 'B3059CB4FD2DE0FA' 'CA6F4DAED160E5B1' 'BD5317D49443EA5E'\n",
      " '5813B74E3ED6094E' 'DC41AFF8213BE01A' '65A33D1E2F637CE6'\n",
      " '12A77BCF101643B5' '1A4A33FE1C0FDD90' '60D456E636F6C031'\n",
      " 'EA8341F38EFFE04C' '8285135A01FF5488' '8A26EBC1BA92524B'\n",
      " '68B3C70F0C0B4550' 'DA8DABF19A0203FD' 'E0EEE04D9FDB4931'\n",
      " '74C5CCDA7DF761EE' '13FBEB715F4AAE10' 'F7E2CAFE32DB0B14'\n",
      " '5EBCE7B573FA0578' 'B06BF284879EED23' '90AC003E691D70D4'\n",
      " 'B19324D874BEE1A5' 'F68F7886D0BCE784' '0B0D84A866817D84'\n",
      " 'A48676A84719B3A7' 'E7CC63BF20618321' 'B42748BA986E4163'\n",
      " '6CAA4AF4C12A22B9' 'C573C24EF423143C' 'E0DF3060D454B5AF'\n",
      " '0D77D907C24CDAC1' '4F37FAAD74FB679C' '27736FDA67EF07CB'\n",
      " '7B5B4C6306A09430' '10779B9305942526' '9270DB42112E3B14'\n",
      " 'B931BC5D6FE1416C' '8BD80DB1522F7120' '4CCE583A34A8362C'\n",
      " '63F5FC15B31DB5A6' 'E1EA339E17C0D568' '13B7E3DA955377BA'\n",
      " '944C88D5DF108AED' 'C0924D3FF1BEAA05' '43525009898D1143'\n",
      " '16BE66466549CD42' 'AF72679D1CB8C3A5' '9FB7D7666F50835C'\n",
      " '5EC32E17A02C2131' 'DD9DDDB53DA30E40' 'FB6F6BC119E1DBD5'\n",
      " 'B242B046BC32ADDA' '5D0240D20EA50D8C' 'D266B29CC73DD0F9'\n",
      " 'F507CB8030C885FB' '7D8970118A695D48' '1C7C7C34158EB086'\n",
      " '6655D192F953E7CE' 'BF6D4EF4B54B3E94' '198FEF39910DCF76'\n",
      " '9E0A3633886C080E' '9E656B4D34C68949' '1D831F7D0F539AFA'\n",
      " 'EEFDF8577ED817C0' '2CA426D092054330' '3C37EE92E7960750'\n",
      " '4803D52DB8782CC2' '82F72EC6CDC1BA8F' '96BDD55846D1F7F6'\n",
      " '549A5092FD1BD5D9' '902F92052587344F' '13AE4DFAC67ACEB3'\n",
      " '1B52830A832D33F5' '49D69A4901413D82' 'C474F67E2204321C'\n",
      " '3A6D88AB973BD99D' '0DABE6F3956778ED' 'EE8401B631ED63CE'\n",
      " '25CE0629AC6B6971' '21AEB217BA764EAB' '3340B98CBEAEE766'\n",
      " 'B2716998187D5D74' '4CF756542084F860' 'E17D1ABC377C38CA'\n",
      " 'AA825CB62FB0EC0B' 'A35BD08F60AC00B8' '6A581C74EF4D5F44'\n",
      " '53732758D90FB1E4' '0FBF679EA1340786' '3AE5E3EE2C8A8727'\n",
      " 'B2BB6F16652B21BF' 'E7F87F9FBA3269B1' 'C7750723906C925A'\n",
      " 'A8C25A605F613665' '4A61A28F35795FD1' 'EF449601C94D2496'\n",
      " '1C711C65356BCFBF' 'BE3C02D74A664180' '5AD2A85FFA7D7EBE'\n",
      " 'D2F6FB926A64D196' '3B3F68DC5779E517' 'E32D4C0315D6BFBE'\n",
      " '1E8329A6915FB27E' '958426148AFA05C5' 'ABB61823786179CC'\n",
      " '5B4EFE916AD19741' 'D40A89E14F1C10BD' '565EF59DDD36B95B'\n",
      " '4949578BF1954CF5' 'F10551276E3FDD53' 'C04E36E535A6F740'\n",
      " '79656F14758D76BA' 'BA98FD8F84C838C7' '75AC3DC6E14554D0'\n",
      " '21E6AD81A122B126' '2CDFC246EAEEAB13' 'F1B93BAE75EE0FB2'\n",
      " '74285DE881A72F4C' '96749D41A2185B46' '8FFA1D6F89AAEA40'\n",
      " '4D921165CD2825D1' 'B05232A00CE7DA9B' '770B5C9E0E546E44'\n",
      " '95401934D6D6D4FC' '2ED365A23D725DB0' '7F2C298110AA73B4'\n",
      " 'D0ECAB9DA4FE2E00' 'FC2DA0D7EF375B27' '9C99E4676D6A8B44'\n",
      " '340D9C518D3CBB8D' '8CE0BDF8F59A752E' 'E594B711ADD81DD8'\n",
      " 'D7933558E33BF7D5' 'AFFC4117AC279D49' '33CEAE52626CA99E'\n",
      " 'BF1EB8E6FA3F19B8' 'DF9C2411ADA62C66' 'D2D8E67B7D0DE2D2'\n",
      " 'ED11170D5BB9D744' 'E40FA02A8A53F693' 'F71DD44DAB783CEB'\n",
      " '051D59BC38C3B3AA' '24D3AAA91EFD597F' 'D5DD44281759F7C8'\n",
      " 'C89E24F4C723CEF4' 'CA9D3DEA00836355' '04F2CF340B4F3822'\n",
      " 'ACDFC703CACAC820' 'C77D7125A7F73F33' '5207E56E697027E9'\n",
      " '8683850A677DCC7A' 'F0B92123E5142CBB' '4E43940B0CF8D947'\n",
      " '3656B8F3DEF02DA0' '743EFA16F928E18B' '52828376E649CA27'\n",
      " '5BDF2A772826F42C' '1C5874DE0D952A0D' 'E3780F6861A69868'\n",
      " 'B7DBE079E5AB148E' 'CE48F47093B03425' '0CA93D3A4A1D8389'\n",
      " '3F52D53AB33C9FD6' '0EBE4BDE16D19DC0' '4122B8F30EB2271C'\n",
      " '8D4D2425F80F6A74' '72742C5F312A1FEC' 'E6FE73B8B903B31B'\n",
      " '5F89649C6337CE7D' '23F551153080EBAB' '7C9CA3F88B8755F1'\n",
      " '1E7B931452B2F965' '47ADBF580CF107E1' '814DF3DA9DD71B8A'\n",
      " '8B2134D31A514E4E' 'AEB9B39AE54D3598' '51DA2C882D0D7508'\n",
      " 'EE9E527A761299B2' '8A2FACABB19EDC70' '8FB9E95B030D25C5'\n",
      " '701B5B6292603C20' 'FB9FFB4BA8695C78' 'F8564F547AFFC0B9'\n",
      " '1381632DA8AD52C0' '3FAA6AD64C3B47E8' '14AEC962812EB706'\n",
      " '83E9CFC64D61108E' '928364C4C9F13FA8' 'BEF16764A13AEC34']\n"
     ]
    }
   ],
   "source": [
    "#agrupan los usuarios por grupo A y B respectivamente\n",
    "group_A= datamerge[datamerge [\"group\"]== \"A\"]\n",
    "\n",
    "group_B= datamerge[datamerge[\"group\"]== \"B\"]\n",
    "\n",
    "#Crea un filtro para buscar usuarios que están presentes en ambas muestras\n",
    "\n",
    "print(group_A.merge(group_B, on=\"user_id\", how=\"inner\").reset_index()[\"user_id\"].unique())"
   ]
  },
  {
   "cell_type": "markdown",
   "metadata": {},
   "source": [
    "Eiste una gran cantidad de usuarios repetidos en ambos grupos, esto pudo darse al llevarse a cabo las pruebas al miso tiemp haciendo que el mismo usuario compartiera grupo."
   ]
  },
  {
   "cell_type": "code",
   "execution_count": 38,
   "metadata": {},
   "outputs": [
    {
     "data": {
      "text/html": [
       "<div>\n",
       "<style scoped>\n",
       "    .dataframe tbody tr th:only-of-type {\n",
       "        vertical-align: middle;\n",
       "    }\n",
       "\n",
       "    .dataframe tbody tr th {\n",
       "        vertical-align: top;\n",
       "    }\n",
       "\n",
       "    .dataframe thead th {\n",
       "        text-align: right;\n",
       "    }\n",
       "</style>\n",
       "<table border=\"1\" class=\"dataframe\">\n",
       "  <thead>\n",
       "    <tr style=\"text-align: right;\">\n",
       "      <th></th>\n",
       "      <th></th>\n",
       "      <th>user_id</th>\n",
       "    </tr>\n",
       "    <tr>\n",
       "      <th>event_name</th>\n",
       "      <th>events_day</th>\n",
       "      <th></th>\n",
       "    </tr>\n",
       "  </thead>\n",
       "  <tbody>\n",
       "    <tr>\n",
       "      <th rowspan=\"5\" valign=\"top\">login</th>\n",
       "      <th>2020-12-07</th>\n",
       "      <td>4913</td>\n",
       "    </tr>\n",
       "    <tr>\n",
       "      <th>2020-12-08</th>\n",
       "      <td>5447</td>\n",
       "    </tr>\n",
       "    <tr>\n",
       "      <th>2020-12-09</th>\n",
       "      <td>5227</td>\n",
       "    </tr>\n",
       "    <tr>\n",
       "      <th>2020-12-10</th>\n",
       "      <td>6045</td>\n",
       "    </tr>\n",
       "    <tr>\n",
       "      <th>2020-12-11</th>\n",
       "      <td>6000</td>\n",
       "    </tr>\n",
       "    <tr>\n",
       "      <th>...</th>\n",
       "      <th>...</th>\n",
       "      <td>...</td>\n",
       "    </tr>\n",
       "    <tr>\n",
       "      <th rowspan=\"5\" valign=\"top\">purchase</th>\n",
       "      <th>2020-12-26</th>\n",
       "      <td>1985</td>\n",
       "    </tr>\n",
       "    <tr>\n",
       "      <th>2020-12-27</th>\n",
       "      <td>1729</td>\n",
       "    </tr>\n",
       "    <tr>\n",
       "      <th>2020-12-28</th>\n",
       "      <td>1557</td>\n",
       "    </tr>\n",
       "    <tr>\n",
       "      <th>2020-12-29</th>\n",
       "      <td>1424</td>\n",
       "    </tr>\n",
       "    <tr>\n",
       "      <th>2020-12-30</th>\n",
       "      <td>15</td>\n",
       "    </tr>\n",
       "  </tbody>\n",
       "</table>\n",
       "<p>92 rows × 1 columns</p>\n",
       "</div>"
      ],
      "text/plain": [
       "                       user_id\n",
       "event_name events_day         \n",
       "login      2020-12-07     4913\n",
       "           2020-12-08     5447\n",
       "           2020-12-09     5227\n",
       "           2020-12-10     6045\n",
       "           2020-12-11     6000\n",
       "...                        ...\n",
       "purchase   2020-12-26     1985\n",
       "           2020-12-27     1729\n",
       "           2020-12-28     1557\n",
       "           2020-12-29     1424\n",
       "           2020-12-30       15\n",
       "\n",
       "[92 rows x 1 columns]"
      ]
     },
     "execution_count": 38,
     "metadata": {},
     "output_type": "execute_result"
    }
   ],
   "source": [
    "#¿Cómo se distribuye el número de eventos entre los días?\n",
    "\n",
    "#Agregar ua columna con el día para unir los eventos\n",
    "users_events[\"events_day\"]=users_events[\"event_dt\"].dt.date\n",
    "\n",
    "#agrupar por evento y día\n",
    "events_per_day=users_events.groupby(['event_name', \"events_day\"]).agg({'user_id':'count'})\n",
    "events_per_day"
   ]
  },
  {
   "cell_type": "markdown",
   "metadata": {},
   "source": [
    "Podemos observar que todos los días coinciden con un promedio de usuarios que fueron estando en los eventos, como ya se ha analiado, no existen grandes anomalias entre la suma de lo usuarios por día que fueorn realizando los eventos, lo que nos habla de una estabilidad en el flujo de clientes durante la prueba que puede ser caracteristica de nuestra online."
   ]
  },
  {
   "cell_type": "markdown",
   "metadata": {},
   "source": [
    "**¿Hay alguna peculiaridad en los datos que hay que tener en cuenta antes de iniciar la prueba A/B?**\n",
    "\n",
    "Debemos considerar que la prueba duro tan solo 3 semanas, esto puede o NO afectar en los resultados si es que falto tiempo.\n",
    "\n",
    "Como ya mencionamo anteriormente gran cantidad de los usuarios s repiten en ambos grupos, es necesario evaluar si se desea si esto fue un error al realizar la prueba, al no tener al equipo inicial que la realizó buscaremos con mayor deteniemiento el comportamiento de los usuarios durante la prueba para ver si esto afecta.\n",
    "\n",
    "La distirbución de los participantes es correcta, así que podemos continuar con la prueba A/B"
   ]
  },
  {
   "cell_type": "markdown",
   "metadata": {},
   "source": [
    "# Prueba A/B"
   ]
  },
  {
   "cell_type": "code",
   "execution_count": 39,
   "metadata": {},
   "outputs": [
    {
     "name": "stdout",
     "output_type": "stream",
     "text": [
      "<class 'pandas.core.frame.DataFrame'>\n",
      "Int64Index: 429476 entries, 0 to 429475\n",
      "Data columns (total 6 columns):\n",
      " #   Column      Non-Null Count   Dtype         \n",
      "---  ------      --------------   -----         \n",
      " 0   user_id     429476 non-null  object        \n",
      " 1   event_dt    429476 non-null  datetime64[ns]\n",
      " 2   event_name  429476 non-null  object        \n",
      " 3   details     61134 non-null   float64       \n",
      " 4   group       102838 non-null  object        \n",
      " 5   ab_test     102838 non-null  object        \n",
      "dtypes: datetime64[ns](1), float64(1), object(4)\n",
      "memory usage: 22.9+ MB\n"
     ]
    }
   ],
   "source": [
    "datamerge.info()"
   ]
  },
  {
   "cell_type": "markdown",
   "metadata": {},
   "source": [
    "La tabla creada anteriormente al unir los datos de los cliente junto con el grupo al que corresponde es importante sealar que los valores ausentes presentes se deben a que solo los clientes que han llegado a realiar una compra tendran un total que han pagado, por lo que el los datos ausentes corresponden a etapas previas del proceso de compras."
   ]
  },
  {
   "cell_type": "code",
   "execution_count": 40,
   "metadata": {},
   "outputs": [
    {
     "data": {
      "text/html": [
       "<div>\n",
       "<style scoped>\n",
       "    .dataframe tbody tr th:only-of-type {\n",
       "        vertical-align: middle;\n",
       "    }\n",
       "\n",
       "    .dataframe tbody tr th {\n",
       "        vertical-align: top;\n",
       "    }\n",
       "\n",
       "    .dataframe thead th {\n",
       "        text-align: right;\n",
       "    }\n",
       "</style>\n",
       "<table border=\"1\" class=\"dataframe\">\n",
       "  <thead>\n",
       "    <tr style=\"text-align: right;\">\n",
       "      <th></th>\n",
       "      <th>group</th>\n",
       "      <th>user_id</th>\n",
       "    </tr>\n",
       "  </thead>\n",
       "  <tbody>\n",
       "    <tr>\n",
       "      <th>0</th>\n",
       "      <td>A</td>\n",
       "      <td>7874</td>\n",
       "    </tr>\n",
       "    <tr>\n",
       "      <th>1</th>\n",
       "      <td>B</td>\n",
       "      <td>6205</td>\n",
       "    </tr>\n",
       "  </tbody>\n",
       "</table>\n",
       "</div>"
      ],
      "text/plain": [
       "  group  user_id\n",
       "0     A     7874\n",
       "1     B     6205"
      ]
     },
     "execution_count": 40,
     "metadata": {},
     "output_type": "execute_result"
    }
   ],
   "source": [
    "#agrupa por evento, se cuenta el número de usuarios únicos por grupo\n",
    "gruposmerge=datamerge.groupby(\"group\").agg({\"user_id\":\"nunique\"}).reset_index()\n",
    "gruposmerge"
   ]
  },
  {
   "cell_type": "markdown",
   "metadata": {},
   "source": [
    "Unimos las tablas de users_events y pruebas para encontrar los usuarios y en que prueba fueron colocados.\n",
    "\n",
    "Al hacer la unión existen usuarios que nos estan registrados en ninguna prueba, dichos usuarios serán omitidos para la prueba A/B. \n",
    "\n",
    "Al unir estos datos y hacer el conteo de los grupos han salido la misma cantidad de participantes en ambas pruebas, lo que corrobora que los porcentajes de usuarios en cada prueba siguen siendo los mismos.\n",
    "\n",
    "A pesar de que los datos obtenidos si se encuentran dentro de rango establecido por la prueba, muchos datos sobre los usuarios y en que grupo se encuentran no estan registrados, esto pudo ser controlado por el equipo o simplemente una falla en el sistema.\n",
    "\n",
    "Lo que si se puede demostrar es que el objetivo de obtener 6000 participantes para la prueba fueron cubiertos, ya que al final se tuvo un registro total de 6205.\n",
    "\n",
    "Se hace esta unión para poder conocer la actividad entre grupos y si ha tenido un impacto la prueba, la cual analizaremos a continuación."
   ]
  },
  {
   "cell_type": "code",
   "execution_count": 41,
   "metadata": {},
   "outputs": [
    {
     "data": {
      "text/html": [
       "<div>\n",
       "<style scoped>\n",
       "    .dataframe tbody tr th:only-of-type {\n",
       "        vertical-align: middle;\n",
       "    }\n",
       "\n",
       "    .dataframe tbody tr th {\n",
       "        vertical-align: top;\n",
       "    }\n",
       "\n",
       "    .dataframe thead th {\n",
       "        text-align: right;\n",
       "    }\n",
       "</style>\n",
       "<table border=\"1\" class=\"dataframe\">\n",
       "  <thead>\n",
       "    <tr style=\"text-align: right;\">\n",
       "      <th></th>\n",
       "      <th>user_id</th>\n",
       "      <th>event_dt</th>\n",
       "      <th>event_name</th>\n",
       "      <th>details</th>\n",
       "      <th>group</th>\n",
       "      <th>ab_test</th>\n",
       "    </tr>\n",
       "  </thead>\n",
       "  <tbody>\n",
       "    <tr>\n",
       "      <th>0</th>\n",
       "      <td>E1BDDCE0DAFA2679</td>\n",
       "      <td>2020-12-07 20:22:03</td>\n",
       "      <td>purchase</td>\n",
       "      <td>99.99</td>\n",
       "      <td>NaN</td>\n",
       "      <td>NaN</td>\n",
       "    </tr>\n",
       "    <tr>\n",
       "      <th>1</th>\n",
       "      <td>7B6452F081F49504</td>\n",
       "      <td>2020-12-07 09:22:53</td>\n",
       "      <td>purchase</td>\n",
       "      <td>9.99</td>\n",
       "      <td>NaN</td>\n",
       "      <td>NaN</td>\n",
       "    </tr>\n",
       "    <tr>\n",
       "      <th>2</th>\n",
       "      <td>9CD9F34546DF254C</td>\n",
       "      <td>2020-12-07 12:59:29</td>\n",
       "      <td>purchase</td>\n",
       "      <td>4.99</td>\n",
       "      <td>NaN</td>\n",
       "      <td>NaN</td>\n",
       "    </tr>\n",
       "    <tr>\n",
       "      <th>3</th>\n",
       "      <td>96F27A054B191457</td>\n",
       "      <td>2020-12-07 04:02:40</td>\n",
       "      <td>purchase</td>\n",
       "      <td>4.99</td>\n",
       "      <td>B</td>\n",
       "      <td>interface_eu_test</td>\n",
       "    </tr>\n",
       "    <tr>\n",
       "      <th>4</th>\n",
       "      <td>1FD7660FDF94CA1F</td>\n",
       "      <td>2020-12-07 10:15:09</td>\n",
       "      <td>purchase</td>\n",
       "      <td>4.99</td>\n",
       "      <td>NaN</td>\n",
       "      <td>NaN</td>\n",
       "    </tr>\n",
       "    <tr>\n",
       "      <th>...</th>\n",
       "      <td>...</td>\n",
       "      <td>...</td>\n",
       "      <td>...</td>\n",
       "      <td>...</td>\n",
       "      <td>...</td>\n",
       "      <td>...</td>\n",
       "    </tr>\n",
       "    <tr>\n",
       "      <th>429471</th>\n",
       "      <td>245E85F65C358E08</td>\n",
       "      <td>2020-12-30 19:35:55</td>\n",
       "      <td>login</td>\n",
       "      <td>NaN</td>\n",
       "      <td>NaN</td>\n",
       "      <td>NaN</td>\n",
       "    </tr>\n",
       "    <tr>\n",
       "      <th>429472</th>\n",
       "      <td>9385A108F5A0A7A7</td>\n",
       "      <td>2020-12-30 10:54:15</td>\n",
       "      <td>login</td>\n",
       "      <td>NaN</td>\n",
       "      <td>NaN</td>\n",
       "      <td>NaN</td>\n",
       "    </tr>\n",
       "    <tr>\n",
       "      <th>429473</th>\n",
       "      <td>DB650B7559AC6EAC</td>\n",
       "      <td>2020-12-30 10:59:09</td>\n",
       "      <td>login</td>\n",
       "      <td>NaN</td>\n",
       "      <td>NaN</td>\n",
       "      <td>NaN</td>\n",
       "    </tr>\n",
       "    <tr>\n",
       "      <th>429474</th>\n",
       "      <td>F80C9BDDEA02E53C</td>\n",
       "      <td>2020-12-30 09:53:39</td>\n",
       "      <td>login</td>\n",
       "      <td>NaN</td>\n",
       "      <td>A</td>\n",
       "      <td>interface_eu_test</td>\n",
       "    </tr>\n",
       "    <tr>\n",
       "      <th>429475</th>\n",
       "      <td>7AEC61159B672CC5</td>\n",
       "      <td>2020-12-30 11:36:13</td>\n",
       "      <td>login</td>\n",
       "      <td>NaN</td>\n",
       "      <td>NaN</td>\n",
       "      <td>NaN</td>\n",
       "    </tr>\n",
       "  </tbody>\n",
       "</table>\n",
       "<p>429476 rows × 6 columns</p>\n",
       "</div>"
      ],
      "text/plain": [
       "                 user_id            event_dt event_name  details group  \\\n",
       "0       E1BDDCE0DAFA2679 2020-12-07 20:22:03   purchase    99.99   NaN   \n",
       "1       7B6452F081F49504 2020-12-07 09:22:53   purchase     9.99   NaN   \n",
       "2       9CD9F34546DF254C 2020-12-07 12:59:29   purchase     4.99   NaN   \n",
       "3       96F27A054B191457 2020-12-07 04:02:40   purchase     4.99     B   \n",
       "4       1FD7660FDF94CA1F 2020-12-07 10:15:09   purchase     4.99   NaN   \n",
       "...                  ...                 ...        ...      ...   ...   \n",
       "429471  245E85F65C358E08 2020-12-30 19:35:55      login      NaN   NaN   \n",
       "429472  9385A108F5A0A7A7 2020-12-30 10:54:15      login      NaN   NaN   \n",
       "429473  DB650B7559AC6EAC 2020-12-30 10:59:09      login      NaN   NaN   \n",
       "429474  F80C9BDDEA02E53C 2020-12-30 09:53:39      login      NaN     A   \n",
       "429475  7AEC61159B672CC5 2020-12-30 11:36:13      login      NaN   NaN   \n",
       "\n",
       "                  ab_test  \n",
       "0                     NaN  \n",
       "1                     NaN  \n",
       "2                     NaN  \n",
       "3       interface_eu_test  \n",
       "4                     NaN  \n",
       "...                   ...  \n",
       "429471                NaN  \n",
       "429472                NaN  \n",
       "429473                NaN  \n",
       "429474  interface_eu_test  \n",
       "429475                NaN  \n",
       "\n",
       "[429476 rows x 6 columns]"
      ]
     },
     "execution_count": 41,
     "metadata": {},
     "output_type": "execute_result"
    }
   ],
   "source": [
    "datamerge"
   ]
  },
  {
   "cell_type": "code",
   "execution_count": 42,
   "metadata": {},
   "outputs": [],
   "source": [
    "#Agregar ua columna con el día para unir los eventos\n",
    "datamerge[\"events_day\"]=datamerge[\"event_dt\"].dt.date"
   ]
  },
  {
   "cell_type": "code",
   "execution_count": 43,
   "metadata": {},
   "outputs": [
    {
     "data": {
      "text/html": [
       "<div>\n",
       "<style scoped>\n",
       "    .dataframe tbody tr th:only-of-type {\n",
       "        vertical-align: middle;\n",
       "    }\n",
       "\n",
       "    .dataframe tbody tr th {\n",
       "        vertical-align: top;\n",
       "    }\n",
       "\n",
       "    .dataframe thead th {\n",
       "        text-align: right;\n",
       "    }\n",
       "</style>\n",
       "<table border=\"1\" class=\"dataframe\">\n",
       "  <thead>\n",
       "    <tr style=\"text-align: right;\">\n",
       "      <th></th>\n",
       "      <th>user_id</th>\n",
       "      <th>event_dt</th>\n",
       "      <th>event_name</th>\n",
       "      <th>details</th>\n",
       "      <th>group</th>\n",
       "      <th>ab_test</th>\n",
       "      <th>events_day</th>\n",
       "    </tr>\n",
       "  </thead>\n",
       "  <tbody>\n",
       "    <tr>\n",
       "      <th>0</th>\n",
       "      <td>E1BDDCE0DAFA2679</td>\n",
       "      <td>2020-12-07 20:22:03</td>\n",
       "      <td>purchase</td>\n",
       "      <td>99.99</td>\n",
       "      <td>NaN</td>\n",
       "      <td>NaN</td>\n",
       "      <td>2020-12-07</td>\n",
       "    </tr>\n",
       "    <tr>\n",
       "      <th>1</th>\n",
       "      <td>7B6452F081F49504</td>\n",
       "      <td>2020-12-07 09:22:53</td>\n",
       "      <td>purchase</td>\n",
       "      <td>9.99</td>\n",
       "      <td>NaN</td>\n",
       "      <td>NaN</td>\n",
       "      <td>2020-12-07</td>\n",
       "    </tr>\n",
       "    <tr>\n",
       "      <th>2</th>\n",
       "      <td>9CD9F34546DF254C</td>\n",
       "      <td>2020-12-07 12:59:29</td>\n",
       "      <td>purchase</td>\n",
       "      <td>4.99</td>\n",
       "      <td>NaN</td>\n",
       "      <td>NaN</td>\n",
       "      <td>2020-12-07</td>\n",
       "    </tr>\n",
       "    <tr>\n",
       "      <th>3</th>\n",
       "      <td>96F27A054B191457</td>\n",
       "      <td>2020-12-07 04:02:40</td>\n",
       "      <td>purchase</td>\n",
       "      <td>4.99</td>\n",
       "      <td>B</td>\n",
       "      <td>interface_eu_test</td>\n",
       "      <td>2020-12-07</td>\n",
       "    </tr>\n",
       "    <tr>\n",
       "      <th>4</th>\n",
       "      <td>1FD7660FDF94CA1F</td>\n",
       "      <td>2020-12-07 10:15:09</td>\n",
       "      <td>purchase</td>\n",
       "      <td>4.99</td>\n",
       "      <td>NaN</td>\n",
       "      <td>NaN</td>\n",
       "      <td>2020-12-07</td>\n",
       "    </tr>\n",
       "    <tr>\n",
       "      <th>...</th>\n",
       "      <td>...</td>\n",
       "      <td>...</td>\n",
       "      <td>...</td>\n",
       "      <td>...</td>\n",
       "      <td>...</td>\n",
       "      <td>...</td>\n",
       "      <td>...</td>\n",
       "    </tr>\n",
       "    <tr>\n",
       "      <th>61129</th>\n",
       "      <td>1455450835F72F5E</td>\n",
       "      <td>2020-12-30 09:27:10</td>\n",
       "      <td>purchase</td>\n",
       "      <td>4.99</td>\n",
       "      <td>NaN</td>\n",
       "      <td>NaN</td>\n",
       "      <td>2020-12-30</td>\n",
       "    </tr>\n",
       "    <tr>\n",
       "      <th>61130</th>\n",
       "      <td>339C4C55021A83C6</td>\n",
       "      <td>2020-12-30 12:55:08</td>\n",
       "      <td>purchase</td>\n",
       "      <td>9.99</td>\n",
       "      <td>NaN</td>\n",
       "      <td>NaN</td>\n",
       "      <td>2020-12-30</td>\n",
       "    </tr>\n",
       "    <tr>\n",
       "      <th>61131</th>\n",
       "      <td>D1553B56FFA8974B</td>\n",
       "      <td>2020-12-30 03:15:35</td>\n",
       "      <td>purchase</td>\n",
       "      <td>4.99</td>\n",
       "      <td>NaN</td>\n",
       "      <td>NaN</td>\n",
       "      <td>2020-12-30</td>\n",
       "    </tr>\n",
       "    <tr>\n",
       "      <th>61132</th>\n",
       "      <td>245E85F65C358E08</td>\n",
       "      <td>2020-12-30 19:35:55</td>\n",
       "      <td>purchase</td>\n",
       "      <td>9.99</td>\n",
       "      <td>NaN</td>\n",
       "      <td>NaN</td>\n",
       "      <td>2020-12-30</td>\n",
       "    </tr>\n",
       "    <tr>\n",
       "      <th>61133</th>\n",
       "      <td>F80C9BDDEA02E53C</td>\n",
       "      <td>2020-12-30 09:53:39</td>\n",
       "      <td>purchase</td>\n",
       "      <td>4.99</td>\n",
       "      <td>A</td>\n",
       "      <td>interface_eu_test</td>\n",
       "      <td>2020-12-30</td>\n",
       "    </tr>\n",
       "  </tbody>\n",
       "</table>\n",
       "<p>61134 rows × 7 columns</p>\n",
       "</div>"
      ],
      "text/plain": [
       "                user_id            event_dt event_name  details group  \\\n",
       "0      E1BDDCE0DAFA2679 2020-12-07 20:22:03   purchase    99.99   NaN   \n",
       "1      7B6452F081F49504 2020-12-07 09:22:53   purchase     9.99   NaN   \n",
       "2      9CD9F34546DF254C 2020-12-07 12:59:29   purchase     4.99   NaN   \n",
       "3      96F27A054B191457 2020-12-07 04:02:40   purchase     4.99     B   \n",
       "4      1FD7660FDF94CA1F 2020-12-07 10:15:09   purchase     4.99   NaN   \n",
       "...                 ...                 ...        ...      ...   ...   \n",
       "61129  1455450835F72F5E 2020-12-30 09:27:10   purchase     4.99   NaN   \n",
       "61130  339C4C55021A83C6 2020-12-30 12:55:08   purchase     9.99   NaN   \n",
       "61131  D1553B56FFA8974B 2020-12-30 03:15:35   purchase     4.99   NaN   \n",
       "61132  245E85F65C358E08 2020-12-30 19:35:55   purchase     9.99   NaN   \n",
       "61133  F80C9BDDEA02E53C 2020-12-30 09:53:39   purchase     4.99     A   \n",
       "\n",
       "                 ab_test  events_day  \n",
       "0                    NaN  2020-12-07  \n",
       "1                    NaN  2020-12-07  \n",
       "2                    NaN  2020-12-07  \n",
       "3      interface_eu_test  2020-12-07  \n",
       "4                    NaN  2020-12-07  \n",
       "...                  ...         ...  \n",
       "61129                NaN  2020-12-30  \n",
       "61130                NaN  2020-12-30  \n",
       "61131                NaN  2020-12-30  \n",
       "61132                NaN  2020-12-30  \n",
       "61133  interface_eu_test  2020-12-30  \n",
       "\n",
       "[61134 rows x 7 columns]"
      ]
     },
     "execution_count": 43,
     "metadata": {},
     "output_type": "execute_result"
    }
   ],
   "source": [
    "#Representar gráficamente el ingreso acumulado por grupo.\n",
    "\n",
    "#agrupan solo los eventos d purchase\n",
    "eventspurchase=datamerge[datamerge[\"event_name\"]==\"purchase\"]\n",
    "eventspurchase"
   ]
  },
  {
   "cell_type": "code",
   "execution_count": 44,
   "metadata": {},
   "outputs": [
    {
     "data": {
      "text/html": [
       "<div>\n",
       "<style scoped>\n",
       "    .dataframe tbody tr th:only-of-type {\n",
       "        vertical-align: middle;\n",
       "    }\n",
       "\n",
       "    .dataframe tbody tr th {\n",
       "        vertical-align: top;\n",
       "    }\n",
       "\n",
       "    .dataframe thead th {\n",
       "        text-align: right;\n",
       "    }\n",
       "</style>\n",
       "<table border=\"1\" class=\"dataframe\">\n",
       "  <thead>\n",
       "    <tr style=\"text-align: right;\">\n",
       "      <th></th>\n",
       "      <th>group</th>\n",
       "      <th>events_day</th>\n",
       "      <th>details</th>\n",
       "    </tr>\n",
       "  </thead>\n",
       "  <tbody>\n",
       "    <tr>\n",
       "      <th>0</th>\n",
       "      <td>A</td>\n",
       "      <td>2020-12-07</td>\n",
       "      <td>5177.99</td>\n",
       "    </tr>\n",
       "    <tr>\n",
       "      <th>1</th>\n",
       "      <td>A</td>\n",
       "      <td>2020-12-08</td>\n",
       "      <td>4682.94</td>\n",
       "    </tr>\n",
       "    <tr>\n",
       "      <th>2</th>\n",
       "      <td>A</td>\n",
       "      <td>2020-12-09</td>\n",
       "      <td>6142.76</td>\n",
       "    </tr>\n",
       "    <tr>\n",
       "      <th>3</th>\n",
       "      <td>A</td>\n",
       "      <td>2020-12-10</td>\n",
       "      <td>4397.58</td>\n",
       "    </tr>\n",
       "    <tr>\n",
       "      <th>4</th>\n",
       "      <td>A</td>\n",
       "      <td>2020-12-11</td>\n",
       "      <td>4862.58</td>\n",
       "    </tr>\n",
       "    <tr>\n",
       "      <th>5</th>\n",
       "      <td>A</td>\n",
       "      <td>2020-12-12</td>\n",
       "      <td>8951.95</td>\n",
       "    </tr>\n",
       "    <tr>\n",
       "      <th>6</th>\n",
       "      <td>A</td>\n",
       "      <td>2020-12-13</td>\n",
       "      <td>7296.62</td>\n",
       "    </tr>\n",
       "    <tr>\n",
       "      <th>7</th>\n",
       "      <td>A</td>\n",
       "      <td>2020-12-14</td>\n",
       "      <td>11959.68</td>\n",
       "    </tr>\n",
       "    <tr>\n",
       "      <th>8</th>\n",
       "      <td>A</td>\n",
       "      <td>2020-12-15</td>\n",
       "      <td>10385.32</td>\n",
       "    </tr>\n",
       "    <tr>\n",
       "      <th>9</th>\n",
       "      <td>A</td>\n",
       "      <td>2020-12-16</td>\n",
       "      <td>14790.13</td>\n",
       "    </tr>\n",
       "    <tr>\n",
       "      <th>10</th>\n",
       "      <td>A</td>\n",
       "      <td>2020-12-17</td>\n",
       "      <td>10370.13</td>\n",
       "    </tr>\n",
       "    <tr>\n",
       "      <th>11</th>\n",
       "      <td>A</td>\n",
       "      <td>2020-12-18</td>\n",
       "      <td>12225.01</td>\n",
       "    </tr>\n",
       "    <tr>\n",
       "      <th>12</th>\n",
       "      <td>A</td>\n",
       "      <td>2020-12-19</td>\n",
       "      <td>10524.49</td>\n",
       "    </tr>\n",
       "    <tr>\n",
       "      <th>13</th>\n",
       "      <td>A</td>\n",
       "      <td>2020-12-20</td>\n",
       "      <td>13008.81</td>\n",
       "    </tr>\n",
       "    <tr>\n",
       "      <th>14</th>\n",
       "      <td>A</td>\n",
       "      <td>2020-12-21</td>\n",
       "      <td>22092.39</td>\n",
       "    </tr>\n",
       "    <tr>\n",
       "      <th>15</th>\n",
       "      <td>A</td>\n",
       "      <td>2020-12-22</td>\n",
       "      <td>12514.19</td>\n",
       "    </tr>\n",
       "    <tr>\n",
       "      <th>16</th>\n",
       "      <td>A</td>\n",
       "      <td>2020-12-23</td>\n",
       "      <td>10679.89</td>\n",
       "    </tr>\n",
       "    <tr>\n",
       "      <th>17</th>\n",
       "      <td>A</td>\n",
       "      <td>2020-12-24</td>\n",
       "      <td>9636.02</td>\n",
       "    </tr>\n",
       "    <tr>\n",
       "      <th>18</th>\n",
       "      <td>A</td>\n",
       "      <td>2020-12-26</td>\n",
       "      <td>5862.16</td>\n",
       "    </tr>\n",
       "    <tr>\n",
       "      <th>19</th>\n",
       "      <td>A</td>\n",
       "      <td>2020-12-27</td>\n",
       "      <td>8247.18</td>\n",
       "    </tr>\n",
       "    <tr>\n",
       "      <th>20</th>\n",
       "      <td>A</td>\n",
       "      <td>2020-12-28</td>\n",
       "      <td>5452.77</td>\n",
       "    </tr>\n",
       "    <tr>\n",
       "      <th>21</th>\n",
       "      <td>A</td>\n",
       "      <td>2020-12-29</td>\n",
       "      <td>5068.25</td>\n",
       "    </tr>\n",
       "    <tr>\n",
       "      <th>22</th>\n",
       "      <td>A</td>\n",
       "      <td>2020-12-30</td>\n",
       "      <td>114.97</td>\n",
       "    </tr>\n",
       "    <tr>\n",
       "      <th>23</th>\n",
       "      <td>B</td>\n",
       "      <td>2020-12-07</td>\n",
       "      <td>6852.87</td>\n",
       "    </tr>\n",
       "    <tr>\n",
       "      <th>24</th>\n",
       "      <td>B</td>\n",
       "      <td>2020-12-08</td>\n",
       "      <td>4152.94</td>\n",
       "    </tr>\n",
       "    <tr>\n",
       "      <th>25</th>\n",
       "      <td>B</td>\n",
       "      <td>2020-12-09</td>\n",
       "      <td>3702.96</td>\n",
       "    </tr>\n",
       "    <tr>\n",
       "      <th>26</th>\n",
       "      <td>B</td>\n",
       "      <td>2020-12-10</td>\n",
       "      <td>5067.92</td>\n",
       "    </tr>\n",
       "    <tr>\n",
       "      <th>27</th>\n",
       "      <td>B</td>\n",
       "      <td>2020-12-11</td>\n",
       "      <td>4228.08</td>\n",
       "    </tr>\n",
       "    <tr>\n",
       "      <th>28</th>\n",
       "      <td>B</td>\n",
       "      <td>2020-12-12</td>\n",
       "      <td>7437.45</td>\n",
       "    </tr>\n",
       "    <tr>\n",
       "      <th>29</th>\n",
       "      <td>B</td>\n",
       "      <td>2020-12-13</td>\n",
       "      <td>9051.84</td>\n",
       "    </tr>\n",
       "    <tr>\n",
       "      <th>30</th>\n",
       "      <td>B</td>\n",
       "      <td>2020-12-14</td>\n",
       "      <td>7751.29</td>\n",
       "    </tr>\n",
       "    <tr>\n",
       "      <th>31</th>\n",
       "      <td>B</td>\n",
       "      <td>2020-12-15</td>\n",
       "      <td>8896.69</td>\n",
       "    </tr>\n",
       "    <tr>\n",
       "      <th>32</th>\n",
       "      <td>B</td>\n",
       "      <td>2020-12-16</td>\n",
       "      <td>7346.66</td>\n",
       "    </tr>\n",
       "    <tr>\n",
       "      <th>33</th>\n",
       "      <td>B</td>\n",
       "      <td>2020-12-17</td>\n",
       "      <td>9481.70</td>\n",
       "    </tr>\n",
       "    <tr>\n",
       "      <th>34</th>\n",
       "      <td>B</td>\n",
       "      <td>2020-12-18</td>\n",
       "      <td>5451.93</td>\n",
       "    </tr>\n",
       "    <tr>\n",
       "      <th>35</th>\n",
       "      <td>B</td>\n",
       "      <td>2020-12-19</td>\n",
       "      <td>7946.71</td>\n",
       "    </tr>\n",
       "    <tr>\n",
       "      <th>36</th>\n",
       "      <td>B</td>\n",
       "      <td>2020-12-20</td>\n",
       "      <td>11371.32</td>\n",
       "    </tr>\n",
       "    <tr>\n",
       "      <th>37</th>\n",
       "      <td>B</td>\n",
       "      <td>2020-12-21</td>\n",
       "      <td>10075.17</td>\n",
       "    </tr>\n",
       "    <tr>\n",
       "      <th>38</th>\n",
       "      <td>B</td>\n",
       "      <td>2020-12-22</td>\n",
       "      <td>7790.93</td>\n",
       "    </tr>\n",
       "    <tr>\n",
       "      <th>39</th>\n",
       "      <td>B</td>\n",
       "      <td>2020-12-23</td>\n",
       "      <td>9416.03</td>\n",
       "    </tr>\n",
       "    <tr>\n",
       "      <th>40</th>\n",
       "      <td>B</td>\n",
       "      <td>2020-12-24</td>\n",
       "      <td>4457.27</td>\n",
       "    </tr>\n",
       "    <tr>\n",
       "      <th>41</th>\n",
       "      <td>B</td>\n",
       "      <td>2020-12-26</td>\n",
       "      <td>4512.83</td>\n",
       "    </tr>\n",
       "    <tr>\n",
       "      <th>42</th>\n",
       "      <td>B</td>\n",
       "      <td>2020-12-27</td>\n",
       "      <td>3733.22</td>\n",
       "    </tr>\n",
       "    <tr>\n",
       "      <th>43</th>\n",
       "      <td>B</td>\n",
       "      <td>2020-12-28</td>\n",
       "      <td>2378.36</td>\n",
       "    </tr>\n",
       "    <tr>\n",
       "      <th>44</th>\n",
       "      <td>B</td>\n",
       "      <td>2020-12-29</td>\n",
       "      <td>3658.48</td>\n",
       "    </tr>\n",
       "  </tbody>\n",
       "</table>\n",
       "</div>"
      ],
      "text/plain": [
       "   group  events_day   details\n",
       "0      A  2020-12-07   5177.99\n",
       "1      A  2020-12-08   4682.94\n",
       "2      A  2020-12-09   6142.76\n",
       "3      A  2020-12-10   4397.58\n",
       "4      A  2020-12-11   4862.58\n",
       "5      A  2020-12-12   8951.95\n",
       "6      A  2020-12-13   7296.62\n",
       "7      A  2020-12-14  11959.68\n",
       "8      A  2020-12-15  10385.32\n",
       "9      A  2020-12-16  14790.13\n",
       "10     A  2020-12-17  10370.13\n",
       "11     A  2020-12-18  12225.01\n",
       "12     A  2020-12-19  10524.49\n",
       "13     A  2020-12-20  13008.81\n",
       "14     A  2020-12-21  22092.39\n",
       "15     A  2020-12-22  12514.19\n",
       "16     A  2020-12-23  10679.89\n",
       "17     A  2020-12-24   9636.02\n",
       "18     A  2020-12-26   5862.16\n",
       "19     A  2020-12-27   8247.18\n",
       "20     A  2020-12-28   5452.77\n",
       "21     A  2020-12-29   5068.25\n",
       "22     A  2020-12-30    114.97\n",
       "23     B  2020-12-07   6852.87\n",
       "24     B  2020-12-08   4152.94\n",
       "25     B  2020-12-09   3702.96\n",
       "26     B  2020-12-10   5067.92\n",
       "27     B  2020-12-11   4228.08\n",
       "28     B  2020-12-12   7437.45\n",
       "29     B  2020-12-13   9051.84\n",
       "30     B  2020-12-14   7751.29\n",
       "31     B  2020-12-15   8896.69\n",
       "32     B  2020-12-16   7346.66\n",
       "33     B  2020-12-17   9481.70\n",
       "34     B  2020-12-18   5451.93\n",
       "35     B  2020-12-19   7946.71\n",
       "36     B  2020-12-20  11371.32\n",
       "37     B  2020-12-21  10075.17\n",
       "38     B  2020-12-22   7790.93\n",
       "39     B  2020-12-23   9416.03\n",
       "40     B  2020-12-24   4457.27\n",
       "41     B  2020-12-26   4512.83\n",
       "42     B  2020-12-27   3733.22\n",
       "43     B  2020-12-28   2378.36\n",
       "44     B  2020-12-29   3658.48"
      ]
     },
     "execution_count": 44,
     "metadata": {},
     "output_type": "execute_result"
    }
   ],
   "source": [
    "#agrupa por día, se cuenta el número de usuarios únicos por ingreso por grupo\n",
    "purchasefinal=eventspurchase.groupby(['group', \"events_day\"]).agg({\"details\":\"sum\"}).reset_index()\n",
    "purchasefinal"
   ]
  },
  {
   "cell_type": "code",
   "execution_count": 45,
   "metadata": {},
   "outputs": [],
   "source": [
    "# DataFrame con ingresos acumulados por día, grupo A\n",
    "cumulativeGroupA = purchasefinal[purchasefinal['group']=='A'][['events_day','details']]"
   ]
  },
  {
   "cell_type": "code",
   "execution_count": 46,
   "metadata": {},
   "outputs": [],
   "source": [
    "# DataFrame con pedidos acumulados e ingresos acumulados por día, grupo B\n",
    "cumulativeGroupB = purchasefinal[purchasefinal['group']=='B'][['events_day','details']]"
   ]
  },
  {
   "cell_type": "code",
   "execution_count": 47,
   "metadata": {},
   "outputs": [
    {
     "data": {
      "text/plain": [
       "<matplotlib.legend.Legend at 0x7f8eb6dbfe20>"
      ]
     },
     "execution_count": 47,
     "metadata": {},
     "output_type": "execute_result"
    },
    {
     "data": {
      "image/png": "[encoded data removed]",
      "text/plain": [
       "<Figure size 640x480 with 1 Axes>"
      ]
     },
     "metadata": {},
     "output_type": "display_data"
    }
   ],
   "source": [
    "# Trazar el gráfico de ingresos del grupo A\n",
    "plt.plot(cumulativeGroupA['events_day'], cumulativeGroupA['details'], label='A', color=\"pink\")\n",
    "\n",
    "# Trazar el gráfico de ingresos del grupo B\n",
    "plt.plot(cumulativeGroupB['events_day'], cumulativeGroupB['details'], label='B', color=\"hotpink\")\n",
    "\n",
    "plt.legend()"
   ]
  },
  {
   "cell_type": "markdown",
   "metadata": {},
   "source": [
    "Podemos observar que en un inicio el grupo B (nuevo embudo de pago) tuve mejores ingresos pero con el paso de los días el grupo A (grupo control) tomo mejores métricas.\n",
    "En general el grupo A tiene mucho mejores resultados aunque ambos grupos no logran estabilizar sus ingresos lo que nos indica una falta de tiempo en la prueba para considerar resultados más certeros para una toma de decisiones."
   ]
  },
  {
   "cell_type": "code",
   "execution_count": 48,
   "metadata": {},
   "outputs": [
    {
     "data": {
      "text/html": [
       "<div>\n",
       "<style scoped>\n",
       "    .dataframe tbody tr th:only-of-type {\n",
       "        vertical-align: middle;\n",
       "    }\n",
       "\n",
       "    .dataframe tbody tr th {\n",
       "        vertical-align: top;\n",
       "    }\n",
       "\n",
       "    .dataframe thead th {\n",
       "        text-align: right;\n",
       "    }\n",
       "</style>\n",
       "<table border=\"1\" class=\"dataframe\">\n",
       "  <thead>\n",
       "    <tr style=\"text-align: right;\">\n",
       "      <th></th>\n",
       "      <th>events_day</th>\n",
       "      <th>detailsA</th>\n",
       "      <th>detailsB</th>\n",
       "    </tr>\n",
       "  </thead>\n",
       "  <tbody>\n",
       "    <tr>\n",
       "      <th>0</th>\n",
       "      <td>2020-12-07</td>\n",
       "      <td>5177.99</td>\n",
       "      <td>6852.87</td>\n",
       "    </tr>\n",
       "    <tr>\n",
       "      <th>1</th>\n",
       "      <td>2020-12-08</td>\n",
       "      <td>4682.94</td>\n",
       "      <td>4152.94</td>\n",
       "    </tr>\n",
       "    <tr>\n",
       "      <th>2</th>\n",
       "      <td>2020-12-09</td>\n",
       "      <td>6142.76</td>\n",
       "      <td>3702.96</td>\n",
       "    </tr>\n",
       "    <tr>\n",
       "      <th>3</th>\n",
       "      <td>2020-12-10</td>\n",
       "      <td>4397.58</td>\n",
       "      <td>5067.92</td>\n",
       "    </tr>\n",
       "    <tr>\n",
       "      <th>4</th>\n",
       "      <td>2020-12-11</td>\n",
       "      <td>4862.58</td>\n",
       "      <td>4228.08</td>\n",
       "    </tr>\n",
       "    <tr>\n",
       "      <th>5</th>\n",
       "      <td>2020-12-12</td>\n",
       "      <td>8951.95</td>\n",
       "      <td>7437.45</td>\n",
       "    </tr>\n",
       "    <tr>\n",
       "      <th>6</th>\n",
       "      <td>2020-12-13</td>\n",
       "      <td>7296.62</td>\n",
       "      <td>9051.84</td>\n",
       "    </tr>\n",
       "    <tr>\n",
       "      <th>7</th>\n",
       "      <td>2020-12-14</td>\n",
       "      <td>11959.68</td>\n",
       "      <td>7751.29</td>\n",
       "    </tr>\n",
       "    <tr>\n",
       "      <th>8</th>\n",
       "      <td>2020-12-15</td>\n",
       "      <td>10385.32</td>\n",
       "      <td>8896.69</td>\n",
       "    </tr>\n",
       "    <tr>\n",
       "      <th>9</th>\n",
       "      <td>2020-12-16</td>\n",
       "      <td>14790.13</td>\n",
       "      <td>7346.66</td>\n",
       "    </tr>\n",
       "    <tr>\n",
       "      <th>10</th>\n",
       "      <td>2020-12-17</td>\n",
       "      <td>10370.13</td>\n",
       "      <td>9481.70</td>\n",
       "    </tr>\n",
       "    <tr>\n",
       "      <th>11</th>\n",
       "      <td>2020-12-18</td>\n",
       "      <td>12225.01</td>\n",
       "      <td>5451.93</td>\n",
       "    </tr>\n",
       "    <tr>\n",
       "      <th>12</th>\n",
       "      <td>2020-12-19</td>\n",
       "      <td>10524.49</td>\n",
       "      <td>7946.71</td>\n",
       "    </tr>\n",
       "    <tr>\n",
       "      <th>13</th>\n",
       "      <td>2020-12-20</td>\n",
       "      <td>13008.81</td>\n",
       "      <td>11371.32</td>\n",
       "    </tr>\n",
       "    <tr>\n",
       "      <th>14</th>\n",
       "      <td>2020-12-21</td>\n",
       "      <td>22092.39</td>\n",
       "      <td>10075.17</td>\n",
       "    </tr>\n",
       "    <tr>\n",
       "      <th>15</th>\n",
       "      <td>2020-12-22</td>\n",
       "      <td>12514.19</td>\n",
       "      <td>7790.93</td>\n",
       "    </tr>\n",
       "    <tr>\n",
       "      <th>16</th>\n",
       "      <td>2020-12-23</td>\n",
       "      <td>10679.89</td>\n",
       "      <td>9416.03</td>\n",
       "    </tr>\n",
       "    <tr>\n",
       "      <th>17</th>\n",
       "      <td>2020-12-24</td>\n",
       "      <td>9636.02</td>\n",
       "      <td>4457.27</td>\n",
       "    </tr>\n",
       "    <tr>\n",
       "      <th>18</th>\n",
       "      <td>2020-12-26</td>\n",
       "      <td>5862.16</td>\n",
       "      <td>4512.83</td>\n",
       "    </tr>\n",
       "    <tr>\n",
       "      <th>19</th>\n",
       "      <td>2020-12-27</td>\n",
       "      <td>8247.18</td>\n",
       "      <td>3733.22</td>\n",
       "    </tr>\n",
       "    <tr>\n",
       "      <th>20</th>\n",
       "      <td>2020-12-28</td>\n",
       "      <td>5452.77</td>\n",
       "      <td>2378.36</td>\n",
       "    </tr>\n",
       "    <tr>\n",
       "      <th>21</th>\n",
       "      <td>2020-12-29</td>\n",
       "      <td>5068.25</td>\n",
       "      <td>3658.48</td>\n",
       "    </tr>\n",
       "    <tr>\n",
       "      <th>22</th>\n",
       "      <td>2020-12-30</td>\n",
       "      <td>114.97</td>\n",
       "      <td>NaN</td>\n",
       "    </tr>\n",
       "  </tbody>\n",
       "</table>\n",
       "</div>"
      ],
      "text/plain": [
       "    events_day  detailsA  detailsB\n",
       "0   2020-12-07   5177.99   6852.87\n",
       "1   2020-12-08   4682.94   4152.94\n",
       "2   2020-12-09   6142.76   3702.96\n",
       "3   2020-12-10   4397.58   5067.92\n",
       "4   2020-12-11   4862.58   4228.08\n",
       "5   2020-12-12   8951.95   7437.45\n",
       "6   2020-12-13   7296.62   9051.84\n",
       "7   2020-12-14  11959.68   7751.29\n",
       "8   2020-12-15  10385.32   8896.69\n",
       "9   2020-12-16  14790.13   7346.66\n",
       "10  2020-12-17  10370.13   9481.70\n",
       "11  2020-12-18  12225.01   5451.93\n",
       "12  2020-12-19  10524.49   7946.71\n",
       "13  2020-12-20  13008.81  11371.32\n",
       "14  2020-12-21  22092.39  10075.17\n",
       "15  2020-12-22  12514.19   7790.93\n",
       "16  2020-12-23  10679.89   9416.03\n",
       "17  2020-12-24   9636.02   4457.27\n",
       "18  2020-12-26   5862.16   4512.83\n",
       "19  2020-12-27   8247.18   3733.22\n",
       "20  2020-12-28   5452.77   2378.36\n",
       "21  2020-12-29   5068.25   3658.48\n",
       "22  2020-12-30    114.97       NaN"
      ]
     },
     "execution_count": 48,
     "metadata": {},
     "output_type": "execute_result"
    }
   ],
   "source": [
    "#Representa gráficamente la diferencia relativa en el tamaño de pedido promedio acumulado para el grupo B en comparación con el grupo A. \n",
    "# reunir los datos en un Data nuevo\n",
    "mergedCumulativeRevenue = cumulativeGroupA.merge(cumulativeGroupB, left_on='events_day', right_on='events_day', how='left', suffixes=['A', 'B'])\n",
    "mergedCumulativeRevenue"
   ]
  },
  {
   "cell_type": "code",
   "execution_count": 49,
   "metadata": {},
   "outputs": [
    {
     "data": {
      "text/plain": [
       "<matplotlib.lines.Line2D at 0x7f8eb6da2640>"
      ]
     },
     "execution_count": 49,
     "metadata": {},
     "output_type": "execute_result"
    },
    {
     "data": {
      "image/png": "[encoded data removed]",
      "text/plain": [
       "<Figure size 640x480 with 1 Axes>"
      ]
     },
     "metadata": {},
     "output_type": "display_data"
    }
   ],
   "source": [
    "# trazar un gráfico de diferencia relativa para los tamaños de compra promedio\n",
    "plt.plot(mergedCumulativeRevenue['events_day'], (mergedCumulativeRevenue['detailsB']/mergedCumulativeRevenue['detailsA'])-1, color=\"hotpink\")\n",
    "\n",
    "# agregar el eje X\n",
    "plt.axhline(y=0, color='black', linestyle='--')"
   ]
  },
  {
   "cell_type": "markdown",
   "metadata": {},
   "source": [
    "Como podemos observar la gráfica tiene aumntos y descensos muy drásticos y marcados lo que nos habla de los cambios de ingresos entre ambos grupos.\n",
    "\n",
    "Afirmando la falta de estabilidad en los ingresos para la toma de decisiones.\n",
    "\n",
    "Podemos observar la evidencia de de la caida por debajo del 0.0 de nuestra gráfica."
   ]
  },
  {
   "cell_type": "code",
   "execution_count": 50,
   "metadata": {},
   "outputs": [
    {
     "data": {
      "text/html": [
       "<div>\n",
       "<style scoped>\n",
       "    .dataframe tbody tr th:only-of-type {\n",
       "        vertical-align: middle;\n",
       "    }\n",
       "\n",
       "    .dataframe tbody tr th {\n",
       "        vertical-align: top;\n",
       "    }\n",
       "\n",
       "    .dataframe thead th {\n",
       "        text-align: right;\n",
       "    }\n",
       "</style>\n",
       "<table border=\"1\" class=\"dataframe\">\n",
       "  <thead>\n",
       "    <tr style=\"text-align: right;\">\n",
       "      <th></th>\n",
       "      <th>group</th>\n",
       "      <th>events_day</th>\n",
       "      <th>event_name</th>\n",
       "      <th>user_id</th>\n",
       "    </tr>\n",
       "  </thead>\n",
       "  <tbody>\n",
       "    <tr>\n",
       "      <th>0</th>\n",
       "      <td>A</td>\n",
       "      <td>2020-12-07</td>\n",
       "      <td>login</td>\n",
       "      <td>609</td>\n",
       "    </tr>\n",
       "    <tr>\n",
       "      <th>1</th>\n",
       "      <td>A</td>\n",
       "      <td>2020-12-07</td>\n",
       "      <td>product_cart</td>\n",
       "      <td>166</td>\n",
       "    </tr>\n",
       "    <tr>\n",
       "      <th>2</th>\n",
       "      <td>A</td>\n",
       "      <td>2020-12-07</td>\n",
       "      <td>product_page</td>\n",
       "      <td>399</td>\n",
       "    </tr>\n",
       "    <tr>\n",
       "      <th>3</th>\n",
       "      <td>A</td>\n",
       "      <td>2020-12-07</td>\n",
       "      <td>purchase</td>\n",
       "      <td>201</td>\n",
       "    </tr>\n",
       "    <tr>\n",
       "      <th>4</th>\n",
       "      <td>A</td>\n",
       "      <td>2020-12-08</td>\n",
       "      <td>login</td>\n",
       "      <td>656</td>\n",
       "    </tr>\n",
       "    <tr>\n",
       "      <th>...</th>\n",
       "      <td>...</td>\n",
       "      <td>...</td>\n",
       "      <td>...</td>\n",
       "      <td>...</td>\n",
       "    </tr>\n",
       "    <tr>\n",
       "      <th>178</th>\n",
       "      <td>B</td>\n",
       "      <td>2020-12-29</td>\n",
       "      <td>product_page</td>\n",
       "      <td>270</td>\n",
       "    </tr>\n",
       "    <tr>\n",
       "      <th>179</th>\n",
       "      <td>B</td>\n",
       "      <td>2020-12-29</td>\n",
       "      <td>purchase</td>\n",
       "      <td>152</td>\n",
       "    </tr>\n",
       "    <tr>\n",
       "      <th>180</th>\n",
       "      <td>B</td>\n",
       "      <td>2020-12-30</td>\n",
       "      <td>login</td>\n",
       "      <td>3</td>\n",
       "    </tr>\n",
       "    <tr>\n",
       "      <th>181</th>\n",
       "      <td>B</td>\n",
       "      <td>2020-12-30</td>\n",
       "      <td>product_cart</td>\n",
       "      <td>1</td>\n",
       "    </tr>\n",
       "    <tr>\n",
       "      <th>182</th>\n",
       "      <td>B</td>\n",
       "      <td>2020-12-30</td>\n",
       "      <td>product_page</td>\n",
       "      <td>2</td>\n",
       "    </tr>\n",
       "  </tbody>\n",
       "</table>\n",
       "<p>183 rows × 4 columns</p>\n",
       "</div>"
      ],
      "text/plain": [
       "    group  events_day    event_name  user_id\n",
       "0       A  2020-12-07         login      609\n",
       "1       A  2020-12-07  product_cart      166\n",
       "2       A  2020-12-07  product_page      399\n",
       "3       A  2020-12-07      purchase      201\n",
       "4       A  2020-12-08         login      656\n",
       "..    ...         ...           ...      ...\n",
       "178     B  2020-12-29  product_page      270\n",
       "179     B  2020-12-29      purchase      152\n",
       "180     B  2020-12-30         login        3\n",
       "181     B  2020-12-30  product_cart        1\n",
       "182     B  2020-12-30  product_page        2\n",
       "\n",
       "[183 rows x 4 columns]"
      ]
     },
     "execution_count": 50,
     "metadata": {},
     "output_type": "execute_result"
    }
   ],
   "source": [
    "#Calcular la tasa de conversión de cada grupo. \n",
    "\n",
    "#agrupar por día por evento\n",
    "total_events=datamerge.groupby(['group', \"events_day\", \"event_name\"]).agg({\"user_id\":\"count\"}).reset_index()\n",
    "total_events\n"
   ]
  },
  {
   "cell_type": "code",
   "execution_count": 51,
   "metadata": {},
   "outputs": [],
   "source": [
    "# DataFrame con eventos acumulados por día, grupo A\n",
    "cumulativeEventA = total_events[total_events['group']=='A'][['event_name','user_id']]"
   ]
  },
  {
   "cell_type": "code",
   "execution_count": 52,
   "metadata": {},
   "outputs": [],
   "source": [
    "# DataFrame con eventos acumulados por día, grupo B\n",
    "cumulativeEventB = total_events[total_events['group']=='B'][['event_name','user_id']]"
   ]
  },
  {
   "cell_type": "code",
   "execution_count": 53,
   "metadata": {},
   "outputs": [
    {
     "data": {
      "text/plain": [
       "<matplotlib.collections.PathCollection at 0x7f8eb4ca5760>"
      ]
     },
     "execution_count": 53,
     "metadata": {},
     "output_type": "execute_result"
    },
    {
     "data": {
      "image/png": "[encoded data removed]",
      "text/plain": [
       "<Figure size 640x480 with 1 Axes>"
      ]
     },
     "metadata": {},
     "output_type": "display_data"
    }
   ],
   "source": [
    "#Traza un gráfico de dispersión de los precios de los pedidos realizados. \n",
    "\n",
    "#considerar el precio de revenue de las ordenes \n",
    "revenue = pd.Series(range(0, len(purchasefinal['details'])))\n",
    "#creación de gráfico de dispersión \n",
    "plt.scatter(revenue, purchasefinal['details'], color=\"purple\")"
   ]
  },
  {
   "cell_type": "markdown",
   "metadata": {},
   "source": [
    "Los ingresos entre nuestros usuarios no tienen una cantidad promedio que se siga como tendencia podemos observar la varidad de ingresos registrados, con valores atipicos, teniendo un rango \"normal/promedio\" de 5000 a 10 000 de ingresos.\n",
    "\n",
    "Mayor a esta cantidad ya podriamos considerarlos atípicos."
   ]
  },
  {
   "cell_type": "code",
   "execution_count": 54,
   "metadata": {},
   "outputs": [
    {
     "name": "stdout",
     "output_type": "stream",
     "text": [
      "[12909.886  18879.3956]\n"
     ]
    }
   ],
   "source": [
    "#Calcula los percentiles 95 y 99 de los precios de los pedidos. \n",
    "\n",
    "#coloca rango de revenue de la tabla orders\n",
    "print(np.percentile(purchasefinal['details'], [95, 99]))"
   ]
  },
  {
   "cell_type": "markdown",
   "metadata": {},
   "source": [
    "Solo el 5% de los usuarios pagarían más de 12 909 y solo el 1% pagaría más de 18 879 dólares.\n",
    "Pudiendo observar estos datos en la gráfica anterior."
   ]
  },
  {
   "cell_type": "code",
   "execution_count": 55,
   "metadata": {},
   "outputs": [
    {
     "data": {
      "image/png": "[encoded data removed]",
      "text/plain": [
       "<Figure size 640x480 with 1 Axes>"
      ]
     },
     "metadata": {},
     "output_type": "display_data"
    }
   ],
   "source": [
    "#graficar embudo por eventos\n",
    "cumulativeEventA.plot(y=\"user_id\", x=\"event_name\", kind= \"bar\", xlabel= \"Eventos\",\n",
    "                   ylabel=\"Cantidad de usuarios\",\n",
    "                   title=\"Embudo por eventos en los clientes grupo A\", \n",
    "                   color=\"pink\")\n",
    "plt.xticks([])\n",
    "plt.show()"
   ]
  },
  {
   "cell_type": "code",
   "execution_count": 56,
   "metadata": {},
   "outputs": [
    {
     "data": {
      "image/png": "[encoded data removed]",
      "text/plain": [
       "<Figure size 640x480 with 1 Axes>"
      ]
     },
     "metadata": {},
     "output_type": "display_data"
    }
   ],
   "source": [
    "#graficar embudo por eventos\n",
    "cumulativeEventB.plot(y=\"user_id\", x=\"event_name\", kind= \"bar\", xlabel= \"Eventos\",\n",
    "                   ylabel=\"Cantidad de usuarios\",\n",
    "                   title=\"Embudo por eventos en los clientes grupo B\", \n",
    "                   color=\"hotpink\")\n",
    "plt.xticks([])\n",
    "plt.show()"
   ]
  },
  {
   "cell_type": "markdown",
   "metadata": {},
   "source": [
    "El grupo A (contorl) muestra mejores resultados en sus tablas en cada una de las etapas, esto concuerda con la efectividad que se quería demostrar en la prueba, teniendo mejores números en el grupo esperado."
   ]
  },
  {
   "cell_type": "markdown",
   "metadata": {},
   "source": [
    "**¿Qué puedes decir sobre los resultados de la prueba A/B?**\n",
    "\n",
    "Los gráficos nos mostraron que el grupo A visualmente ha dado mejores resultados durante las pruebas, hemos evaluado los ingresos y las etapas que tenemos para llegara a una compra mpostrando mejores resultados en el grupo A.\n",
    "\n",
    "Igualmete observamos muchas fluctuaciones en los datos, lo que puede ser normal por el tiempo tan corto que se llevo anteriormnte la prueba. Debemos conisderar esto para no tomar una decision precipitada que pueda afectarnos con el equipo.\n",
    "\n",
    "El rango de ingresos aún llega a ser muy disperso, y elevado, pero podemos evaluar si esto es normal conociendo las compras anteriores a la prueba  saber si son métricas normales para la empresa o son ingresos anormales debido a la prueva o época del año donde se realizó la prueba (post 4th July)."
   ]
  },
  {
   "cell_type": "markdown",
   "metadata": {},
   "source": [
    "# Comprobar la diferencia estadística"
   ]
  },
  {
   "cell_type": "markdown",
   "metadata": {},
   "source": [
    "Por ultimo vamos a demostrar con la prueba de mannwhitneyu si existe alguna diferencia entre amis grupos que nos pueda decir si la prueba ha sido exitosa o no.\n",
    "\n",
    "Nuestra Ho, nos dice que no existen diferencias signiicativas entre ambos grupos, por lo cual los cambios no tendrán un impacto como lo espera la empresa.\n",
    "\n",
    "Hasta el momento las gráficas nos han hecho pensar que se podría tener diferencias entre los grupos, pero solo una prueba nos confirmara o corroborará que los gráfico no siempre son tan confiables hasta demostar la información."
   ]
  },
  {
   "cell_type": "code",
   "execution_count": 57,
   "metadata": {},
   "outputs": [],
   "source": [
    "#Encuentra la significancia estadística de la diferencia en la conversión entre los grupos utilizando los datos en bruto. \n",
    "\n",
    "#creaemos variables para almacenar información del grupo A\n",
    "UsersA = (datamerge[datamerge['group'] == 'A'].agg({'details': \"sum\"}))\n",
    "\n",
    "#creaemos variables para almacenar información del grupo B\n",
    "UsersB = (datamerge[datamerge['group'] == 'B'].agg({'details': \"sum\"}))\n"
   ]
  },
  {
   "cell_type": "code",
   "execution_count": 61,
   "metadata": {},
   "outputs": [
    {
     "name": "stdout",
     "output_type": "stream",
     "text": [
      "p-value:  1.0\n",
      "No se pudo rechazar la hipótesis nula: no podemos sacar conclusiones sobre la diferencia\n"
     ]
    }
   ],
   "source": [
    "alpha = .05 #nivel de significación\n",
    "\n",
    "results = st.mannwhitneyu(UsersB, UsersA)\n",
    "\n",
    "print('p-value: ', results.pvalue)\n",
    "\n",
    "if (results.pvalue < alpha):\n",
    "    print(\"Hipótesis nula rechazada: existen diferencias significativas entre las distribuciones de los dos grupos comparados\")\n",
    "else:\n",
    "    print(\"No se pudo rechazar la hipótesis nula: no podemos sacar conclusiones sobre la diferencia\")"
   ]
  },
  {
   "cell_type": "markdown",
   "metadata": {},
   "source": [
    "El valor p es notablemente superior a 0.05, por lo que no hay motivo para rechazar la hipótesis nula y concluir que el tamaño de ingresos entre ambos grupos difiere entre los grupos."
   ]
  },
  {
   "cell_type": "markdown",
   "metadata": {},
   "source": [
    "# Conclusiones"
   ]
  },
  {
   "cell_type": "markdown",
   "metadata": {},
   "source": [
    "- Existen muchos datos ausentes en el data users_events a que solo el evento \"detail\" nos dará el ingreso logrado para la empresa por usuario, las demás etapas no muestran ingresos por naturaleza del evento.\n",
    "\n",
    "- El orden previsto por la compañia sobre las acciones que debe seguir el usuario para realizar un pedido no siempre es el correcto, esto deve ser tomado en cuenta a la hora de analizar si hubo un aumento en todas las etapas con la prueba.\n",
    "\n",
    "- En datos generales solo llega el 32.85% de los clientes que llegan a la pagina finalizan comprndo un producto.\n",
    "\n",
    "- El mayor punto de pérdida de los clientes es el momento de ver los productos  pasar a la pagina del carrito para proceder al pago, debemos evaluar si existe un problema con la página o los precios o solo falta de decisión de los clientes que esto esta pasando.\n",
    "\n",
    "- Los grupos están distribuidos equitativamnete entre ambos grupos.\n",
    "\n",
    "- El grupo A mostro mejores ventas, ,aunque ambos grupos muestran muchas fluctuaciones en sus datos, sin ninguno poder llegar a un punto de estabilidad, esto puede ser por la duración de la prueba, 3 semanas de estudio puede que no haan sido suficientes y esto debe ser un punto a considerar en la toma de dcisiones en la compañia.\n",
    "\n",
    "- El ingreso puede ir desde los 5000 hasta los 12000 dentro de un rango promedio. También observamos que no existe un rango moda que se pueda observar en las gráficas.\n",
    "\n",
    "- El grupo A muestra mejores números en todas sus etapas n las gráficas.\n",
    "\n",
    "- Al comprobar la diferencia con la prueba podemos decir que NO es lo suficientemente grande para considerar que ha un éxito con la prueba.\n",
    "\n",
    "- Se recomienda una prueba con mayor tiempo para un mejor análisis  una mejor toma de decisiones. Si se debe tomar una decisión con los datos actuales se puede decir que hasta el momento No se han visto una mejora con la plataforma por lo que el cambio en la página no tendría repercusiones en nuestras ventas a futuro."
   ]
  },
  {
   "cell_type": "code",
   "execution_count": null,
   "metadata": {},
   "outputs": [],
   "source": []
  }
 ],
 "metadata": {
  "ExecuteTimeLog": [
   {
    "duration": 2486,
    "start_time": "2025-02-18T19:35:04.291Z"
   },
   {
    "duration": 406,
    "start_time": "2025-02-18T19:44:26.639Z"
   },
   {
    "duration": 340,
    "start_time": "2025-02-18T19:44:34.899Z"
   },
   {
    "duration": 8,
    "start_time": "2025-02-18T19:57:36.604Z"
   },
   {
    "duration": 10,
    "start_time": "2025-02-18T19:57:57.226Z"
   },
   {
    "duration": 5,
    "start_time": "2025-02-18T19:58:11.573Z"
   },
   {
    "duration": 4,
    "start_time": "2025-02-18T19:58:21.477Z"
   },
   {
    "duration": 4,
    "start_time": "2025-02-18T19:59:44.782Z"
   },
   {
    "duration": 4,
    "start_time": "2025-02-18T20:00:05.399Z"
   },
   {
    "duration": 8,
    "start_time": "2025-02-18T20:00:37.342Z"
   },
   {
    "duration": 3,
    "start_time": "2025-02-18T20:01:29.754Z"
   },
   {
    "duration": 14,
    "start_time": "2025-02-18T20:04:50.985Z"
   },
   {
    "duration": 7,
    "start_time": "2025-02-18T20:05:19.461Z"
   },
   {
    "duration": 10,
    "start_time": "2025-02-18T20:05:31.716Z"
   },
   {
    "duration": 21,
    "start_time": "2025-02-18T20:05:37.651Z"
   },
   {
    "duration": 615,
    "start_time": "2025-02-18T20:05:58.435Z"
   },
   {
    "duration": 9,
    "start_time": "2025-02-18T20:06:19.405Z"
   },
   {
    "duration": 12,
    "start_time": "2025-02-18T20:06:25.938Z"
   },
   {
    "duration": 43,
    "start_time": "2025-02-18T20:06:44.342Z"
   },
   {
    "duration": 7,
    "start_time": "2025-02-18T20:07:13.785Z"
   },
   {
    "duration": 37,
    "start_time": "2025-02-18T20:07:24.271Z"
   },
   {
    "duration": 170,
    "start_time": "2025-02-18T20:07:32.873Z"
   },
   {
    "duration": 63,
    "start_time": "2025-02-18T20:07:57.441Z"
   },
   {
    "duration": 31,
    "start_time": "2025-02-18T20:07:58.072Z"
   },
   {
    "duration": 9,
    "start_time": "2025-02-18T20:08:21.486Z"
   },
   {
    "duration": 6,
    "start_time": "2025-02-18T20:08:32.712Z"
   },
   {
    "duration": 5,
    "start_time": "2025-02-18T20:08:42.685Z"
   },
   {
    "duration": 7,
    "start_time": "2025-02-18T20:08:49.017Z"
   },
   {
    "duration": 11,
    "start_time": "2025-02-18T20:30:19.450Z"
   },
   {
    "duration": 14,
    "start_time": "2025-02-18T20:37:26.145Z"
   },
   {
    "duration": 333,
    "start_time": "2025-02-18T20:37:35.200Z"
   },
   {
    "duration": 804,
    "start_time": "2025-02-18T20:40:05.625Z"
   },
   {
    "duration": 340,
    "start_time": "2025-02-18T20:40:06.431Z"
   },
   {
    "duration": 9,
    "start_time": "2025-02-18T20:40:06.773Z"
   },
   {
    "duration": 9,
    "start_time": "2025-02-18T20:40:06.784Z"
   },
   {
    "duration": 4,
    "start_time": "2025-02-18T20:40:06.808Z"
   },
   {
    "duration": 3,
    "start_time": "2025-02-18T20:40:06.814Z"
   },
   {
    "duration": 3,
    "start_time": "2025-02-18T20:40:06.819Z"
   },
   {
    "duration": 4,
    "start_time": "2025-02-18T20:40:06.824Z"
   },
   {
    "duration": 8,
    "start_time": "2025-02-18T20:40:06.829Z"
   },
   {
    "duration": 13,
    "start_time": "2025-02-18T20:40:06.838Z"
   },
   {
    "duration": 7,
    "start_time": "2025-02-18T20:40:06.852Z"
   },
   {
    "duration": 47,
    "start_time": "2025-02-18T20:40:06.861Z"
   },
   {
    "duration": 28,
    "start_time": "2025-02-18T20:40:06.910Z"
   },
   {
    "duration": 9,
    "start_time": "2025-02-18T20:40:06.942Z"
   },
   {
    "duration": 15,
    "start_time": "2025-02-18T20:40:06.953Z"
   },
   {
    "duration": 59,
    "start_time": "2025-02-18T20:40:06.971Z"
   },
   {
    "duration": 7,
    "start_time": "2025-02-18T20:40:07.032Z"
   },
   {
    "duration": 8,
    "start_time": "2025-02-18T20:40:07.042Z"
   },
   {
    "duration": 58,
    "start_time": "2025-02-18T20:40:07.052Z"
   },
   {
    "duration": 183,
    "start_time": "2025-02-18T20:40:07.112Z"
   },
   {
    "duration": 60,
    "start_time": "2025-02-18T20:40:07.297Z"
   },
   {
    "duration": 32,
    "start_time": "2025-02-18T20:40:07.358Z"
   },
   {
    "duration": 23,
    "start_time": "2025-02-18T20:40:07.392Z"
   },
   {
    "duration": 6,
    "start_time": "2025-02-18T20:40:07.417Z"
   },
   {
    "duration": 5,
    "start_time": "2025-02-18T20:40:07.425Z"
   },
   {
    "duration": 6,
    "start_time": "2025-02-18T20:40:07.432Z"
   },
   {
    "duration": 536,
    "start_time": "2025-02-18T20:40:07.440Z"
   },
   {
    "duration": 0,
    "start_time": "2025-02-18T20:40:07.978Z"
   },
   {
    "duration": 0,
    "start_time": "2025-02-18T20:40:07.979Z"
   },
   {
    "duration": 0,
    "start_time": "2025-02-18T20:40:07.981Z"
   },
   {
    "duration": 0,
    "start_time": "2025-02-18T20:40:07.982Z"
   },
   {
    "duration": 827,
    "start_time": "2025-02-18T20:52:30.198Z"
   },
   {
    "duration": 404,
    "start_time": "2025-02-18T20:52:31.027Z"
   },
   {
    "duration": 10,
    "start_time": "2025-02-18T20:52:31.433Z"
   },
   {
    "duration": 10,
    "start_time": "2025-02-18T20:52:31.445Z"
   },
   {
    "duration": 4,
    "start_time": "2025-02-18T20:52:31.458Z"
   },
   {
    "duration": 4,
    "start_time": "2025-02-18T20:52:31.464Z"
   },
   {
    "duration": 3,
    "start_time": "2025-02-18T20:52:31.471Z"
   },
   {
    "duration": 4,
    "start_time": "2025-02-18T20:52:31.476Z"
   },
   {
    "duration": 28,
    "start_time": "2025-02-18T20:52:31.482Z"
   },
   {
    "duration": 13,
    "start_time": "2025-02-18T20:52:31.512Z"
   },
   {
    "duration": 6,
    "start_time": "2025-02-18T20:52:31.527Z"
   },
   {
    "duration": 9,
    "start_time": "2025-02-18T20:52:31.535Z"
   },
   {
    "duration": 21,
    "start_time": "2025-02-18T20:52:31.546Z"
   },
   {
    "duration": 38,
    "start_time": "2025-02-18T20:52:31.571Z"
   },
   {
    "duration": 12,
    "start_time": "2025-02-18T20:52:31.610Z"
   },
   {
    "duration": 42,
    "start_time": "2025-02-18T20:52:31.624Z"
   },
   {
    "duration": 7,
    "start_time": "2025-02-18T20:52:31.667Z"
   },
   {
    "duration": 38,
    "start_time": "2025-02-18T20:52:31.676Z"
   },
   {
    "duration": 38,
    "start_time": "2025-02-18T20:52:31.715Z"
   },
   {
    "duration": 166,
    "start_time": "2025-02-18T20:52:31.754Z"
   },
   {
    "duration": 62,
    "start_time": "2025-02-18T20:52:31.922Z"
   },
   {
    "duration": 38,
    "start_time": "2025-02-18T20:52:31.986Z"
   },
   {
    "duration": 8,
    "start_time": "2025-02-18T20:52:32.025Z"
   },
   {
    "duration": 6,
    "start_time": "2025-02-18T20:52:32.035Z"
   },
   {
    "duration": 5,
    "start_time": "2025-02-18T20:52:32.042Z"
   },
   {
    "duration": 7,
    "start_time": "2025-02-18T20:52:32.048Z"
   },
   {
    "duration": 295,
    "start_time": "2025-02-18T20:52:32.057Z"
   },
   {
    "duration": 0,
    "start_time": "2025-02-18T20:52:32.354Z"
   },
   {
    "duration": 0,
    "start_time": "2025-02-18T20:52:32.355Z"
   },
   {
    "duration": 0,
    "start_time": "2025-02-18T20:52:32.356Z"
   },
   {
    "duration": 0,
    "start_time": "2025-02-18T20:52:32.357Z"
   },
   {
    "duration": 0,
    "start_time": "2025-02-18T20:52:32.358Z"
   },
   {
    "duration": 99,
    "start_time": "2025-02-18T20:53:19.408Z"
   },
   {
    "duration": 84,
    "start_time": "2025-02-18T20:53:31.365Z"
   },
   {
    "duration": 437,
    "start_time": "2025-02-18T20:54:56.592Z"
   },
   {
    "duration": 118,
    "start_time": "2025-02-18T20:55:23.285Z"
   },
   {
    "duration": 95,
    "start_time": "2025-02-18T20:55:58.313Z"
   },
   {
    "duration": 85,
    "start_time": "2025-02-18T20:56:10.678Z"
   },
   {
    "duration": 3,
    "start_time": "2025-02-18T20:58:42.878Z"
   },
   {
    "duration": 87,
    "start_time": "2025-02-18T20:58:58.120Z"
   },
   {
    "duration": 48,
    "start_time": "2025-02-18T20:59:13.784Z"
   },
   {
    "duration": 38,
    "start_time": "2025-02-18T20:59:24.052Z"
   },
   {
    "duration": 53,
    "start_time": "2025-02-18T21:00:01.384Z"
   },
   {
    "duration": 38,
    "start_time": "2025-02-18T21:00:24.062Z"
   },
   {
    "duration": 136,
    "start_time": "2025-02-18T21:00:58.809Z"
   },
   {
    "duration": 115,
    "start_time": "2025-02-18T21:01:04.912Z"
   },
   {
    "duration": 17,
    "start_time": "2025-02-18T21:09:11.958Z"
   },
   {
    "duration": 8,
    "start_time": "2025-02-18T21:09:17.755Z"
   },
   {
    "duration": 8,
    "start_time": "2025-02-18T21:09:51.968Z"
   },
   {
    "duration": 14,
    "start_time": "2025-02-18T21:10:58.425Z"
   },
   {
    "duration": 9,
    "start_time": "2025-02-18T21:15:06.398Z"
   },
   {
    "duration": 12,
    "start_time": "2025-02-18T21:19:41.852Z"
   },
   {
    "duration": 156,
    "start_time": "2025-02-18T22:43:04.601Z"
   },
   {
    "duration": 2546,
    "start_time": "2025-02-18T22:43:16.209Z"
   },
   {
    "duration": 408,
    "start_time": "2025-02-18T22:43:18.758Z"
   },
   {
    "duration": 9,
    "start_time": "2025-02-18T22:43:19.170Z"
   },
   {
    "duration": 12,
    "start_time": "2025-02-18T22:43:19.181Z"
   },
   {
    "duration": 3,
    "start_time": "2025-02-18T22:43:19.196Z"
   },
   {
    "duration": 4,
    "start_time": "2025-02-18T22:43:19.201Z"
   },
   {
    "duration": 4,
    "start_time": "2025-02-18T22:43:19.207Z"
   },
   {
    "duration": 4,
    "start_time": "2025-02-18T22:43:19.212Z"
   },
   {
    "duration": 9,
    "start_time": "2025-02-18T22:43:19.218Z"
   },
   {
    "duration": 13,
    "start_time": "2025-02-18T22:43:19.228Z"
   },
   {
    "duration": 6,
    "start_time": "2025-02-18T22:43:19.242Z"
   },
   {
    "duration": 10,
    "start_time": "2025-02-18T22:43:19.287Z"
   },
   {
    "duration": 22,
    "start_time": "2025-02-18T22:43:19.300Z"
   },
   {
    "duration": 8,
    "start_time": "2025-02-18T22:43:19.326Z"
   },
   {
    "duration": 12,
    "start_time": "2025-02-18T22:43:19.336Z"
   },
   {
    "duration": 67,
    "start_time": "2025-02-18T22:43:19.349Z"
   },
   {
    "duration": 7,
    "start_time": "2025-02-18T22:43:19.417Z"
   },
   {
    "duration": 8,
    "start_time": "2025-02-18T22:43:19.426Z"
   },
   {
    "duration": 53,
    "start_time": "2025-02-18T22:43:19.436Z"
   },
   {
    "duration": 167,
    "start_time": "2025-02-18T22:43:19.491Z"
   },
   {
    "duration": 62,
    "start_time": "2025-02-18T22:43:19.660Z"
   },
   {
    "duration": 31,
    "start_time": "2025-02-18T22:43:19.723Z"
   },
   {
    "duration": 9,
    "start_time": "2025-02-18T22:43:19.755Z"
   },
   {
    "duration": 7,
    "start_time": "2025-02-18T22:43:19.765Z"
   },
   {
    "duration": 6,
    "start_time": "2025-02-18T22:43:19.787Z"
   },
   {
    "duration": 6,
    "start_time": "2025-02-18T22:43:19.795Z"
   },
   {
    "duration": 123,
    "start_time": "2025-02-18T22:43:19.803Z"
   },
   {
    "duration": 137,
    "start_time": "2025-02-18T22:43:19.927Z"
   },
   {
    "duration": 6,
    "start_time": "2025-02-18T22:43:20.066Z"
   },
   {
    "duration": 17,
    "start_time": "2025-02-18T22:43:20.074Z"
   },
   {
    "duration": 12,
    "start_time": "2025-02-18T22:43:20.093Z"
   },
   {
    "duration": 7,
    "start_time": "2025-02-18T22:43:20.107Z"
   },
   {
    "duration": 11,
    "start_time": "2025-02-18T22:43:20.115Z"
   },
   {
    "duration": 2,
    "start_time": "2025-02-18T22:43:20.128Z"
   },
   {
    "duration": 3,
    "start_time": "2025-02-18T22:43:20.132Z"
   },
   {
    "duration": 2,
    "start_time": "2025-02-18T22:43:20.137Z"
   },
   {
    "duration": 651,
    "start_time": "2025-02-18T23:07:39.881Z"
   },
   {
    "duration": 315,
    "start_time": "2025-02-18T23:07:57.276Z"
   },
   {
    "duration": 177,
    "start_time": "2025-02-18T23:08:11.591Z"
   },
   {
    "duration": 2,
    "start_time": "2025-02-18T23:10:09.127Z"
   },
   {
    "duration": 102,
    "start_time": "2025-02-18T23:15:29.011Z"
   },
   {
    "duration": 63,
    "start_time": "2025-02-18T23:16:17.762Z"
   },
   {
    "duration": 91,
    "start_time": "2025-02-18T23:17:23.037Z"
   },
   {
    "duration": 118,
    "start_time": "2025-02-18T23:33:44.540Z"
   },
   {
    "duration": 81,
    "start_time": "2025-02-18T23:34:19.434Z"
   },
   {
    "duration": 119,
    "start_time": "2025-02-18T23:34:24.043Z"
   },
   {
    "duration": 95,
    "start_time": "2025-02-18T23:34:57.385Z"
   },
   {
    "duration": 125,
    "start_time": "2025-02-18T23:36:09.971Z"
   },
   {
    "duration": 82,
    "start_time": "2025-02-18T23:37:57.718Z"
   },
   {
    "duration": 78,
    "start_time": "2025-02-18T23:39:01.970Z"
   },
   {
    "duration": 80,
    "start_time": "2025-02-18T23:39:20.431Z"
   },
   {
    "duration": 263,
    "start_time": "2025-02-18T23:46:34.604Z"
   },
   {
    "duration": 5,
    "start_time": "2025-02-18T23:47:39.095Z"
   },
   {
    "duration": 46,
    "start_time": "2025-02-19T00:23:31.258Z"
   },
   {
    "duration": 775,
    "start_time": "2025-02-19T00:23:59.334Z"
   },
   {
    "duration": 352,
    "start_time": "2025-02-19T00:24:00.111Z"
   },
   {
    "duration": 9,
    "start_time": "2025-02-19T00:24:00.465Z"
   },
   {
    "duration": 17,
    "start_time": "2025-02-19T00:24:00.476Z"
   },
   {
    "duration": 3,
    "start_time": "2025-02-19T00:24:00.496Z"
   },
   {
    "duration": 4,
    "start_time": "2025-02-19T00:24:00.501Z"
   },
   {
    "duration": 4,
    "start_time": "2025-02-19T00:24:00.507Z"
   },
   {
    "duration": 3,
    "start_time": "2025-02-19T00:24:00.512Z"
   },
   {
    "duration": 9,
    "start_time": "2025-02-19T00:24:00.517Z"
   },
   {
    "duration": 13,
    "start_time": "2025-02-19T00:24:00.527Z"
   },
   {
    "duration": 6,
    "start_time": "2025-02-19T00:24:00.542Z"
   },
   {
    "duration": 10,
    "start_time": "2025-02-19T00:24:00.587Z"
   },
   {
    "duration": 22,
    "start_time": "2025-02-19T00:24:00.598Z"
   },
   {
    "duration": 8,
    "start_time": "2025-02-19T00:24:00.624Z"
   },
   {
    "duration": 12,
    "start_time": "2025-02-19T00:24:00.633Z"
   },
   {
    "duration": 69,
    "start_time": "2025-02-19T00:24:00.646Z"
   },
   {
    "duration": 7,
    "start_time": "2025-02-19T00:24:00.718Z"
   },
   {
    "duration": 9,
    "start_time": "2025-02-19T00:24:00.726Z"
   },
   {
    "duration": 57,
    "start_time": "2025-02-19T00:24:00.736Z"
   },
   {
    "duration": 165,
    "start_time": "2025-02-19T00:24:00.795Z"
   },
   {
    "duration": 62,
    "start_time": "2025-02-19T00:24:00.962Z"
   },
   {
    "duration": 30,
    "start_time": "2025-02-19T00:24:01.026Z"
   },
   {
    "duration": 10,
    "start_time": "2025-02-19T00:24:01.058Z"
   },
   {
    "duration": 6,
    "start_time": "2025-02-19T00:24:01.087Z"
   },
   {
    "duration": 4,
    "start_time": "2025-02-19T00:24:01.096Z"
   },
   {
    "duration": 7,
    "start_time": "2025-02-19T00:24:01.102Z"
   },
   {
    "duration": 108,
    "start_time": "2025-02-19T00:24:01.110Z"
   },
   {
    "duration": 137,
    "start_time": "2025-02-19T00:24:01.220Z"
   },
   {
    "duration": 705,
    "start_time": "2025-02-19T00:24:01.359Z"
   },
   {
    "duration": 0,
    "start_time": "2025-02-19T00:24:02.066Z"
   },
   {
    "duration": 0,
    "start_time": "2025-02-19T00:24:02.068Z"
   },
   {
    "duration": 0,
    "start_time": "2025-02-19T00:24:02.069Z"
   },
   {
    "duration": 0,
    "start_time": "2025-02-19T00:24:02.070Z"
   },
   {
    "duration": 0,
    "start_time": "2025-02-19T00:24:02.071Z"
   },
   {
    "duration": 0,
    "start_time": "2025-02-19T00:24:02.087Z"
   },
   {
    "duration": 0,
    "start_time": "2025-02-19T00:24:02.088Z"
   },
   {
    "duration": 0,
    "start_time": "2025-02-19T00:24:02.089Z"
   },
   {
    "duration": 0,
    "start_time": "2025-02-19T00:24:02.090Z"
   },
   {
    "duration": 0,
    "start_time": "2025-02-19T00:24:02.092Z"
   },
   {
    "duration": 0,
    "start_time": "2025-02-19T00:24:02.093Z"
   },
   {
    "duration": 0,
    "start_time": "2025-02-19T00:24:02.093Z"
   },
   {
    "duration": 0,
    "start_time": "2025-02-19T00:24:02.095Z"
   },
   {
    "duration": 0,
    "start_time": "2025-02-19T00:24:02.096Z"
   },
   {
    "duration": 0,
    "start_time": "2025-02-19T00:24:02.097Z"
   },
   {
    "duration": 0,
    "start_time": "2025-02-19T00:24:02.098Z"
   },
   {
    "duration": 0,
    "start_time": "2025-02-19T00:24:02.099Z"
   },
   {
    "duration": 0,
    "start_time": "2025-02-19T00:24:02.100Z"
   },
   {
    "duration": 0,
    "start_time": "2025-02-19T00:24:02.101Z"
   },
   {
    "duration": 0,
    "start_time": "2025-02-19T00:24:02.102Z"
   },
   {
    "duration": 0,
    "start_time": "2025-02-19T00:24:02.103Z"
   },
   {
    "duration": 0,
    "start_time": "2025-02-19T00:24:02.104Z"
   },
   {
    "duration": 0,
    "start_time": "2025-02-19T00:24:02.105Z"
   },
   {
    "duration": 0,
    "start_time": "2025-02-19T00:24:02.106Z"
   },
   {
    "duration": 0,
    "start_time": "2025-02-19T00:24:02.106Z"
   },
   {
    "duration": 203,
    "start_time": "2025-02-19T00:30:52.419Z"
   },
   {
    "duration": 46,
    "start_time": "2025-02-19T00:31:11.002Z"
   },
   {
    "duration": 12,
    "start_time": "2025-02-19T00:31:32.318Z"
   },
   {
    "duration": 101,
    "start_time": "2025-02-19T00:33:23.129Z"
   },
   {
    "duration": 52,
    "start_time": "2025-02-19T00:34:44.558Z"
   },
   {
    "duration": 51,
    "start_time": "2025-02-19T00:34:57.873Z"
   },
   {
    "duration": 7,
    "start_time": "2025-02-19T00:54:49.063Z"
   },
   {
    "duration": 8,
    "start_time": "2025-02-19T00:54:53.012Z"
   },
   {
    "duration": 7,
    "start_time": "2025-02-19T00:54:54.312Z"
   },
   {
    "duration": 9,
    "start_time": "2025-02-19T00:54:59.112Z"
   },
   {
    "duration": 11,
    "start_time": "2025-02-19T00:55:05.626Z"
   },
   {
    "duration": 2533,
    "start_time": "2025-02-19T14:01:35.642Z"
   },
   {
    "duration": 421,
    "start_time": "2025-02-19T14:01:38.177Z"
   },
   {
    "duration": 8,
    "start_time": "2025-02-19T14:01:38.600Z"
   },
   {
    "duration": 9,
    "start_time": "2025-02-19T14:01:38.611Z"
   },
   {
    "duration": 4,
    "start_time": "2025-02-19T14:01:38.622Z"
   },
   {
    "duration": 4,
    "start_time": "2025-02-19T14:01:38.627Z"
   },
   {
    "duration": 3,
    "start_time": "2025-02-19T14:01:38.633Z"
   },
   {
    "duration": 3,
    "start_time": "2025-02-19T14:01:38.638Z"
   },
   {
    "duration": 8,
    "start_time": "2025-02-19T14:01:38.643Z"
   },
   {
    "duration": 13,
    "start_time": "2025-02-19T14:01:38.653Z"
   },
   {
    "duration": 6,
    "start_time": "2025-02-19T14:01:38.668Z"
   },
   {
    "duration": 10,
    "start_time": "2025-02-19T14:01:38.710Z"
   },
   {
    "duration": 21,
    "start_time": "2025-02-19T14:01:38.721Z"
   },
   {
    "duration": 8,
    "start_time": "2025-02-19T14:01:38.744Z"
   },
   {
    "duration": 12,
    "start_time": "2025-02-19T14:01:38.753Z"
   },
   {
    "duration": 69,
    "start_time": "2025-02-19T14:01:38.767Z"
   },
   {
    "duration": 6,
    "start_time": "2025-02-19T14:01:38.839Z"
   },
   {
    "duration": 9,
    "start_time": "2025-02-19T14:01:38.847Z"
   },
   {
    "duration": 58,
    "start_time": "2025-02-19T14:01:38.857Z"
   },
   {
    "duration": 155,
    "start_time": "2025-02-19T14:01:38.917Z"
   },
   {
    "duration": 63,
    "start_time": "2025-02-19T14:01:39.074Z"
   },
   {
    "duration": 30,
    "start_time": "2025-02-19T14:01:39.139Z"
   },
   {
    "duration": 8,
    "start_time": "2025-02-19T14:01:39.172Z"
   },
   {
    "duration": 26,
    "start_time": "2025-02-19T14:01:39.182Z"
   },
   {
    "duration": 4,
    "start_time": "2025-02-19T14:01:39.210Z"
   },
   {
    "duration": 6,
    "start_time": "2025-02-19T14:01:39.216Z"
   },
   {
    "duration": 98,
    "start_time": "2025-02-19T14:01:39.225Z"
   },
   {
    "duration": 139,
    "start_time": "2025-02-19T14:01:39.327Z"
   },
   {
    "duration": 176,
    "start_time": "2025-02-19T14:01:39.468Z"
   },
   {
    "duration": 10,
    "start_time": "2025-02-19T14:01:39.645Z"
   },
   {
    "duration": 7,
    "start_time": "2025-02-19T14:01:39.656Z"
   },
   {
    "duration": 7,
    "start_time": "2025-02-19T14:01:39.664Z"
   },
   {
    "duration": 6,
    "start_time": "2025-02-19T14:01:39.673Z"
   },
   {
    "duration": 34,
    "start_time": "2025-02-19T14:01:39.681Z"
   },
   {
    "duration": 10,
    "start_time": "2025-02-19T14:01:39.716Z"
   },
   {
    "duration": 2,
    "start_time": "2025-02-19T14:01:39.727Z"
   },
   {
    "duration": 3,
    "start_time": "2025-02-19T14:01:39.731Z"
   },
   {
    "duration": 116,
    "start_time": "2025-02-19T14:01:39.736Z"
   },
   {
    "duration": 55,
    "start_time": "2025-02-19T14:01:39.854Z"
   },
   {
    "duration": 79,
    "start_time": "2025-02-19T14:01:39.911Z"
   },
   {
    "duration": 533,
    "start_time": "2025-02-19T14:01:39.992Z"
   },
   {
    "duration": 0,
    "start_time": "2025-02-19T14:01:40.527Z"
   },
   {
    "duration": 0,
    "start_time": "2025-02-19T14:01:40.528Z"
   },
   {
    "duration": 0,
    "start_time": "2025-02-19T14:01:40.529Z"
   },
   {
    "duration": 0,
    "start_time": "2025-02-19T14:01:40.530Z"
   },
   {
    "duration": 0,
    "start_time": "2025-02-19T14:01:40.531Z"
   },
   {
    "duration": 0,
    "start_time": "2025-02-19T14:01:40.532Z"
   },
   {
    "duration": 0,
    "start_time": "2025-02-19T14:01:40.533Z"
   },
   {
    "duration": 0,
    "start_time": "2025-02-19T14:01:40.534Z"
   },
   {
    "duration": 0,
    "start_time": "2025-02-19T14:01:40.535Z"
   },
   {
    "duration": 0,
    "start_time": "2025-02-19T14:01:40.536Z"
   },
   {
    "duration": 0,
    "start_time": "2025-02-19T14:01:40.537Z"
   },
   {
    "duration": 0,
    "start_time": "2025-02-19T14:01:40.539Z"
   },
   {
    "duration": 0,
    "start_time": "2025-02-19T14:01:40.540Z"
   },
   {
    "duration": 0,
    "start_time": "2025-02-19T14:01:40.542Z"
   },
   {
    "duration": 2,
    "start_time": "2025-02-19T14:04:38.269Z"
   },
   {
    "duration": 229,
    "start_time": "2025-02-19T14:04:44.910Z"
   },
   {
    "duration": 272,
    "start_time": "2025-02-19T14:05:28.342Z"
   },
   {
    "duration": 231,
    "start_time": "2025-02-19T14:05:40.903Z"
   },
   {
    "duration": 179,
    "start_time": "2025-02-19T14:10:26.025Z"
   },
   {
    "duration": 608,
    "start_time": "2025-02-19T14:10:58.301Z"
   },
   {
    "duration": 197,
    "start_time": "2025-02-19T14:11:07.317Z"
   },
   {
    "duration": 833,
    "start_time": "2025-02-19T14:11:17.589Z"
   },
   {
    "duration": 330,
    "start_time": "2025-02-19T14:11:18.425Z"
   },
   {
    "duration": 9,
    "start_time": "2025-02-19T14:11:18.757Z"
   },
   {
    "duration": 9,
    "start_time": "2025-02-19T14:11:18.768Z"
   },
   {
    "duration": 4,
    "start_time": "2025-02-19T14:11:18.779Z"
   },
   {
    "duration": 24,
    "start_time": "2025-02-19T14:11:18.784Z"
   },
   {
    "duration": 3,
    "start_time": "2025-02-19T14:11:18.810Z"
   },
   {
    "duration": 4,
    "start_time": "2025-02-19T14:11:18.815Z"
   },
   {
    "duration": 8,
    "start_time": "2025-02-19T14:11:18.821Z"
   },
   {
    "duration": 12,
    "start_time": "2025-02-19T14:11:18.831Z"
   },
   {
    "duration": 6,
    "start_time": "2025-02-19T14:11:18.844Z"
   },
   {
    "duration": 10,
    "start_time": "2025-02-19T14:11:18.852Z"
   },
   {
    "duration": 58,
    "start_time": "2025-02-19T14:11:18.863Z"
   },
   {
    "duration": 8,
    "start_time": "2025-02-19T14:11:18.925Z"
   },
   {
    "duration": 12,
    "start_time": "2025-02-19T14:11:18.934Z"
   },
   {
    "duration": 41,
    "start_time": "2025-02-19T14:11:18.947Z"
   },
   {
    "duration": 24,
    "start_time": "2025-02-19T14:11:18.989Z"
   },
   {
    "duration": 9,
    "start_time": "2025-02-19T14:11:19.015Z"
   },
   {
    "duration": 39,
    "start_time": "2025-02-19T14:11:19.025Z"
   },
   {
    "duration": 169,
    "start_time": "2025-02-19T14:11:19.066Z"
   },
   {
    "duration": 58,
    "start_time": "2025-02-19T14:11:19.237Z"
   },
   {
    "duration": 39,
    "start_time": "2025-02-19T14:11:19.297Z"
   },
   {
    "duration": 8,
    "start_time": "2025-02-19T14:11:19.338Z"
   },
   {
    "duration": 6,
    "start_time": "2025-02-19T14:11:19.347Z"
   },
   {
    "duration": 4,
    "start_time": "2025-02-19T14:11:19.355Z"
   },
   {
    "duration": 8,
    "start_time": "2025-02-19T14:11:19.361Z"
   },
   {
    "duration": 115,
    "start_time": "2025-02-19T14:11:19.372Z"
   },
   {
    "duration": 136,
    "start_time": "2025-02-19T14:11:19.489Z"
   },
   {
    "duration": 183,
    "start_time": "2025-02-19T14:11:19.626Z"
   },
   {
    "duration": 10,
    "start_time": "2025-02-19T14:11:19.810Z"
   },
   {
    "duration": 7,
    "start_time": "2025-02-19T14:11:19.821Z"
   },
   {
    "duration": 5,
    "start_time": "2025-02-19T14:11:19.830Z"
   },
   {
    "duration": 8,
    "start_time": "2025-02-19T14:11:19.837Z"
   },
   {
    "duration": 7,
    "start_time": "2025-02-19T14:11:19.847Z"
   },
   {
    "duration": 11,
    "start_time": "2025-02-19T14:11:19.856Z"
   },
   {
    "duration": 40,
    "start_time": "2025-02-19T14:11:19.869Z"
   },
   {
    "duration": 203,
    "start_time": "2025-02-19T14:11:19.910Z"
   },
   {
    "duration": 102,
    "start_time": "2025-02-19T14:11:20.115Z"
   },
   {
    "duration": 61,
    "start_time": "2025-02-19T14:11:20.219Z"
   },
   {
    "duration": 92,
    "start_time": "2025-02-19T14:11:20.282Z"
   },
   {
    "duration": 497,
    "start_time": "2025-02-19T14:11:20.378Z"
   },
   {
    "duration": 0,
    "start_time": "2025-02-19T14:11:20.877Z"
   },
   {
    "duration": 0,
    "start_time": "2025-02-19T14:11:20.878Z"
   },
   {
    "duration": 0,
    "start_time": "2025-02-19T14:11:20.878Z"
   },
   {
    "duration": 0,
    "start_time": "2025-02-19T14:11:20.879Z"
   },
   {
    "duration": 0,
    "start_time": "2025-02-19T14:11:20.880Z"
   },
   {
    "duration": 0,
    "start_time": "2025-02-19T14:11:20.881Z"
   },
   {
    "duration": 0,
    "start_time": "2025-02-19T14:11:20.883Z"
   },
   {
    "duration": 0,
    "start_time": "2025-02-19T14:11:20.884Z"
   },
   {
    "duration": 0,
    "start_time": "2025-02-19T14:11:20.885Z"
   },
   {
    "duration": 0,
    "start_time": "2025-02-19T14:11:20.886Z"
   },
   {
    "duration": 1,
    "start_time": "2025-02-19T14:11:20.887Z"
   },
   {
    "duration": 0,
    "start_time": "2025-02-19T14:11:20.888Z"
   },
   {
    "duration": 0,
    "start_time": "2025-02-19T14:11:20.889Z"
   },
   {
    "duration": 0,
    "start_time": "2025-02-19T14:11:20.889Z"
   },
   {
    "duration": 143,
    "start_time": "2025-02-19T14:11:44.699Z"
   },
   {
    "duration": 80,
    "start_time": "2025-02-19T14:29:38.964Z"
   },
   {
    "duration": 263,
    "start_time": "2025-02-19T14:30:47.447Z"
   },
   {
    "duration": 16,
    "start_time": "2025-02-19T14:35:17.805Z"
   },
   {
    "duration": 210,
    "start_time": "2025-02-19T14:36:00.588Z"
   },
   {
    "duration": 12,
    "start_time": "2025-02-19T14:36:15.946Z"
   },
   {
    "duration": 44,
    "start_time": "2025-02-19T14:37:02.680Z"
   },
   {
    "duration": 61,
    "start_time": "2025-02-19T14:37:27.359Z"
   },
   {
    "duration": 63,
    "start_time": "2025-02-19T14:38:59.154Z"
   },
   {
    "duration": 54,
    "start_time": "2025-02-19T14:39:42.554Z"
   },
   {
    "duration": 82,
    "start_time": "2025-02-19T14:58:34.091Z"
   },
   {
    "duration": 787,
    "start_time": "2025-02-19T14:58:49.877Z"
   },
   {
    "duration": 339,
    "start_time": "2025-02-19T14:58:50.666Z"
   },
   {
    "duration": 9,
    "start_time": "2025-02-19T14:58:51.006Z"
   },
   {
    "duration": 11,
    "start_time": "2025-02-19T14:58:51.018Z"
   },
   {
    "duration": 3,
    "start_time": "2025-02-19T14:58:51.030Z"
   },
   {
    "duration": 3,
    "start_time": "2025-02-19T14:58:51.035Z"
   },
   {
    "duration": 3,
    "start_time": "2025-02-19T14:58:51.040Z"
   },
   {
    "duration": 3,
    "start_time": "2025-02-19T14:58:51.045Z"
   },
   {
    "duration": 8,
    "start_time": "2025-02-19T14:58:51.050Z"
   },
   {
    "duration": 48,
    "start_time": "2025-02-19T14:58:51.061Z"
   },
   {
    "duration": 6,
    "start_time": "2025-02-19T14:58:51.111Z"
   },
   {
    "duration": 10,
    "start_time": "2025-02-19T14:58:51.119Z"
   },
   {
    "duration": 24,
    "start_time": "2025-02-19T14:58:51.131Z"
   },
   {
    "duration": 8,
    "start_time": "2025-02-19T14:58:51.157Z"
   },
   {
    "duration": 45,
    "start_time": "2025-02-19T14:58:51.166Z"
   },
   {
    "duration": 43,
    "start_time": "2025-02-19T14:58:51.212Z"
   },
   {
    "duration": 10,
    "start_time": "2025-02-19T14:58:51.257Z"
   },
   {
    "duration": 9,
    "start_time": "2025-02-19T14:58:51.269Z"
   },
   {
    "duration": 54,
    "start_time": "2025-02-19T14:58:51.280Z"
   },
   {
    "duration": 167,
    "start_time": "2025-02-19T14:58:51.336Z"
   },
   {
    "duration": 73,
    "start_time": "2025-02-19T14:58:51.505Z"
   },
   {
    "duration": 42,
    "start_time": "2025-02-19T14:58:51.580Z"
   },
   {
    "duration": 8,
    "start_time": "2025-02-19T14:58:51.624Z"
   },
   {
    "duration": 6,
    "start_time": "2025-02-19T14:58:51.634Z"
   },
   {
    "duration": 5,
    "start_time": "2025-02-19T14:58:51.641Z"
   },
   {
    "duration": 7,
    "start_time": "2025-02-19T14:58:51.647Z"
   },
   {
    "duration": 113,
    "start_time": "2025-02-19T14:58:51.657Z"
   },
   {
    "duration": 141,
    "start_time": "2025-02-19T14:58:51.776Z"
   },
   {
    "duration": 185,
    "start_time": "2025-02-19T14:58:51.919Z"
   },
   {
    "duration": 12,
    "start_time": "2025-02-19T14:58:52.105Z"
   },
   {
    "duration": 7,
    "start_time": "2025-02-19T14:58:52.118Z"
   },
   {
    "duration": 7,
    "start_time": "2025-02-19T14:58:52.126Z"
   },
   {
    "duration": 8,
    "start_time": "2025-02-19T14:58:52.135Z"
   },
   {
    "duration": 10,
    "start_time": "2025-02-19T14:58:52.145Z"
   },
   {
    "duration": 13,
    "start_time": "2025-02-19T14:58:52.158Z"
   },
   {
    "duration": 88,
    "start_time": "2025-02-19T14:58:52.209Z"
   },
   {
    "duration": 84,
    "start_time": "2025-02-19T14:58:52.299Z"
   },
   {
    "duration": 156,
    "start_time": "2025-02-19T14:58:52.385Z"
   },
   {
    "duration": 55,
    "start_time": "2025-02-19T14:58:52.545Z"
   },
   {
    "duration": 94,
    "start_time": "2025-02-19T14:58:52.601Z"
   },
   {
    "duration": 564,
    "start_time": "2025-02-19T14:58:52.697Z"
   },
   {
    "duration": 0,
    "start_time": "2025-02-19T14:58:53.263Z"
   },
   {
    "duration": 0,
    "start_time": "2025-02-19T14:58:53.264Z"
   },
   {
    "duration": 0,
    "start_time": "2025-02-19T14:58:53.265Z"
   },
   {
    "duration": 0,
    "start_time": "2025-02-19T14:58:53.266Z"
   },
   {
    "duration": 0,
    "start_time": "2025-02-19T14:58:53.267Z"
   },
   {
    "duration": 0,
    "start_time": "2025-02-19T14:58:53.268Z"
   },
   {
    "duration": 0,
    "start_time": "2025-02-19T14:58:53.270Z"
   },
   {
    "duration": 0,
    "start_time": "2025-02-19T14:58:53.271Z"
   },
   {
    "duration": 0,
    "start_time": "2025-02-19T14:58:53.272Z"
   },
   {
    "duration": 0,
    "start_time": "2025-02-19T14:58:53.273Z"
   },
   {
    "duration": 1,
    "start_time": "2025-02-19T14:58:53.274Z"
   },
   {
    "duration": 0,
    "start_time": "2025-02-19T14:58:53.275Z"
   },
   {
    "duration": 0,
    "start_time": "2025-02-19T14:58:53.276Z"
   },
   {
    "duration": 0,
    "start_time": "2025-02-19T14:58:53.277Z"
   },
   {
    "duration": 38,
    "start_time": "2025-02-19T14:59:09.749Z"
   },
   {
    "duration": 42,
    "start_time": "2025-02-19T14:59:35.643Z"
   },
   {
    "duration": 1028,
    "start_time": "2025-02-19T15:00:15.769Z"
   },
   {
    "duration": 695,
    "start_time": "2025-02-19T15:00:29.615Z"
   },
   {
    "duration": 746,
    "start_time": "2025-02-19T15:00:50.096Z"
   },
   {
    "duration": 2598,
    "start_time": "2025-02-19T16:10:22.785Z"
   },
   {
    "duration": 414,
    "start_time": "2025-02-19T16:10:25.386Z"
   },
   {
    "duration": 8,
    "start_time": "2025-02-19T16:10:25.802Z"
   },
   {
    "duration": 9,
    "start_time": "2025-02-19T16:10:25.814Z"
   },
   {
    "duration": 4,
    "start_time": "2025-02-19T16:10:25.826Z"
   },
   {
    "duration": 4,
    "start_time": "2025-02-19T16:10:25.832Z"
   },
   {
    "duration": 4,
    "start_time": "2025-02-19T16:10:25.838Z"
   },
   {
    "duration": 3,
    "start_time": "2025-02-19T16:10:25.844Z"
   },
   {
    "duration": 41,
    "start_time": "2025-02-19T16:10:25.849Z"
   },
   {
    "duration": 13,
    "start_time": "2025-02-19T16:10:25.894Z"
   },
   {
    "duration": 6,
    "start_time": "2025-02-19T16:10:25.909Z"
   },
   {
    "duration": 10,
    "start_time": "2025-02-19T16:10:25.918Z"
   },
   {
    "duration": 22,
    "start_time": "2025-02-19T16:10:25.930Z"
   },
   {
    "duration": 37,
    "start_time": "2025-02-19T16:10:25.955Z"
   },
   {
    "duration": 13,
    "start_time": "2025-02-19T16:10:25.993Z"
   },
   {
    "duration": 41,
    "start_time": "2025-02-19T16:10:26.007Z"
   },
   {
    "duration": 9,
    "start_time": "2025-02-19T16:10:26.050Z"
   },
   {
    "duration": 35,
    "start_time": "2025-02-19T16:10:26.061Z"
   },
   {
    "duration": 38,
    "start_time": "2025-02-19T16:10:26.098Z"
   },
   {
    "duration": 183,
    "start_time": "2025-02-19T16:10:26.138Z"
   },
   {
    "duration": 69,
    "start_time": "2025-02-19T16:10:26.323Z"
   },
   {
    "duration": 31,
    "start_time": "2025-02-19T16:10:26.394Z"
   },
   {
    "duration": 9,
    "start_time": "2025-02-19T16:10:26.427Z"
   },
   {
    "duration": 6,
    "start_time": "2025-02-19T16:10:26.438Z"
   },
   {
    "duration": 6,
    "start_time": "2025-02-19T16:10:26.446Z"
   },
   {
    "duration": 38,
    "start_time": "2025-02-19T16:10:26.454Z"
   },
   {
    "duration": 104,
    "start_time": "2025-02-19T16:10:26.494Z"
   },
   {
    "duration": 141,
    "start_time": "2025-02-19T16:10:26.603Z"
   },
   {
    "duration": 192,
    "start_time": "2025-02-19T16:10:26.746Z"
   },
   {
    "duration": 10,
    "start_time": "2025-02-19T16:10:26.939Z"
   },
   {
    "duration": 7,
    "start_time": "2025-02-19T16:10:26.951Z"
   },
   {
    "duration": 29,
    "start_time": "2025-02-19T16:10:26.960Z"
   },
   {
    "duration": 8,
    "start_time": "2025-02-19T16:10:26.991Z"
   },
   {
    "duration": 7,
    "start_time": "2025-02-19T16:10:27.001Z"
   },
   {
    "duration": 12,
    "start_time": "2025-02-19T16:10:27.010Z"
   },
   {
    "duration": 121,
    "start_time": "2025-02-19T16:10:27.024Z"
   },
   {
    "duration": 83,
    "start_time": "2025-02-19T16:10:27.147Z"
   },
   {
    "duration": 143,
    "start_time": "2025-02-19T16:10:27.232Z"
   },
   {
    "duration": 56,
    "start_time": "2025-02-19T16:10:27.377Z"
   },
   {
    "duration": 96,
    "start_time": "2025-02-19T16:10:27.435Z"
   },
   {
    "duration": 42,
    "start_time": "2025-02-19T16:10:27.533Z"
   },
   {
    "duration": 1259,
    "start_time": "2025-02-19T16:10:27.577Z"
   },
   {
    "duration": 0,
    "start_time": "2025-02-19T16:10:28.838Z"
   },
   {
    "duration": 0,
    "start_time": "2025-02-19T16:10:28.839Z"
   },
   {
    "duration": 0,
    "start_time": "2025-02-19T16:10:28.841Z"
   },
   {
    "duration": 0,
    "start_time": "2025-02-19T16:10:28.842Z"
   },
   {
    "duration": 0,
    "start_time": "2025-02-19T16:10:28.843Z"
   },
   {
    "duration": 0,
    "start_time": "2025-02-19T16:10:28.845Z"
   },
   {
    "duration": 0,
    "start_time": "2025-02-19T16:10:28.846Z"
   },
   {
    "duration": 0,
    "start_time": "2025-02-19T16:10:28.847Z"
   },
   {
    "duration": 0,
    "start_time": "2025-02-19T16:10:28.848Z"
   },
   {
    "duration": 0,
    "start_time": "2025-02-19T16:10:28.849Z"
   },
   {
    "duration": 0,
    "start_time": "2025-02-19T16:10:28.850Z"
   },
   {
    "duration": 1,
    "start_time": "2025-02-19T16:10:28.851Z"
   },
   {
    "duration": 1,
    "start_time": "2025-02-19T16:10:28.852Z"
   },
   {
    "duration": 12,
    "start_time": "2025-02-19T16:10:38.969Z"
   },
   {
    "duration": 239,
    "start_time": "2025-02-19T16:46:16.943Z"
   },
   {
    "duration": 33,
    "start_time": "2025-02-19T16:46:57.593Z"
   },
   {
    "duration": 7,
    "start_time": "2025-02-19T16:49:18.437Z"
   },
   {
    "duration": 13,
    "start_time": "2025-02-19T16:49:37.886Z"
   },
   {
    "duration": 18,
    "start_time": "2025-02-19T16:51:59.403Z"
   },
   {
    "duration": 160,
    "start_time": "2025-02-19T16:54:44.276Z"
   },
   {
    "duration": 861,
    "start_time": "2025-02-19T16:54:55.766Z"
   },
   {
    "duration": 362,
    "start_time": "2025-02-19T16:54:56.629Z"
   },
   {
    "duration": 9,
    "start_time": "2025-02-19T16:54:56.992Z"
   },
   {
    "duration": 9,
    "start_time": "2025-02-19T16:54:57.003Z"
   },
   {
    "duration": 4,
    "start_time": "2025-02-19T16:54:57.015Z"
   },
   {
    "duration": 5,
    "start_time": "2025-02-19T16:54:57.021Z"
   },
   {
    "duration": 4,
    "start_time": "2025-02-19T16:54:57.028Z"
   },
   {
    "duration": 4,
    "start_time": "2025-02-19T16:54:57.034Z"
   },
   {
    "duration": 9,
    "start_time": "2025-02-19T16:54:57.039Z"
   },
   {
    "duration": 14,
    "start_time": "2025-02-19T16:54:57.086Z"
   },
   {
    "duration": 9,
    "start_time": "2025-02-19T16:54:57.102Z"
   },
   {
    "duration": 11,
    "start_time": "2025-02-19T16:54:57.112Z"
   },
   {
    "duration": 22,
    "start_time": "2025-02-19T16:54:57.124Z"
   },
   {
    "duration": 9,
    "start_time": "2025-02-19T16:54:57.150Z"
   },
   {
    "duration": 12,
    "start_time": "2025-02-19T16:54:57.186Z"
   },
   {
    "duration": 40,
    "start_time": "2025-02-19T16:54:57.201Z"
   },
   {
    "duration": 7,
    "start_time": "2025-02-19T16:54:57.243Z"
   },
   {
    "duration": 36,
    "start_time": "2025-02-19T16:54:57.252Z"
   },
   {
    "duration": 37,
    "start_time": "2025-02-19T16:54:57.290Z"
   },
   {
    "duration": 173,
    "start_time": "2025-02-19T16:54:57.330Z"
   },
   {
    "duration": 60,
    "start_time": "2025-02-19T16:54:57.505Z"
   },
   {
    "duration": 38,
    "start_time": "2025-02-19T16:54:57.567Z"
   },
   {
    "duration": 8,
    "start_time": "2025-02-19T16:54:57.607Z"
   },
   {
    "duration": 6,
    "start_time": "2025-02-19T16:54:57.617Z"
   },
   {
    "duration": 5,
    "start_time": "2025-02-19T16:54:57.625Z"
   },
   {
    "duration": 7,
    "start_time": "2025-02-19T16:54:57.632Z"
   },
   {
    "duration": 118,
    "start_time": "2025-02-19T16:54:57.640Z"
   },
   {
    "duration": 153,
    "start_time": "2025-02-19T16:54:57.760Z"
   },
   {
    "duration": 180,
    "start_time": "2025-02-19T16:54:57.915Z"
   },
   {
    "duration": 10,
    "start_time": "2025-02-19T16:54:58.097Z"
   },
   {
    "duration": 7,
    "start_time": "2025-02-19T16:54:58.109Z"
   },
   {
    "duration": 9,
    "start_time": "2025-02-19T16:54:58.118Z"
   },
   {
    "duration": 11,
    "start_time": "2025-02-19T16:54:58.129Z"
   },
   {
    "duration": 8,
    "start_time": "2025-02-19T16:54:58.142Z"
   },
   {
    "duration": 11,
    "start_time": "2025-02-19T16:54:58.186Z"
   },
   {
    "duration": 100,
    "start_time": "2025-02-19T16:54:58.198Z"
   },
   {
    "duration": 86,
    "start_time": "2025-02-19T16:54:58.300Z"
   },
   {
    "duration": 142,
    "start_time": "2025-02-19T16:54:58.388Z"
   },
   {
    "duration": 58,
    "start_time": "2025-02-19T16:54:58.532Z"
   },
   {
    "duration": 82,
    "start_time": "2025-02-19T16:54:58.592Z"
   },
   {
    "duration": 13,
    "start_time": "2025-02-19T16:54:58.689Z"
   },
   {
    "duration": 87,
    "start_time": "2025-02-19T16:54:58.704Z"
   },
   {
    "duration": 69,
    "start_time": "2025-02-19T16:54:58.793Z"
   },
   {
    "duration": 25,
    "start_time": "2025-02-19T16:54:58.864Z"
   },
   {
    "duration": 28,
    "start_time": "2025-02-19T16:54:58.890Z"
   },
   {
    "duration": 293,
    "start_time": "2025-02-19T16:54:58.919Z"
   },
   {
    "duration": 0,
    "start_time": "2025-02-19T16:54:59.214Z"
   },
   {
    "duration": 0,
    "start_time": "2025-02-19T16:54:59.216Z"
   },
   {
    "duration": 0,
    "start_time": "2025-02-19T16:54:59.217Z"
   },
   {
    "duration": 0,
    "start_time": "2025-02-19T16:54:59.218Z"
   },
   {
    "duration": 0,
    "start_time": "2025-02-19T16:54:59.220Z"
   },
   {
    "duration": 0,
    "start_time": "2025-02-19T16:54:59.221Z"
   },
   {
    "duration": 0,
    "start_time": "2025-02-19T16:54:59.222Z"
   },
   {
    "duration": 0,
    "start_time": "2025-02-19T16:54:59.223Z"
   },
   {
    "duration": 0,
    "start_time": "2025-02-19T16:54:59.225Z"
   },
   {
    "duration": 0,
    "start_time": "2025-02-19T16:54:59.226Z"
   },
   {
    "duration": 0,
    "start_time": "2025-02-19T16:54:59.228Z"
   },
   {
    "duration": 0,
    "start_time": "2025-02-19T16:54:59.230Z"
   },
   {
    "duration": 0,
    "start_time": "2025-02-19T16:54:59.231Z"
   },
   {
    "duration": 20,
    "start_time": "2025-02-19T16:55:13.926Z"
   },
   {
    "duration": 19,
    "start_time": "2025-02-19T16:56:11.051Z"
   },
   {
    "duration": 4,
    "start_time": "2025-02-19T16:57:56.490Z"
   },
   {
    "duration": 4,
    "start_time": "2025-02-19T16:57:57.184Z"
   },
   {
    "duration": 439,
    "start_time": "2025-02-19T16:58:00.198Z"
   },
   {
    "duration": 122,
    "start_time": "2025-02-19T16:58:31.111Z"
   },
   {
    "duration": 13,
    "start_time": "2025-02-19T17:01:04.910Z"
   },
   {
    "duration": 926,
    "start_time": "2025-02-19T17:01:12.398Z"
   },
   {
    "duration": 351,
    "start_time": "2025-02-19T17:01:13.327Z"
   },
   {
    "duration": 11,
    "start_time": "2025-02-19T17:01:13.679Z"
   },
   {
    "duration": 11,
    "start_time": "2025-02-19T17:01:13.693Z"
   },
   {
    "duration": 4,
    "start_time": "2025-02-19T17:01:13.706Z"
   },
   {
    "duration": 4,
    "start_time": "2025-02-19T17:01:13.712Z"
   },
   {
    "duration": 3,
    "start_time": "2025-02-19T17:01:13.718Z"
   },
   {
    "duration": 4,
    "start_time": "2025-02-19T17:01:13.723Z"
   },
   {
    "duration": 9,
    "start_time": "2025-02-19T17:01:13.728Z"
   },
   {
    "duration": 53,
    "start_time": "2025-02-19T17:01:13.741Z"
   },
   {
    "duration": 7,
    "start_time": "2025-02-19T17:01:13.797Z"
   },
   {
    "duration": 12,
    "start_time": "2025-02-19T17:01:13.807Z"
   },
   {
    "duration": 23,
    "start_time": "2025-02-19T17:01:13.821Z"
   },
   {
    "duration": 8,
    "start_time": "2025-02-19T17:01:13.846Z"
   },
   {
    "duration": 43,
    "start_time": "2025-02-19T17:01:13.856Z"
   },
   {
    "duration": 45,
    "start_time": "2025-02-19T17:01:13.900Z"
   },
   {
    "duration": 8,
    "start_time": "2025-02-19T17:01:13.947Z"
   },
   {
    "duration": 38,
    "start_time": "2025-02-19T17:01:13.957Z"
   },
   {
    "duration": 43,
    "start_time": "2025-02-19T17:01:13.998Z"
   },
   {
    "duration": 186,
    "start_time": "2025-02-19T17:01:14.043Z"
   },
   {
    "duration": 72,
    "start_time": "2025-02-19T17:01:14.232Z"
   },
   {
    "duration": 31,
    "start_time": "2025-02-19T17:01:14.305Z"
   },
   {
    "duration": 9,
    "start_time": "2025-02-19T17:01:14.338Z"
   },
   {
    "duration": 7,
    "start_time": "2025-02-19T17:01:14.349Z"
   },
   {
    "duration": 30,
    "start_time": "2025-02-19T17:01:14.358Z"
   },
   {
    "duration": 9,
    "start_time": "2025-02-19T17:01:14.390Z"
   },
   {
    "duration": 103,
    "start_time": "2025-02-19T17:01:14.400Z"
   },
   {
    "duration": 133,
    "start_time": "2025-02-19T17:01:14.508Z"
   },
   {
    "duration": 204,
    "start_time": "2025-02-19T17:01:14.642Z"
   },
   {
    "duration": 14,
    "start_time": "2025-02-19T17:01:14.848Z"
   },
   {
    "duration": 23,
    "start_time": "2025-02-19T17:01:14.864Z"
   },
   {
    "duration": 7,
    "start_time": "2025-02-19T17:01:14.889Z"
   },
   {
    "duration": 8,
    "start_time": "2025-02-19T17:01:14.898Z"
   },
   {
    "duration": 8,
    "start_time": "2025-02-19T17:01:14.907Z"
   },
   {
    "duration": 10,
    "start_time": "2025-02-19T17:01:14.916Z"
   },
   {
    "duration": 120,
    "start_time": "2025-02-19T17:01:14.928Z"
   },
   {
    "duration": 89,
    "start_time": "2025-02-19T17:01:15.050Z"
   },
   {
    "duration": 138,
    "start_time": "2025-02-19T17:01:15.142Z"
   },
   {
    "duration": 49,
    "start_time": "2025-02-19T17:01:15.287Z"
   },
   {
    "duration": 95,
    "start_time": "2025-02-19T17:01:15.338Z"
   },
   {
    "duration": 12,
    "start_time": "2025-02-19T17:01:15.435Z"
   },
   {
    "duration": 84,
    "start_time": "2025-02-19T17:01:15.449Z"
   },
   {
    "duration": 77,
    "start_time": "2025-02-19T17:01:15.535Z"
   },
   {
    "duration": 18,
    "start_time": "2025-02-19T17:01:15.615Z"
   },
   {
    "duration": 4,
    "start_time": "2025-02-19T17:01:15.635Z"
   },
   {
    "duration": 5,
    "start_time": "2025-02-19T17:01:15.640Z"
   },
   {
    "duration": 148,
    "start_time": "2025-02-19T17:01:15.646Z"
   },
   {
    "duration": 5,
    "start_time": "2025-02-19T17:01:15.796Z"
   },
   {
    "duration": 730,
    "start_time": "2025-02-19T17:01:15.803Z"
   },
   {
    "duration": 0,
    "start_time": "2025-02-19T17:01:16.535Z"
   },
   {
    "duration": 0,
    "start_time": "2025-02-19T17:01:16.536Z"
   },
   {
    "duration": 0,
    "start_time": "2025-02-19T17:01:16.537Z"
   },
   {
    "duration": 0,
    "start_time": "2025-02-19T17:01:16.538Z"
   },
   {
    "duration": 0,
    "start_time": "2025-02-19T17:01:16.539Z"
   },
   {
    "duration": 0,
    "start_time": "2025-02-19T17:01:16.540Z"
   },
   {
    "duration": 0,
    "start_time": "2025-02-19T17:01:16.541Z"
   },
   {
    "duration": 0,
    "start_time": "2025-02-19T17:01:16.543Z"
   },
   {
    "duration": 11,
    "start_time": "2025-02-19T17:01:31.554Z"
   },
   {
    "duration": 23,
    "start_time": "2025-02-19T17:07:19.484Z"
   },
   {
    "duration": 11,
    "start_time": "2025-02-19T17:07:43.810Z"
   },
   {
    "duration": 5,
    "start_time": "2025-02-19T17:10:11.828Z"
   },
   {
    "duration": 177,
    "start_time": "2025-02-19T17:11:47.236Z"
   },
   {
    "duration": 59,
    "start_time": "2025-02-19T17:15:44.902Z"
   },
   {
    "duration": 73,
    "start_time": "2025-02-19T17:15:58.739Z"
   },
   {
    "duration": 214,
    "start_time": "2025-02-19T17:16:26.585Z"
   },
   {
    "duration": 138,
    "start_time": "2025-02-19T17:17:00.144Z"
   },
   {
    "duration": 14,
    "start_time": "2025-02-19T17:17:26.981Z"
   },
   {
    "duration": 132,
    "start_time": "2025-02-19T17:17:49.792Z"
   },
   {
    "duration": 122,
    "start_time": "2025-02-19T17:18:20.351Z"
   },
   {
    "duration": 80,
    "start_time": "2025-02-19T17:18:27.437Z"
   },
   {
    "duration": 268,
    "start_time": "2025-02-19T17:21:07.372Z"
   },
   {
    "duration": 4,
    "start_time": "2025-02-19T17:21:14.338Z"
   },
   {
    "duration": 534,
    "start_time": "2025-02-19T17:22:19.610Z"
   },
   {
    "duration": 88,
    "start_time": "2025-02-19T17:22:34.245Z"
   },
   {
    "duration": 3,
    "start_time": "2025-02-19T17:22:44.690Z"
   },
   {
    "duration": 2867,
    "start_time": "2025-02-19T18:51:15.906Z"
   },
   {
    "duration": 505,
    "start_time": "2025-02-19T18:51:18.775Z"
   },
   {
    "duration": 10,
    "start_time": "2025-02-19T18:51:19.282Z"
   },
   {
    "duration": 12,
    "start_time": "2025-02-19T18:51:19.294Z"
   },
   {
    "duration": 4,
    "start_time": "2025-02-19T18:51:19.310Z"
   },
   {
    "duration": 11,
    "start_time": "2025-02-19T18:51:19.315Z"
   },
   {
    "duration": 4,
    "start_time": "2025-02-19T18:51:19.328Z"
   },
   {
    "duration": 5,
    "start_time": "2025-02-19T18:51:19.334Z"
   },
   {
    "duration": 10,
    "start_time": "2025-02-19T18:51:19.340Z"
   },
   {
    "duration": 13,
    "start_time": "2025-02-19T18:51:19.352Z"
   },
   {
    "duration": 7,
    "start_time": "2025-02-19T18:51:19.367Z"
   },
   {
    "duration": 48,
    "start_time": "2025-02-19T18:51:19.376Z"
   },
   {
    "duration": 26,
    "start_time": "2025-02-19T18:51:19.427Z"
   },
   {
    "duration": 9,
    "start_time": "2025-02-19T18:51:19.457Z"
   },
   {
    "duration": 14,
    "start_time": "2025-02-19T18:51:19.468Z"
   },
   {
    "duration": 71,
    "start_time": "2025-02-19T18:51:19.484Z"
   },
   {
    "duration": 7,
    "start_time": "2025-02-19T18:51:19.557Z"
   },
   {
    "duration": 9,
    "start_time": "2025-02-19T18:51:19.566Z"
   },
   {
    "duration": 59,
    "start_time": "2025-02-19T18:51:19.577Z"
   },
   {
    "duration": 206,
    "start_time": "2025-02-19T18:51:19.638Z"
   },
   {
    "duration": 61,
    "start_time": "2025-02-19T18:51:19.846Z"
   },
   {
    "duration": 45,
    "start_time": "2025-02-19T18:51:19.909Z"
   },
   {
    "duration": 10,
    "start_time": "2025-02-19T18:51:19.956Z"
   },
   {
    "duration": 7,
    "start_time": "2025-02-19T18:51:19.968Z"
   },
   {
    "duration": 6,
    "start_time": "2025-02-19T18:51:19.977Z"
   },
   {
    "duration": 40,
    "start_time": "2025-02-19T18:51:19.985Z"
   },
   {
    "duration": 114,
    "start_time": "2025-02-19T18:51:20.027Z"
   },
   {
    "duration": 152,
    "start_time": "2025-02-19T18:51:20.145Z"
   },
   {
    "duration": 237,
    "start_time": "2025-02-19T18:51:20.299Z"
   },
   {
    "duration": 15,
    "start_time": "2025-02-19T18:51:20.538Z"
   },
   {
    "duration": 7,
    "start_time": "2025-02-19T18:51:20.555Z"
   },
   {
    "duration": 9,
    "start_time": "2025-02-19T18:51:20.564Z"
   },
   {
    "duration": 11,
    "start_time": "2025-02-19T18:51:20.574Z"
   },
   {
    "duration": 46,
    "start_time": "2025-02-19T18:51:20.587Z"
   },
   {
    "duration": 12,
    "start_time": "2025-02-19T18:51:20.635Z"
   },
   {
    "duration": 138,
    "start_time": "2025-02-19T18:51:20.649Z"
   },
   {
    "duration": 102,
    "start_time": "2025-02-19T18:51:20.790Z"
   },
   {
    "duration": 150,
    "start_time": "2025-02-19T18:51:20.895Z"
   },
   {
    "duration": 50,
    "start_time": "2025-02-19T18:51:21.047Z"
   },
   {
    "duration": 118,
    "start_time": "2025-02-19T18:51:21.099Z"
   },
   {
    "duration": 14,
    "start_time": "2025-02-19T18:51:21.229Z"
   },
   {
    "duration": 90,
    "start_time": "2025-02-19T18:51:21.245Z"
   },
   {
    "duration": 87,
    "start_time": "2025-02-19T18:51:21.338Z"
   },
   {
    "duration": 21,
    "start_time": "2025-02-19T18:51:21.427Z"
   },
   {
    "duration": 4,
    "start_time": "2025-02-19T18:51:21.451Z"
   },
   {
    "duration": 4,
    "start_time": "2025-02-19T18:51:21.457Z"
   },
   {
    "duration": 161,
    "start_time": "2025-02-19T18:51:21.463Z"
   },
   {
    "duration": 12,
    "start_time": "2025-02-19T18:51:21.625Z"
   },
   {
    "duration": 243,
    "start_time": "2025-02-19T18:51:21.639Z"
   },
   {
    "duration": 19,
    "start_time": "2025-02-19T18:51:21.884Z"
   },
   {
    "duration": 118,
    "start_time": "2025-02-19T18:51:21.906Z"
   },
   {
    "duration": 792,
    "start_time": "2025-02-19T18:51:22.026Z"
   },
   {
    "duration": 0,
    "start_time": "2025-02-19T18:51:22.820Z"
   },
   {
    "duration": 0,
    "start_time": "2025-02-19T18:51:22.825Z"
   },
   {
    "duration": 0,
    "start_time": "2025-02-19T18:51:22.826Z"
   },
   {
    "duration": 0,
    "start_time": "2025-02-19T18:51:22.828Z"
   },
   {
    "duration": 0,
    "start_time": "2025-02-19T18:51:22.829Z"
   },
   {
    "duration": 0,
    "start_time": "2025-02-19T18:51:22.831Z"
   },
   {
    "duration": 0,
    "start_time": "2025-02-19T18:51:22.833Z"
   },
   {
    "duration": 169,
    "start_time": "2025-02-19T18:53:29.252Z"
   },
   {
    "duration": 53,
    "start_time": "2025-02-19T18:53:42.236Z"
   },
   {
    "duration": 512,
    "start_time": "2025-02-19T18:54:11.464Z"
   },
   {
    "duration": 933,
    "start_time": "2025-02-19T18:54:41.206Z"
   },
   {
    "duration": 110,
    "start_time": "2025-02-19T18:56:02.259Z"
   },
   {
    "duration": 6,
    "start_time": "2025-02-19T18:56:03.303Z"
   },
   {
    "duration": 120,
    "start_time": "2025-02-19T18:58:26.186Z"
   },
   {
    "duration": 8,
    "start_time": "2025-02-19T18:58:38.916Z"
   },
   {
    "duration": 5,
    "start_time": "2025-02-19T18:59:01.642Z"
   },
   {
    "duration": 198,
    "start_time": "2025-02-19T19:00:37.375Z"
   },
   {
    "duration": 146,
    "start_time": "2025-02-19T19:01:20.154Z"
   },
   {
    "duration": 25,
    "start_time": "2025-02-19T19:03:49.730Z"
   },
   {
    "duration": 1322,
    "start_time": "2025-02-19T19:04:08.542Z"
   },
   {
    "duration": 1287,
    "start_time": "2025-02-19T19:04:51.677Z"
   },
   {
    "duration": 1316,
    "start_time": "2025-02-19T19:05:34.018Z"
   },
   {
    "duration": 339,
    "start_time": "2025-02-19T19:08:43.627Z"
   },
   {
    "duration": 494,
    "start_time": "2025-02-19T19:08:45.037Z"
   },
   {
    "duration": 903,
    "start_time": "2025-02-19T20:11:45.072Z"
   },
   {
    "duration": 387,
    "start_time": "2025-02-19T20:11:45.978Z"
   },
   {
    "duration": 10,
    "start_time": "2025-02-19T20:11:46.366Z"
   },
   {
    "duration": 11,
    "start_time": "2025-02-19T20:11:46.379Z"
   },
   {
    "duration": 5,
    "start_time": "2025-02-19T20:11:46.391Z"
   },
   {
    "duration": 28,
    "start_time": "2025-02-19T20:11:46.397Z"
   },
   {
    "duration": 5,
    "start_time": "2025-02-19T20:11:46.427Z"
   },
   {
    "duration": 4,
    "start_time": "2025-02-19T20:11:46.433Z"
   },
   {
    "duration": 13,
    "start_time": "2025-02-19T20:11:46.439Z"
   },
   {
    "duration": 15,
    "start_time": "2025-02-19T20:11:46.456Z"
   },
   {
    "duration": 7,
    "start_time": "2025-02-19T20:11:46.473Z"
   },
   {
    "duration": 44,
    "start_time": "2025-02-19T20:11:46.482Z"
   },
   {
    "duration": 24,
    "start_time": "2025-02-19T20:11:46.528Z"
   },
   {
    "duration": 8,
    "start_time": "2025-02-19T20:11:46.554Z"
   },
   {
    "duration": 14,
    "start_time": "2025-02-19T20:11:46.564Z"
   },
   {
    "duration": 66,
    "start_time": "2025-02-19T20:11:46.580Z"
   },
   {
    "duration": 9,
    "start_time": "2025-02-19T20:11:46.648Z"
   },
   {
    "duration": 10,
    "start_time": "2025-02-19T20:11:46.659Z"
   },
   {
    "duration": 63,
    "start_time": "2025-02-19T20:11:46.671Z"
   },
   {
    "duration": 227,
    "start_time": "2025-02-19T20:11:46.736Z"
   },
   {
    "duration": 69,
    "start_time": "2025-02-19T20:11:46.964Z"
   },
   {
    "duration": 35,
    "start_time": "2025-02-19T20:11:47.035Z"
   },
   {
    "duration": 13,
    "start_time": "2025-02-19T20:11:47.074Z"
   },
   {
    "duration": 39,
    "start_time": "2025-02-19T20:11:47.089Z"
   },
   {
    "duration": 8,
    "start_time": "2025-02-19T20:11:47.130Z"
   },
   {
    "duration": 8,
    "start_time": "2025-02-19T20:11:47.141Z"
   },
   {
    "duration": 126,
    "start_time": "2025-02-19T20:11:47.151Z"
   },
   {
    "duration": 147,
    "start_time": "2025-02-19T20:11:47.283Z"
   },
   {
    "duration": 228,
    "start_time": "2025-02-19T20:11:47.432Z"
   },
   {
    "duration": 17,
    "start_time": "2025-02-19T20:11:47.662Z"
   },
   {
    "duration": 8,
    "start_time": "2025-02-19T20:11:47.681Z"
   },
   {
    "duration": 8,
    "start_time": "2025-02-19T20:11:47.690Z"
   },
   {
    "duration": 13,
    "start_time": "2025-02-19T20:11:47.724Z"
   },
   {
    "duration": 9,
    "start_time": "2025-02-19T20:11:47.739Z"
   },
   {
    "duration": 13,
    "start_time": "2025-02-19T20:11:47.750Z"
   },
   {
    "duration": 161,
    "start_time": "2025-02-19T20:11:47.764Z"
   },
   {
    "duration": 86,
    "start_time": "2025-02-19T20:11:47.928Z"
   },
   {
    "duration": 152,
    "start_time": "2025-02-19T20:11:48.025Z"
   },
   {
    "duration": 79,
    "start_time": "2025-02-19T20:11:48.179Z"
   },
   {
    "duration": 120,
    "start_time": "2025-02-19T20:11:48.260Z"
   },
   {
    "duration": 14,
    "start_time": "2025-02-19T20:11:48.382Z"
   },
   {
    "duration": 115,
    "start_time": "2025-02-19T20:11:48.398Z"
   },
   {
    "duration": 76,
    "start_time": "2025-02-19T20:11:48.515Z"
   },
   {
    "duration": 33,
    "start_time": "2025-02-19T20:11:48.593Z"
   },
   {
    "duration": 6,
    "start_time": "2025-02-19T20:11:48.628Z"
   },
   {
    "duration": 4,
    "start_time": "2025-02-19T20:11:48.636Z"
   },
   {
    "duration": 155,
    "start_time": "2025-02-19T20:11:48.642Z"
   },
   {
    "duration": 14,
    "start_time": "2025-02-19T20:11:48.799Z"
   },
   {
    "duration": 275,
    "start_time": "2025-02-19T20:11:48.815Z"
   },
   {
    "duration": 103,
    "start_time": "2025-02-19T20:11:49.092Z"
   },
   {
    "duration": 4,
    "start_time": "2025-02-19T20:11:49.197Z"
   },
   {
    "duration": 5,
    "start_time": "2025-02-19T20:11:49.203Z"
   },
   {
    "duration": 146,
    "start_time": "2025-02-19T20:11:49.224Z"
   },
   {
    "duration": 4,
    "start_time": "2025-02-19T20:11:49.373Z"
   },
   {
    "duration": 322,
    "start_time": "2025-02-19T20:11:49.382Z"
   },
   {
    "duration": 274,
    "start_time": "2025-02-19T20:11:49.706Z"
   },
   {
    "duration": 346,
    "start_time": "2025-02-19T20:11:49.982Z"
   },
   {
    "duration": 0,
    "start_time": "2025-02-19T20:11:50.330Z"
   },
   {
    "duration": 0,
    "start_time": "2025-02-19T20:11:50.331Z"
   },
   {
    "duration": 0,
    "start_time": "2025-02-19T20:11:50.332Z"
   },
   {
    "duration": 0,
    "start_time": "2025-02-19T20:11:50.334Z"
   },
   {
    "duration": 1498,
    "start_time": "2025-02-19T20:15:19.684Z"
   },
   {
    "duration": 128,
    "start_time": "2025-02-19T20:16:14.188Z"
   },
   {
    "duration": 938,
    "start_time": "2025-02-19T20:16:31.158Z"
   },
   {
    "duration": 485,
    "start_time": "2025-02-19T20:16:32.099Z"
   },
   {
    "duration": 10,
    "start_time": "2025-02-19T20:16:32.586Z"
   },
   {
    "duration": 26,
    "start_time": "2025-02-19T20:16:32.599Z"
   },
   {
    "duration": 6,
    "start_time": "2025-02-19T20:16:32.628Z"
   },
   {
    "duration": 6,
    "start_time": "2025-02-19T20:16:32.637Z"
   },
   {
    "duration": 7,
    "start_time": "2025-02-19T20:16:32.645Z"
   },
   {
    "duration": 6,
    "start_time": "2025-02-19T20:16:32.655Z"
   },
   {
    "duration": 13,
    "start_time": "2025-02-19T20:16:32.664Z"
   },
   {
    "duration": 17,
    "start_time": "2025-02-19T20:16:32.725Z"
   },
   {
    "duration": 9,
    "start_time": "2025-02-19T20:16:32.744Z"
   },
   {
    "duration": 13,
    "start_time": "2025-02-19T20:16:32.756Z"
   },
   {
    "duration": 77,
    "start_time": "2025-02-19T20:16:32.771Z"
   },
   {
    "duration": 12,
    "start_time": "2025-02-19T20:16:32.850Z"
   },
   {
    "duration": 21,
    "start_time": "2025-02-19T20:16:32.864Z"
   },
   {
    "duration": 102,
    "start_time": "2025-02-19T20:16:32.889Z"
   },
   {
    "duration": 9,
    "start_time": "2025-02-19T20:16:32.994Z"
   },
   {
    "duration": 14,
    "start_time": "2025-02-19T20:16:33.023Z"
   },
   {
    "duration": 44,
    "start_time": "2025-02-19T20:16:33.040Z"
   },
   {
    "duration": 341,
    "start_time": "2025-02-19T20:16:33.087Z"
   },
   {
    "duration": 65,
    "start_time": "2025-02-19T20:16:33.430Z"
   },
   {
    "duration": 71,
    "start_time": "2025-02-19T20:16:33.499Z"
   },
   {
    "duration": 13,
    "start_time": "2025-02-19T20:16:33.573Z"
   },
   {
    "duration": 36,
    "start_time": "2025-02-19T20:16:33.589Z"
   },
   {
    "duration": 7,
    "start_time": "2025-02-19T20:16:33.629Z"
   },
   {
    "duration": 9,
    "start_time": "2025-02-19T20:16:33.638Z"
   },
   {
    "duration": 198,
    "start_time": "2025-02-19T20:16:33.650Z"
   },
   {
    "duration": 186,
    "start_time": "2025-02-19T20:16:33.855Z"
   },
   {
    "duration": 349,
    "start_time": "2025-02-19T20:16:34.044Z"
   },
   {
    "duration": 33,
    "start_time": "2025-02-19T20:16:34.396Z"
   },
   {
    "duration": 12,
    "start_time": "2025-02-19T20:16:34.433Z"
   },
   {
    "duration": 11,
    "start_time": "2025-02-19T20:16:34.448Z"
   },
   {
    "duration": 11,
    "start_time": "2025-02-19T20:16:34.462Z"
   },
   {
    "duration": 53,
    "start_time": "2025-02-19T20:16:34.475Z"
   },
   {
    "duration": 19,
    "start_time": "2025-02-19T20:16:34.531Z"
   },
   {
    "duration": 271,
    "start_time": "2025-02-19T20:16:34.553Z"
   },
   {
    "duration": 113,
    "start_time": "2025-02-19T20:16:34.826Z"
   },
   {
    "duration": 160,
    "start_time": "2025-02-19T20:16:34.941Z"
   },
   {
    "duration": 87,
    "start_time": "2025-02-19T20:16:35.104Z"
   },
   {
    "duration": 175,
    "start_time": "2025-02-19T20:16:35.195Z"
   },
   {
    "duration": 17,
    "start_time": "2025-02-19T20:16:35.372Z"
   },
   {
    "duration": 98,
    "start_time": "2025-02-19T20:16:35.392Z"
   },
   {
    "duration": 101,
    "start_time": "2025-02-19T20:16:35.493Z"
   },
   {
    "duration": 43,
    "start_time": "2025-02-19T20:16:35.598Z"
   },
   {
    "duration": 7,
    "start_time": "2025-02-19T20:16:35.644Z"
   },
   {
    "duration": 5,
    "start_time": "2025-02-19T20:16:35.654Z"
   },
   {
    "duration": 191,
    "start_time": "2025-02-19T20:16:35.662Z"
   },
   {
    "duration": 18,
    "start_time": "2025-02-19T20:16:35.857Z"
   },
   {
    "duration": 328,
    "start_time": "2025-02-19T20:16:35.877Z"
   },
   {
    "duration": 142,
    "start_time": "2025-02-19T20:16:36.208Z"
   },
   {
    "duration": 6,
    "start_time": "2025-02-19T20:16:36.352Z"
   },
   {
    "duration": 5,
    "start_time": "2025-02-19T20:16:36.360Z"
   },
   {
    "duration": 140,
    "start_time": "2025-02-19T20:16:36.367Z"
   },
   {
    "duration": 16,
    "start_time": "2025-02-19T20:16:36.509Z"
   },
   {
    "duration": 301,
    "start_time": "2025-02-19T20:16:36.529Z"
   },
   {
    "duration": 310,
    "start_time": "2025-02-19T20:16:36.833Z"
   },
   {
    "duration": 1596,
    "start_time": "2025-02-19T20:16:37.145Z"
   },
   {
    "duration": 551,
    "start_time": "2025-02-19T20:16:38.744Z"
   },
   {
    "duration": 93,
    "start_time": "2025-02-19T20:18:38.859Z"
   },
   {
    "duration": 83,
    "start_time": "2025-02-19T20:18:41.813Z"
   },
   {
    "duration": 33,
    "start_time": "2025-02-19T20:21:45.007Z"
   },
   {
    "duration": 5,
    "start_time": "2025-02-19T20:22:19.041Z"
   },
   {
    "duration": 80,
    "start_time": "2025-02-19T20:22:30.867Z"
   },
   {
    "duration": 10,
    "start_time": "2025-02-19T20:25:00.710Z"
   },
   {
    "duration": 16,
    "start_time": "2025-02-19T20:25:24.784Z"
   },
   {
    "duration": 12,
    "start_time": "2025-02-19T20:26:15.255Z"
   },
   {
    "duration": 56,
    "start_time": "2025-02-19T20:26:32.974Z"
   },
   {
    "duration": 59,
    "start_time": "2025-02-19T20:26:36.986Z"
   },
   {
    "duration": 41,
    "start_time": "2025-02-19T20:27:02.675Z"
   },
   {
    "duration": 6,
    "start_time": "2025-02-19T20:27:03.988Z"
   },
   {
    "duration": 7,
    "start_time": "2025-02-19T20:27:09.706Z"
   },
   {
    "duration": 6,
    "start_time": "2025-02-19T20:32:00.834Z"
   },
   {
    "duration": 160,
    "start_time": "2025-02-19T22:01:54.860Z"
   },
   {
    "duration": 2712,
    "start_time": "2025-02-19T22:02:02.486Z"
   },
   {
    "duration": 415,
    "start_time": "2025-02-19T22:02:05.200Z"
   },
   {
    "duration": 8,
    "start_time": "2025-02-19T22:02:05.617Z"
   },
   {
    "duration": 11,
    "start_time": "2025-02-19T22:02:05.628Z"
   },
   {
    "duration": 5,
    "start_time": "2025-02-19T22:02:05.641Z"
   },
   {
    "duration": 6,
    "start_time": "2025-02-19T22:02:05.647Z"
   },
   {
    "duration": 4,
    "start_time": "2025-02-19T22:02:05.655Z"
   },
   {
    "duration": 4,
    "start_time": "2025-02-19T22:02:05.660Z"
   },
   {
    "duration": 9,
    "start_time": "2025-02-19T22:02:05.666Z"
   },
   {
    "duration": 13,
    "start_time": "2025-02-19T22:02:05.679Z"
   },
   {
    "duration": 43,
    "start_time": "2025-02-19T22:02:05.694Z"
   },
   {
    "duration": 10,
    "start_time": "2025-02-19T22:02:05.740Z"
   },
   {
    "duration": 23,
    "start_time": "2025-02-19T22:02:05.752Z"
   },
   {
    "duration": 8,
    "start_time": "2025-02-19T22:02:05.777Z"
   },
   {
    "duration": 12,
    "start_time": "2025-02-19T22:02:05.787Z"
   },
   {
    "duration": 69,
    "start_time": "2025-02-19T22:02:05.801Z"
   },
   {
    "duration": 8,
    "start_time": "2025-02-19T22:02:05.872Z"
   },
   {
    "duration": 9,
    "start_time": "2025-02-19T22:02:05.882Z"
   },
   {
    "duration": 62,
    "start_time": "2025-02-19T22:02:05.892Z"
   },
   {
    "duration": 166,
    "start_time": "2025-02-19T22:02:05.955Z"
   },
   {
    "duration": 65,
    "start_time": "2025-02-19T22:02:06.123Z"
   },
   {
    "duration": 42,
    "start_time": "2025-02-19T22:02:06.190Z"
   },
   {
    "duration": 9,
    "start_time": "2025-02-19T22:02:06.234Z"
   },
   {
    "duration": 7,
    "start_time": "2025-02-19T22:02:06.245Z"
   },
   {
    "duration": 6,
    "start_time": "2025-02-19T22:02:06.255Z"
   },
   {
    "duration": 8,
    "start_time": "2025-02-19T22:02:06.264Z"
   },
   {
    "duration": 126,
    "start_time": "2025-02-19T22:02:06.274Z"
   },
   {
    "duration": 139,
    "start_time": "2025-02-19T22:02:06.404Z"
   },
   {
    "duration": 181,
    "start_time": "2025-02-19T22:02:06.545Z"
   },
   {
    "duration": 12,
    "start_time": "2025-02-19T22:02:06.730Z"
   },
   {
    "duration": 6,
    "start_time": "2025-02-19T22:02:06.744Z"
   },
   {
    "duration": 7,
    "start_time": "2025-02-19T22:02:06.752Z"
   },
   {
    "duration": 7,
    "start_time": "2025-02-19T22:02:06.760Z"
   },
   {
    "duration": 7,
    "start_time": "2025-02-19T22:02:06.769Z"
   },
   {
    "duration": 11,
    "start_time": "2025-02-19T22:02:06.778Z"
   },
   {
    "duration": 119,
    "start_time": "2025-02-19T22:02:06.790Z"
   },
   {
    "duration": 86,
    "start_time": "2025-02-19T22:02:06.911Z"
   },
   {
    "duration": 144,
    "start_time": "2025-02-19T22:02:06.998Z"
   },
   {
    "duration": 50,
    "start_time": "2025-02-19T22:02:07.144Z"
   },
   {
    "duration": 99,
    "start_time": "2025-02-19T22:02:07.195Z"
   },
   {
    "duration": 13,
    "start_time": "2025-02-19T22:02:07.296Z"
   },
   {
    "duration": 84,
    "start_time": "2025-02-19T22:02:07.311Z"
   },
   {
    "duration": 77,
    "start_time": "2025-02-19T22:02:07.397Z"
   },
   {
    "duration": 18,
    "start_time": "2025-02-19T22:02:07.476Z"
   },
   {
    "duration": 4,
    "start_time": "2025-02-19T22:02:07.496Z"
   },
   {
    "duration": 4,
    "start_time": "2025-02-19T22:02:07.501Z"
   },
   {
    "duration": 147,
    "start_time": "2025-02-19T22:02:07.506Z"
   },
   {
    "duration": 16,
    "start_time": "2025-02-19T22:02:07.655Z"
   },
   {
    "duration": 206,
    "start_time": "2025-02-19T22:02:07.681Z"
   },
   {
    "duration": 105,
    "start_time": "2025-02-19T22:02:07.889Z"
   },
   {
    "duration": 4,
    "start_time": "2025-02-19T22:02:07.996Z"
   },
   {
    "duration": 5,
    "start_time": "2025-02-19T22:02:08.001Z"
   },
   {
    "duration": 104,
    "start_time": "2025-02-19T22:02:08.007Z"
   },
   {
    "duration": 19,
    "start_time": "2025-02-19T22:02:08.113Z"
   },
   {
    "duration": 341,
    "start_time": "2025-02-19T22:02:08.136Z"
   },
   {
    "duration": 262,
    "start_time": "2025-02-19T22:02:08.479Z"
   },
   {
    "duration": 35,
    "start_time": "2025-02-19T22:02:08.743Z"
   },
   {
    "duration": 230,
    "start_time": "2025-02-19T22:02:08.780Z"
   },
   {
    "duration": 3,
    "start_time": "2025-02-19T22:03:32.038Z"
   },
   {
    "duration": 6,
    "start_time": "2025-02-19T22:03:39.460Z"
   },
   {
    "duration": 5,
    "start_time": "2025-02-19T22:03:48.618Z"
   }
  ],
  "kernelspec": {
   "display_name": "Python 3 (ipykernel)",
   "language": "python",
   "name": "python3"
  },
  "language_info": {
   "codemirror_mode": {
    "name": "ipython",
    "version": 3
   },
   "file_extension": ".py",
   "mimetype": "text/x-python",
   "name": "python",
   "nbconvert_exporter": "python",
   "pygments_lexer": "ipython3",
   "version": "3.9.19"
  },
  "toc": {
   "base_numbering": 1,
   "nav_menu": {},
   "number_sections": true,
   "sideBar": true,
   "skip_h1_title": true,
   "title_cell": "Table of Contents",
   "title_sidebar": "Contents",
   "toc_cell": false,
   "toc_position": {},
   "toc_section_display": true,
   "toc_window_display": false
  }
 },
 "nbformat": 4,
 "nbformat_minor": 2
}
